{
  "nbformat": 4,
  "nbformat_minor": 0,
  "metadata": {
    "colab": {
      "provenance": []
    },
    "kernelspec": {
      "name": "python3",
      "display_name": "Python 3"
    },
    "language_info": {
      "name": "python"
    }
  },
  "cells": [
    {
      "cell_type": "markdown",
      "source": [
        "1. import library that needed"
      ],
      "metadata": {
        "id": "GM2WaKTAtQjE"
      }
    },
    {
      "cell_type": "code",
      "execution_count": 52,
      "metadata": {
        "id": "qIZVUbaLpE-x"
      },
      "outputs": [],
      "source": [
        "import numpy as np # linear algebra\n",
        "import pandas as pd # data processing, CSV file I/O (e.g. pd.read_csv)\n",
        "import missingno as msno #to handle missing value\n",
        "import matplotlib.pyplot as plt #plot library\n",
        "import seaborn as sns #visualization library\n",
        "from sklearn.impute import KNNImputer #do inputation\n",
        "from sklearn.linear_model import LinearRegression\n",
        "import plotly.graph_objs as go\n",
        "import plotly.express as px\n",
        "from scipy.stats import shapiro\n",
        "from scipy.stats import normaltest\n",
        "from scipy.stats import chi2_contingency\n",
        "from scipy.stats import chi2\n",
        "import scipy.stats as stats\n",
        "from numpy import median\n",
        "from numpy import std\n",
        "from scipy import stats"
      ]
    },
    {
      "cell_type": "markdown",
      "source": [
        "2. Import Dataset"
      ],
      "metadata": {
        "id": "zQR3VlD3tX1z"
      }
    },
    {
      "cell_type": "code",
      "source": [
        "from google.colab import files\n",
        "upload = files.upload()"
      ],
      "metadata": {
        "colab": {
          "base_uri": "https://localhost:8080/",
          "height": 71
        },
        "id": "-HP2QrAh9S-o",
        "outputId": "13d40603-499d-465d-e13d-43753b3d606b"
      },
      "execution_count": 53,
      "outputs": [
        {
          "output_type": "display_data",
          "data": {
            "text/plain": [
              "<IPython.core.display.HTML object>"
            ],
            "text/html": [
              "\n",
              "     <input type=\"file\" id=\"files-a24b63d4-d139-4f3a-b6f1-3e3d8b815603\" name=\"files[]\" multiple disabled\n",
              "        style=\"border:none\" />\n",
              "     <output id=\"result-a24b63d4-d139-4f3a-b6f1-3e3d8b815603\">\n",
              "      Upload widget is only available when the cell has been executed in the\n",
              "      current browser session. Please rerun this cell to enable.\n",
              "      </output>\n",
              "      <script>// Copyright 2017 Google LLC\n",
              "//\n",
              "// Licensed under the Apache License, Version 2.0 (the \"License\");\n",
              "// you may not use this file except in compliance with the License.\n",
              "// You may obtain a copy of the License at\n",
              "//\n",
              "//      http://www.apache.org/licenses/LICENSE-2.0\n",
              "//\n",
              "// Unless required by applicable law or agreed to in writing, software\n",
              "// distributed under the License is distributed on an \"AS IS\" BASIS,\n",
              "// WITHOUT WARRANTIES OR CONDITIONS OF ANY KIND, either express or implied.\n",
              "// See the License for the specific language governing permissions and\n",
              "// limitations under the License.\n",
              "\n",
              "/**\n",
              " * @fileoverview Helpers for google.colab Python module.\n",
              " */\n",
              "(function(scope) {\n",
              "function span(text, styleAttributes = {}) {\n",
              "  const element = document.createElement('span');\n",
              "  element.textContent = text;\n",
              "  for (const key of Object.keys(styleAttributes)) {\n",
              "    element.style[key] = styleAttributes[key];\n",
              "  }\n",
              "  return element;\n",
              "}\n",
              "\n",
              "// Max number of bytes which will be uploaded at a time.\n",
              "const MAX_PAYLOAD_SIZE = 100 * 1024;\n",
              "\n",
              "function _uploadFiles(inputId, outputId) {\n",
              "  const steps = uploadFilesStep(inputId, outputId);\n",
              "  const outputElement = document.getElementById(outputId);\n",
              "  // Cache steps on the outputElement to make it available for the next call\n",
              "  // to uploadFilesContinue from Python.\n",
              "  outputElement.steps = steps;\n",
              "\n",
              "  return _uploadFilesContinue(outputId);\n",
              "}\n",
              "\n",
              "// This is roughly an async generator (not supported in the browser yet),\n",
              "// where there are multiple asynchronous steps and the Python side is going\n",
              "// to poll for completion of each step.\n",
              "// This uses a Promise to block the python side on completion of each step,\n",
              "// then passes the result of the previous step as the input to the next step.\n",
              "function _uploadFilesContinue(outputId) {\n",
              "  const outputElement = document.getElementById(outputId);\n",
              "  const steps = outputElement.steps;\n",
              "\n",
              "  const next = steps.next(outputElement.lastPromiseValue);\n",
              "  return Promise.resolve(next.value.promise).then((value) => {\n",
              "    // Cache the last promise value to make it available to the next\n",
              "    // step of the generator.\n",
              "    outputElement.lastPromiseValue = value;\n",
              "    return next.value.response;\n",
              "  });\n",
              "}\n",
              "\n",
              "/**\n",
              " * Generator function which is called between each async step of the upload\n",
              " * process.\n",
              " * @param {string} inputId Element ID of the input file picker element.\n",
              " * @param {string} outputId Element ID of the output display.\n",
              " * @return {!Iterable<!Object>} Iterable of next steps.\n",
              " */\n",
              "function* uploadFilesStep(inputId, outputId) {\n",
              "  const inputElement = document.getElementById(inputId);\n",
              "  inputElement.disabled = false;\n",
              "\n",
              "  const outputElement = document.getElementById(outputId);\n",
              "  outputElement.innerHTML = '';\n",
              "\n",
              "  const pickedPromise = new Promise((resolve) => {\n",
              "    inputElement.addEventListener('change', (e) => {\n",
              "      resolve(e.target.files);\n",
              "    });\n",
              "  });\n",
              "\n",
              "  const cancel = document.createElement('button');\n",
              "  inputElement.parentElement.appendChild(cancel);\n",
              "  cancel.textContent = 'Cancel upload';\n",
              "  const cancelPromise = new Promise((resolve) => {\n",
              "    cancel.onclick = () => {\n",
              "      resolve(null);\n",
              "    };\n",
              "  });\n",
              "\n",
              "  // Wait for the user to pick the files.\n",
              "  const files = yield {\n",
              "    promise: Promise.race([pickedPromise, cancelPromise]),\n",
              "    response: {\n",
              "      action: 'starting',\n",
              "    }\n",
              "  };\n",
              "\n",
              "  cancel.remove();\n",
              "\n",
              "  // Disable the input element since further picks are not allowed.\n",
              "  inputElement.disabled = true;\n",
              "\n",
              "  if (!files) {\n",
              "    return {\n",
              "      response: {\n",
              "        action: 'complete',\n",
              "      }\n",
              "    };\n",
              "  }\n",
              "\n",
              "  for (const file of files) {\n",
              "    const li = document.createElement('li');\n",
              "    li.append(span(file.name, {fontWeight: 'bold'}));\n",
              "    li.append(span(\n",
              "        `(${file.type || 'n/a'}) - ${file.size} bytes, ` +\n",
              "        `last modified: ${\n",
              "            file.lastModifiedDate ? file.lastModifiedDate.toLocaleDateString() :\n",
              "                                    'n/a'} - `));\n",
              "    const percent = span('0% done');\n",
              "    li.appendChild(percent);\n",
              "\n",
              "    outputElement.appendChild(li);\n",
              "\n",
              "    const fileDataPromise = new Promise((resolve) => {\n",
              "      const reader = new FileReader();\n",
              "      reader.onload = (e) => {\n",
              "        resolve(e.target.result);\n",
              "      };\n",
              "      reader.readAsArrayBuffer(file);\n",
              "    });\n",
              "    // Wait for the data to be ready.\n",
              "    let fileData = yield {\n",
              "      promise: fileDataPromise,\n",
              "      response: {\n",
              "        action: 'continue',\n",
              "      }\n",
              "    };\n",
              "\n",
              "    // Use a chunked sending to avoid message size limits. See b/62115660.\n",
              "    let position = 0;\n",
              "    do {\n",
              "      const length = Math.min(fileData.byteLength - position, MAX_PAYLOAD_SIZE);\n",
              "      const chunk = new Uint8Array(fileData, position, length);\n",
              "      position += length;\n",
              "\n",
              "      const base64 = btoa(String.fromCharCode.apply(null, chunk));\n",
              "      yield {\n",
              "        response: {\n",
              "          action: 'append',\n",
              "          file: file.name,\n",
              "          data: base64,\n",
              "        },\n",
              "      };\n",
              "\n",
              "      let percentDone = fileData.byteLength === 0 ?\n",
              "          100 :\n",
              "          Math.round((position / fileData.byteLength) * 100);\n",
              "      percent.textContent = `${percentDone}% done`;\n",
              "\n",
              "    } while (position < fileData.byteLength);\n",
              "  }\n",
              "\n",
              "  // All done.\n",
              "  yield {\n",
              "    response: {\n",
              "      action: 'complete',\n",
              "    }\n",
              "  };\n",
              "}\n",
              "\n",
              "scope.google = scope.google || {};\n",
              "scope.google.colab = scope.google.colab || {};\n",
              "scope.google.colab._files = {\n",
              "  _uploadFiles,\n",
              "  _uploadFilesContinue,\n",
              "};\n",
              "})(self);\n",
              "</script> "
            ]
          },
          "metadata": {}
        },
        {
          "output_type": "stream",
          "name": "stdout",
          "text": [
            "Saving data_analyst_intern_case_study-dataset.xlsx to data_analyst_intern_case_study-dataset (1).xlsx\n"
          ]
        }
      ]
    },
    {
      "cell_type": "code",
      "source": [
        "data = pd.read_excel('data_analyst_intern_case_study-dataset.xlsx')\n",
        "users = data.copy()\n",
        "pd.set_option('display.max_row',users.shape[0])\n",
        "pd.set_option('display.max_column',users.shape[1])\n",
        "users.head()"
      ],
      "metadata": {
        "colab": {
          "base_uri": "https://localhost:8080/",
          "height": 206
        },
        "id": "1tgQrhPq9S8Q",
        "outputId": "05bd6fc6-b055-495f-e920-d469ddd895a9"
      },
      "execution_count": 54,
      "outputs": [
        {
          "output_type": "execute_result",
          "data": {
            "text/plain": [
              "   ID  Age  Income Education_Level Employment_Status  \\\n",
              "0   1   55  119997     High School           Retired   \n",
              "1   2   61   44571             PhD        Unemployed   \n",
              "2   3   30  111130             PhD          Employed   \n",
              "3   4   26   83848     High School          Employed   \n",
              "4   5   27   31806             PhD           Retired   \n",
              "\n",
              "   Hours_Spent_on_Technology_Per_Day  Exercise_Hours_per_Week  \\\n",
              "0                                4.7                      5.8   \n",
              "1                                2.3                      4.0   \n",
              "2                                7.4                      9.7   \n",
              "3                                4.1                      1.5   \n",
              "4                                3.6                      9.0   \n",
              "\n",
              "   Healthy_Eating_Score Life_Satisfaction  \n",
              "0                     3         Satisfied  \n",
              "1                     2         Satisfied  \n",
              "2                     5     Not Satisfied  \n",
              "3                     1         Satisfied  \n",
              "4                     4           Neutral  "
            ],
            "text/html": [
              "\n",
              "  <div id=\"df-3098f7c6-124e-4491-bfe9-33e0d0902153\" class=\"colab-df-container\">\n",
              "    <div>\n",
              "<style scoped>\n",
              "    .dataframe tbody tr th:only-of-type {\n",
              "        vertical-align: middle;\n",
              "    }\n",
              "\n",
              "    .dataframe tbody tr th {\n",
              "        vertical-align: top;\n",
              "    }\n",
              "\n",
              "    .dataframe thead th {\n",
              "        text-align: right;\n",
              "    }\n",
              "</style>\n",
              "<table border=\"1\" class=\"dataframe\">\n",
              "  <thead>\n",
              "    <tr style=\"text-align: right;\">\n",
              "      <th></th>\n",
              "      <th>ID</th>\n",
              "      <th>Age</th>\n",
              "      <th>Income</th>\n",
              "      <th>Education_Level</th>\n",
              "      <th>Employment_Status</th>\n",
              "      <th>Hours_Spent_on_Technology_Per_Day</th>\n",
              "      <th>Exercise_Hours_per_Week</th>\n",
              "      <th>Healthy_Eating_Score</th>\n",
              "      <th>Life_Satisfaction</th>\n",
              "    </tr>\n",
              "  </thead>\n",
              "  <tbody>\n",
              "    <tr>\n",
              "      <th>0</th>\n",
              "      <td>1</td>\n",
              "      <td>55</td>\n",
              "      <td>119997</td>\n",
              "      <td>High School</td>\n",
              "      <td>Retired</td>\n",
              "      <td>4.7</td>\n",
              "      <td>5.8</td>\n",
              "      <td>3</td>\n",
              "      <td>Satisfied</td>\n",
              "    </tr>\n",
              "    <tr>\n",
              "      <th>1</th>\n",
              "      <td>2</td>\n",
              "      <td>61</td>\n",
              "      <td>44571</td>\n",
              "      <td>PhD</td>\n",
              "      <td>Unemployed</td>\n",
              "      <td>2.3</td>\n",
              "      <td>4.0</td>\n",
              "      <td>2</td>\n",
              "      <td>Satisfied</td>\n",
              "    </tr>\n",
              "    <tr>\n",
              "      <th>2</th>\n",
              "      <td>3</td>\n",
              "      <td>30</td>\n",
              "      <td>111130</td>\n",
              "      <td>PhD</td>\n",
              "      <td>Employed</td>\n",
              "      <td>7.4</td>\n",
              "      <td>9.7</td>\n",
              "      <td>5</td>\n",
              "      <td>Not Satisfied</td>\n",
              "    </tr>\n",
              "    <tr>\n",
              "      <th>3</th>\n",
              "      <td>4</td>\n",
              "      <td>26</td>\n",
              "      <td>83848</td>\n",
              "      <td>High School</td>\n",
              "      <td>Employed</td>\n",
              "      <td>4.1</td>\n",
              "      <td>1.5</td>\n",
              "      <td>1</td>\n",
              "      <td>Satisfied</td>\n",
              "    </tr>\n",
              "    <tr>\n",
              "      <th>4</th>\n",
              "      <td>5</td>\n",
              "      <td>27</td>\n",
              "      <td>31806</td>\n",
              "      <td>PhD</td>\n",
              "      <td>Retired</td>\n",
              "      <td>3.6</td>\n",
              "      <td>9.0</td>\n",
              "      <td>4</td>\n",
              "      <td>Neutral</td>\n",
              "    </tr>\n",
              "  </tbody>\n",
              "</table>\n",
              "</div>\n",
              "    <div class=\"colab-df-buttons\">\n",
              "\n",
              "  <div class=\"colab-df-container\">\n",
              "    <button class=\"colab-df-convert\" onclick=\"convertToInteractive('df-3098f7c6-124e-4491-bfe9-33e0d0902153')\"\n",
              "            title=\"Convert this dataframe to an interactive table.\"\n",
              "            style=\"display:none;\">\n",
              "\n",
              "  <svg xmlns=\"http://www.w3.org/2000/svg\" height=\"24px\" viewBox=\"0 -960 960 960\">\n",
              "    <path d=\"M120-120v-720h720v720H120Zm60-500h600v-160H180v160Zm220 220h160v-160H400v160Zm0 220h160v-160H400v160ZM180-400h160v-160H180v160Zm440 0h160v-160H620v160ZM180-180h160v-160H180v160Zm440 0h160v-160H620v160Z\"/>\n",
              "  </svg>\n",
              "    </button>\n",
              "\n",
              "  <style>\n",
              "    .colab-df-container {\n",
              "      display:flex;\n",
              "      gap: 12px;\n",
              "    }\n",
              "\n",
              "    .colab-df-convert {\n",
              "      background-color: #E8F0FE;\n",
              "      border: none;\n",
              "      border-radius: 50%;\n",
              "      cursor: pointer;\n",
              "      display: none;\n",
              "      fill: #1967D2;\n",
              "      height: 32px;\n",
              "      padding: 0 0 0 0;\n",
              "      width: 32px;\n",
              "    }\n",
              "\n",
              "    .colab-df-convert:hover {\n",
              "      background-color: #E2EBFA;\n",
              "      box-shadow: 0px 1px 2px rgba(60, 64, 67, 0.3), 0px 1px 3px 1px rgba(60, 64, 67, 0.15);\n",
              "      fill: #174EA6;\n",
              "    }\n",
              "\n",
              "    .colab-df-buttons div {\n",
              "      margin-bottom: 4px;\n",
              "    }\n",
              "\n",
              "    [theme=dark] .colab-df-convert {\n",
              "      background-color: #3B4455;\n",
              "      fill: #D2E3FC;\n",
              "    }\n",
              "\n",
              "    [theme=dark] .colab-df-convert:hover {\n",
              "      background-color: #434B5C;\n",
              "      box-shadow: 0px 1px 3px 1px rgba(0, 0, 0, 0.15);\n",
              "      filter: drop-shadow(0px 1px 2px rgba(0, 0, 0, 0.3));\n",
              "      fill: #FFFFFF;\n",
              "    }\n",
              "  </style>\n",
              "\n",
              "    <script>\n",
              "      const buttonEl =\n",
              "        document.querySelector('#df-3098f7c6-124e-4491-bfe9-33e0d0902153 button.colab-df-convert');\n",
              "      buttonEl.style.display =\n",
              "        google.colab.kernel.accessAllowed ? 'block' : 'none';\n",
              "\n",
              "      async function convertToInteractive(key) {\n",
              "        const element = document.querySelector('#df-3098f7c6-124e-4491-bfe9-33e0d0902153');\n",
              "        const dataTable =\n",
              "          await google.colab.kernel.invokeFunction('convertToInteractive',\n",
              "                                                    [key], {});\n",
              "        if (!dataTable) return;\n",
              "\n",
              "        const docLinkHtml = 'Like what you see? Visit the ' +\n",
              "          '<a target=\"_blank\" href=https://colab.research.google.com/notebooks/data_table.ipynb>data table notebook</a>'\n",
              "          + ' to learn more about interactive tables.';\n",
              "        element.innerHTML = '';\n",
              "        dataTable['output_type'] = 'display_data';\n",
              "        await google.colab.output.renderOutput(dataTable, element);\n",
              "        const docLink = document.createElement('div');\n",
              "        docLink.innerHTML = docLinkHtml;\n",
              "        element.appendChild(docLink);\n",
              "      }\n",
              "    </script>\n",
              "  </div>\n",
              "\n",
              "\n",
              "<div id=\"df-f73f4f6d-c63f-4e7f-b55a-1bc254f908aa\">\n",
              "  <button class=\"colab-df-quickchart\" onclick=\"quickchart('df-f73f4f6d-c63f-4e7f-b55a-1bc254f908aa')\"\n",
              "            title=\"Suggest charts\"\n",
              "            style=\"display:none;\">\n",
              "\n",
              "<svg xmlns=\"http://www.w3.org/2000/svg\" height=\"24px\"viewBox=\"0 0 24 24\"\n",
              "     width=\"24px\">\n",
              "    <g>\n",
              "        <path d=\"M19 3H5c-1.1 0-2 .9-2 2v14c0 1.1.9 2 2 2h14c1.1 0 2-.9 2-2V5c0-1.1-.9-2-2-2zM9 17H7v-7h2v7zm4 0h-2V7h2v10zm4 0h-2v-4h2v4z\"/>\n",
              "    </g>\n",
              "</svg>\n",
              "  </button>\n",
              "\n",
              "<style>\n",
              "  .colab-df-quickchart {\n",
              "      --bg-color: #E8F0FE;\n",
              "      --fill-color: #1967D2;\n",
              "      --hover-bg-color: #E2EBFA;\n",
              "      --hover-fill-color: #174EA6;\n",
              "      --disabled-fill-color: #AAA;\n",
              "      --disabled-bg-color: #DDD;\n",
              "  }\n",
              "\n",
              "  [theme=dark] .colab-df-quickchart {\n",
              "      --bg-color: #3B4455;\n",
              "      --fill-color: #D2E3FC;\n",
              "      --hover-bg-color: #434B5C;\n",
              "      --hover-fill-color: #FFFFFF;\n",
              "      --disabled-bg-color: #3B4455;\n",
              "      --disabled-fill-color: #666;\n",
              "  }\n",
              "\n",
              "  .colab-df-quickchart {\n",
              "    background-color: var(--bg-color);\n",
              "    border: none;\n",
              "    border-radius: 50%;\n",
              "    cursor: pointer;\n",
              "    display: none;\n",
              "    fill: var(--fill-color);\n",
              "    height: 32px;\n",
              "    padding: 0;\n",
              "    width: 32px;\n",
              "  }\n",
              "\n",
              "  .colab-df-quickchart:hover {\n",
              "    background-color: var(--hover-bg-color);\n",
              "    box-shadow: 0 1px 2px rgba(60, 64, 67, 0.3), 0 1px 3px 1px rgba(60, 64, 67, 0.15);\n",
              "    fill: var(--button-hover-fill-color);\n",
              "  }\n",
              "\n",
              "  .colab-df-quickchart-complete:disabled,\n",
              "  .colab-df-quickchart-complete:disabled:hover {\n",
              "    background-color: var(--disabled-bg-color);\n",
              "    fill: var(--disabled-fill-color);\n",
              "    box-shadow: none;\n",
              "  }\n",
              "\n",
              "  .colab-df-spinner {\n",
              "    border: 2px solid var(--fill-color);\n",
              "    border-color: transparent;\n",
              "    border-bottom-color: var(--fill-color);\n",
              "    animation:\n",
              "      spin 1s steps(1) infinite;\n",
              "  }\n",
              "\n",
              "  @keyframes spin {\n",
              "    0% {\n",
              "      border-color: transparent;\n",
              "      border-bottom-color: var(--fill-color);\n",
              "      border-left-color: var(--fill-color);\n",
              "    }\n",
              "    20% {\n",
              "      border-color: transparent;\n",
              "      border-left-color: var(--fill-color);\n",
              "      border-top-color: var(--fill-color);\n",
              "    }\n",
              "    30% {\n",
              "      border-color: transparent;\n",
              "      border-left-color: var(--fill-color);\n",
              "      border-top-color: var(--fill-color);\n",
              "      border-right-color: var(--fill-color);\n",
              "    }\n",
              "    40% {\n",
              "      border-color: transparent;\n",
              "      border-right-color: var(--fill-color);\n",
              "      border-top-color: var(--fill-color);\n",
              "    }\n",
              "    60% {\n",
              "      border-color: transparent;\n",
              "      border-right-color: var(--fill-color);\n",
              "    }\n",
              "    80% {\n",
              "      border-color: transparent;\n",
              "      border-right-color: var(--fill-color);\n",
              "      border-bottom-color: var(--fill-color);\n",
              "    }\n",
              "    90% {\n",
              "      border-color: transparent;\n",
              "      border-bottom-color: var(--fill-color);\n",
              "    }\n",
              "  }\n",
              "</style>\n",
              "\n",
              "  <script>\n",
              "    async function quickchart(key) {\n",
              "      const quickchartButtonEl =\n",
              "        document.querySelector('#' + key + ' button');\n",
              "      quickchartButtonEl.disabled = true;  // To prevent multiple clicks.\n",
              "      quickchartButtonEl.classList.add('colab-df-spinner');\n",
              "      try {\n",
              "        const charts = await google.colab.kernel.invokeFunction(\n",
              "            'suggestCharts', [key], {});\n",
              "      } catch (error) {\n",
              "        console.error('Error during call to suggestCharts:', error);\n",
              "      }\n",
              "      quickchartButtonEl.classList.remove('colab-df-spinner');\n",
              "      quickchartButtonEl.classList.add('colab-df-quickchart-complete');\n",
              "    }\n",
              "    (() => {\n",
              "      let quickchartButtonEl =\n",
              "        document.querySelector('#df-f73f4f6d-c63f-4e7f-b55a-1bc254f908aa button');\n",
              "      quickchartButtonEl.style.display =\n",
              "        google.colab.kernel.accessAllowed ? 'block' : 'none';\n",
              "    })();\n",
              "  </script>\n",
              "</div>\n",
              "    </div>\n",
              "  </div>\n"
            ]
          },
          "metadata": {},
          "execution_count": 54
        }
      ]
    },
    {
      "cell_type": "code",
      "source": [
        "data.shape"
      ],
      "metadata": {
        "colab": {
          "base_uri": "https://localhost:8080/"
        },
        "id": "AIzwao5R9S56",
        "outputId": "ad088ab0-7cca-468b-d2ad-0002d3fa6504"
      },
      "execution_count": 55,
      "outputs": [
        {
          "output_type": "execute_result",
          "data": {
            "text/plain": [
              "(500, 9)"
            ]
          },
          "metadata": {},
          "execution_count": 55
        }
      ]
    },
    {
      "cell_type": "code",
      "source": [
        "# Visualize the general missing values of data\n",
        "msno.matrix(data)\n",
        "plt.show()"
      ],
      "metadata": {
        "colab": {
          "base_uri": "https://localhost:8080/",
          "height": 1000
        },
        "id": "VU0OwEyb9S3I",
        "outputId": "c3098543-4dc3-487a-bc7f-dc1a709fadf0"
      },
      "execution_count": 56,
      "outputs": [
        {
          "output_type": "display_data",
          "data": {
            "text/plain": [
              "<Figure size 2500x1000 with 2 Axes>"
            ],
            "image/png": "[encoded data removed]"
          },
          "metadata": {}
        }
      ]
    },
    {
      "cell_type": "markdown",
      "source": [
        "Summary : No missing value"
      ],
      "metadata": {
        "id": "ctLbxPrKebuc"
      }
    },
    {
      "cell_type": "code",
      "source": [
        "missingvalues = data.isnull().sum()\n",
        "print(missingvalues.loc[missingvalues!=0], '\\n')"
      ],
      "metadata": {
        "colab": {
          "base_uri": "https://localhost:8080/"
        },
        "id": "QB4QyYxJ9S0g",
        "outputId": "785befab-8904-4d7b-d64e-2c1d431883bb"
      },
      "execution_count": 57,
      "outputs": [
        {
          "output_type": "stream",
          "name": "stdout",
          "text": [
            "Series([], dtype: int64) \n",
            "\n"
          ]
        }
      ]
    },
    {
      "cell_type": "code",
      "source": [
        "print(data.info())"
      ],
      "metadata": {
        "colab": {
          "base_uri": "https://localhost:8080/"
        },
        "id": "NtVvb6LJ9Sx4",
        "outputId": "b7c10f34-6c20-48f6-afc2-25ccd404d05a"
      },
      "execution_count": 58,
      "outputs": [
        {
          "output_type": "stream",
          "name": "stdout",
          "text": [
            "<class 'pandas.core.frame.DataFrame'>\n",
            "RangeIndex: 500 entries, 0 to 499\n",
            "Data columns (total 9 columns):\n",
            " #   Column                             Non-Null Count  Dtype  \n",
            "---  ------                             --------------  -----  \n",
            " 0   ID                                 500 non-null    int64  \n",
            " 1   Age                                500 non-null    int64  \n",
            " 2   Income                             500 non-null    int64  \n",
            " 3   Education_Level                    500 non-null    object \n",
            " 4   Employment_Status                  500 non-null    object \n",
            " 5   Hours_Spent_on_Technology_Per_Day  500 non-null    float64\n",
            " 6   Exercise_Hours_per_Week            500 non-null    float64\n",
            " 7   Healthy_Eating_Score               500 non-null    int64  \n",
            " 8   Life_Satisfaction                  500 non-null    object \n",
            "dtypes: float64(2), int64(4), object(3)\n",
            "memory usage: 35.3+ KB\n",
            "None\n"
          ]
        }
      ]
    },
    {
      "cell_type": "code",
      "source": [
        "data.describe()"
      ],
      "metadata": {
        "colab": {
          "base_uri": "https://localhost:8080/",
          "height": 300
        },
        "id": "4hLfBYUsb38J",
        "outputId": "d3fa5cf3-ad8f-470f-8b5e-e2916ecd16ef"
      },
      "execution_count": 59,
      "outputs": [
        {
          "output_type": "execute_result",
          "data": {
            "text/plain": [
              "               ID        Age         Income  \\\n",
              "count  500.000000  500.00000     500.000000   \n",
              "mean   250.500000   43.49200   69428.794000   \n",
              "std    144.481833   14.68923   29537.107166   \n",
              "min      1.000000   18.00000   20018.000000   \n",
              "25%    125.750000   31.00000   44261.500000   \n",
              "50%    250.500000   43.00000   67668.500000   \n",
              "75%    375.250000   56.00000   96746.500000   \n",
              "max    500.000000   69.00000  119997.000000   \n",
              "\n",
              "       Hours_Spent_on_Technology_Per_Day  Exercise_Hours_per_Week  \\\n",
              "count                         500.000000               500.000000   \n",
              "mean                            4.075000                 5.196400   \n",
              "std                             2.345583                 2.855629   \n",
              "min                             0.000000                 0.000000   \n",
              "25%                             2.075000                 2.500000   \n",
              "50%                             4.000000                 5.300000   \n",
              "75%                             6.100000                 7.700000   \n",
              "max                             8.000000                10.000000   \n",
              "\n",
              "       Healthy_Eating_Score  \n",
              "count            500.000000  \n",
              "mean               2.954000  \n",
              "std                1.372462  \n",
              "min                1.000000  \n",
              "25%                2.000000  \n",
              "50%                3.000000  \n",
              "75%                4.000000  \n",
              "max                5.000000  "
            ],
            "text/html": [
              "\n",
              "  <div id=\"df-07cddb06-6672-4b2d-bebd-b65b0b6b211d\" class=\"colab-df-container\">\n",
              "    <div>\n",
              "<style scoped>\n",
              "    .dataframe tbody tr th:only-of-type {\n",
              "        vertical-align: middle;\n",
              "    }\n",
              "\n",
              "    .dataframe tbody tr th {\n",
              "        vertical-align: top;\n",
              "    }\n",
              "\n",
              "    .dataframe thead th {\n",
              "        text-align: right;\n",
              "    }\n",
              "</style>\n",
              "<table border=\"1\" class=\"dataframe\">\n",
              "  <thead>\n",
              "    <tr style=\"text-align: right;\">\n",
              "      <th></th>\n",
              "      <th>ID</th>\n",
              "      <th>Age</th>\n",
              "      <th>Income</th>\n",
              "      <th>Hours_Spent_on_Technology_Per_Day</th>\n",
              "      <th>Exercise_Hours_per_Week</th>\n",
              "      <th>Healthy_Eating_Score</th>\n",
              "    </tr>\n",
              "  </thead>\n",
              "  <tbody>\n",
              "    <tr>\n",
              "      <th>count</th>\n",
              "      <td>500.000000</td>\n",
              "      <td>500.00000</td>\n",
              "      <td>500.000000</td>\n",
              "      <td>500.000000</td>\n",
              "      <td>500.000000</td>\n",
              "      <td>500.000000</td>\n",
              "    </tr>\n",
              "    <tr>\n",
              "      <th>mean</th>\n",
              "      <td>250.500000</td>\n",
              "      <td>43.49200</td>\n",
              "      <td>69428.794000</td>\n",
              "      <td>4.075000</td>\n",
              "      <td>5.196400</td>\n",
              "      <td>2.954000</td>\n",
              "    </tr>\n",
              "    <tr>\n",
              "      <th>std</th>\n",
              "      <td>144.481833</td>\n",
              "      <td>14.68923</td>\n",
              "      <td>29537.107166</td>\n",
              "      <td>2.345583</td>\n",
              "      <td>2.855629</td>\n",
              "      <td>1.372462</td>\n",
              "    </tr>\n",
              "    <tr>\n",
              "      <th>min</th>\n",
              "      <td>1.000000</td>\n",
              "      <td>18.00000</td>\n",
              "      <td>20018.000000</td>\n",
              "      <td>0.000000</td>\n",
              "      <td>0.000000</td>\n",
              "      <td>1.000000</td>\n",
              "    </tr>\n",
              "    <tr>\n",
              "      <th>25%</th>\n",
              "      <td>125.750000</td>\n",
              "      <td>31.00000</td>\n",
              "      <td>44261.500000</td>\n",
              "      <td>2.075000</td>\n",
              "      <td>2.500000</td>\n",
              "      <td>2.000000</td>\n",
              "    </tr>\n",
              "    <tr>\n",
              "      <th>50%</th>\n",
              "      <td>250.500000</td>\n",
              "      <td>43.00000</td>\n",
              "      <td>67668.500000</td>\n",
              "      <td>4.000000</td>\n",
              "      <td>5.300000</td>\n",
              "      <td>3.000000</td>\n",
              "    </tr>\n",
              "    <tr>\n",
              "      <th>75%</th>\n",
              "      <td>375.250000</td>\n",
              "      <td>56.00000</td>\n",
              "      <td>96746.500000</td>\n",
              "      <td>6.100000</td>\n",
              "      <td>7.700000</td>\n",
              "      <td>4.000000</td>\n",
              "    </tr>\n",
              "    <tr>\n",
              "      <th>max</th>\n",
              "      <td>500.000000</td>\n",
              "      <td>69.00000</td>\n",
              "      <td>119997.000000</td>\n",
              "      <td>8.000000</td>\n",
              "      <td>10.000000</td>\n",
              "      <td>5.000000</td>\n",
              "    </tr>\n",
              "  </tbody>\n",
              "</table>\n",
              "</div>\n",
              "    <div class=\"colab-df-buttons\">\n",
              "\n",
              "  <div class=\"colab-df-container\">\n",
              "    <button class=\"colab-df-convert\" onclick=\"convertToInteractive('df-07cddb06-6672-4b2d-bebd-b65b0b6b211d')\"\n",
              "            title=\"Convert this dataframe to an interactive table.\"\n",
              "            style=\"display:none;\">\n",
              "\n",
              "  <svg xmlns=\"http://www.w3.org/2000/svg\" height=\"24px\" viewBox=\"0 -960 960 960\">\n",
              "    <path d=\"M120-120v-720h720v720H120Zm60-500h600v-160H180v160Zm220 220h160v-160H400v160Zm0 220h160v-160H400v160ZM180-400h160v-160H180v160Zm440 0h160v-160H620v160ZM180-180h160v-160H180v160Zm440 0h160v-160H620v160Z\"/>\n",
              "  </svg>\n",
              "    </button>\n",
              "\n",
              "  <style>\n",
              "    .colab-df-container {\n",
              "      display:flex;\n",
              "      gap: 12px;\n",
              "    }\n",
              "\n",
              "    .colab-df-convert {\n",
              "      background-color: #E8F0FE;\n",
              "      border: none;\n",
              "      border-radius: 50%;\n",
              "      cursor: pointer;\n",
              "      display: none;\n",
              "      fill: #1967D2;\n",
              "      height: 32px;\n",
              "      padding: 0 0 0 0;\n",
              "      width: 32px;\n",
              "    }\n",
              "\n",
              "    .colab-df-convert:hover {\n",
              "      background-color: #E2EBFA;\n",
              "      box-shadow: 0px 1px 2px rgba(60, 64, 67, 0.3), 0px 1px 3px 1px rgba(60, 64, 67, 0.15);\n",
              "      fill: #174EA6;\n",
              "    }\n",
              "\n",
              "    .colab-df-buttons div {\n",
              "      margin-bottom: 4px;\n",
              "    }\n",
              "\n",
              "    [theme=dark] .colab-df-convert {\n",
              "      background-color: #3B4455;\n",
              "      fill: #D2E3FC;\n",
              "    }\n",
              "\n",
              "    [theme=dark] .colab-df-convert:hover {\n",
              "      background-color: #434B5C;\n",
              "      box-shadow: 0px 1px 3px 1px rgba(0, 0, 0, 0.15);\n",
              "      filter: drop-shadow(0px 1px 2px rgba(0, 0, 0, 0.3));\n",
              "      fill: #FFFFFF;\n",
              "    }\n",
              "  </style>\n",
              "\n",
              "    <script>\n",
              "      const buttonEl =\n",
              "        document.querySelector('#df-07cddb06-6672-4b2d-bebd-b65b0b6b211d button.colab-df-convert');\n",
              "      buttonEl.style.display =\n",
              "        google.colab.kernel.accessAllowed ? 'block' : 'none';\n",
              "\n",
              "      async function convertToInteractive(key) {\n",
              "        const element = document.querySelector('#df-07cddb06-6672-4b2d-bebd-b65b0b6b211d');\n",
              "        const dataTable =\n",
              "          await google.colab.kernel.invokeFunction('convertToInteractive',\n",
              "                                                    [key], {});\n",
              "        if (!dataTable) return;\n",
              "\n",
              "        const docLinkHtml = 'Like what you see? Visit the ' +\n",
              "          '<a target=\"_blank\" href=https://colab.research.google.com/notebooks/data_table.ipynb>data table notebook</a>'\n",
              "          + ' to learn more about interactive tables.';\n",
              "        element.innerHTML = '';\n",
              "        dataTable['output_type'] = 'display_data';\n",
              "        await google.colab.output.renderOutput(dataTable, element);\n",
              "        const docLink = document.createElement('div');\n",
              "        docLink.innerHTML = docLinkHtml;\n",
              "        element.appendChild(docLink);\n",
              "      }\n",
              "    </script>\n",
              "  </div>\n",
              "\n",
              "\n",
              "<div id=\"df-95da2d3c-d16b-407c-b65b-ec270d332437\">\n",
              "  <button class=\"colab-df-quickchart\" onclick=\"quickchart('df-95da2d3c-d16b-407c-b65b-ec270d332437')\"\n",
              "            title=\"Suggest charts\"\n",
              "            style=\"display:none;\">\n",
              "\n",
              "<svg xmlns=\"http://www.w3.org/2000/svg\" height=\"24px\"viewBox=\"0 0 24 24\"\n",
              "     width=\"24px\">\n",
              "    <g>\n",
              "        <path d=\"M19 3H5c-1.1 0-2 .9-2 2v14c0 1.1.9 2 2 2h14c1.1 0 2-.9 2-2V5c0-1.1-.9-2-2-2zM9 17H7v-7h2v7zm4 0h-2V7h2v10zm4 0h-2v-4h2v4z\"/>\n",
              "    </g>\n",
              "</svg>\n",
              "  </button>\n",
              "\n",
              "<style>\n",
              "  .colab-df-quickchart {\n",
              "      --bg-color: #E8F0FE;\n",
              "      --fill-color: #1967D2;\n",
              "      --hover-bg-color: #E2EBFA;\n",
              "      --hover-fill-color: #174EA6;\n",
              "      --disabled-fill-color: #AAA;\n",
              "      --disabled-bg-color: #DDD;\n",
              "  }\n",
              "\n",
              "  [theme=dark] .colab-df-quickchart {\n",
              "      --bg-color: #3B4455;\n",
              "      --fill-color: #D2E3FC;\n",
              "      --hover-bg-color: #434B5C;\n",
              "      --hover-fill-color: #FFFFFF;\n",
              "      --disabled-bg-color: #3B4455;\n",
              "      --disabled-fill-color: #666;\n",
              "  }\n",
              "\n",
              "  .colab-df-quickchart {\n",
              "    background-color: var(--bg-color);\n",
              "    border: none;\n",
              "    border-radius: 50%;\n",
              "    cursor: pointer;\n",
              "    display: none;\n",
              "    fill: var(--fill-color);\n",
              "    height: 32px;\n",
              "    padding: 0;\n",
              "    width: 32px;\n",
              "  }\n",
              "\n",
              "  .colab-df-quickchart:hover {\n",
              "    background-color: var(--hover-bg-color);\n",
              "    box-shadow: 0 1px 2px rgba(60, 64, 67, 0.3), 0 1px 3px 1px rgba(60, 64, 67, 0.15);\n",
              "    fill: var(--button-hover-fill-color);\n",
              "  }\n",
              "\n",
              "  .colab-df-quickchart-complete:disabled,\n",
              "  .colab-df-quickchart-complete:disabled:hover {\n",
              "    background-color: var(--disabled-bg-color);\n",
              "    fill: var(--disabled-fill-color);\n",
              "    box-shadow: none;\n",
              "  }\n",
              "\n",
              "  .colab-df-spinner {\n",
              "    border: 2px solid var(--fill-color);\n",
              "    border-color: transparent;\n",
              "    border-bottom-color: var(--fill-color);\n",
              "    animation:\n",
              "      spin 1s steps(1) infinite;\n",
              "  }\n",
              "\n",
              "  @keyframes spin {\n",
              "    0% {\n",
              "      border-color: transparent;\n",
              "      border-bottom-color: var(--fill-color);\n",
              "      border-left-color: var(--fill-color);\n",
              "    }\n",
              "    20% {\n",
              "      border-color: transparent;\n",
              "      border-left-color: var(--fill-color);\n",
              "      border-top-color: var(--fill-color);\n",
              "    }\n",
              "    30% {\n",
              "      border-color: transparent;\n",
              "      border-left-color: var(--fill-color);\n",
              "      border-top-color: var(--fill-color);\n",
              "      border-right-color: var(--fill-color);\n",
              "    }\n",
              "    40% {\n",
              "      border-color: transparent;\n",
              "      border-right-color: var(--fill-color);\n",
              "      border-top-color: var(--fill-color);\n",
              "    }\n",
              "    60% {\n",
              "      border-color: transparent;\n",
              "      border-right-color: var(--fill-color);\n",
              "    }\n",
              "    80% {\n",
              "      border-color: transparent;\n",
              "      border-right-color: var(--fill-color);\n",
              "      border-bottom-color: var(--fill-color);\n",
              "    }\n",
              "    90% {\n",
              "      border-color: transparent;\n",
              "      border-bottom-color: var(--fill-color);\n",
              "    }\n",
              "  }\n",
              "</style>\n",
              "\n",
              "  <script>\n",
              "    async function quickchart(key) {\n",
              "      const quickchartButtonEl =\n",
              "        document.querySelector('#' + key + ' button');\n",
              "      quickchartButtonEl.disabled = true;  // To prevent multiple clicks.\n",
              "      quickchartButtonEl.classList.add('colab-df-spinner');\n",
              "      try {\n",
              "        const charts = await google.colab.kernel.invokeFunction(\n",
              "            'suggestCharts', [key], {});\n",
              "      } catch (error) {\n",
              "        console.error('Error during call to suggestCharts:', error);\n",
              "      }\n",
              "      quickchartButtonEl.classList.remove('colab-df-spinner');\n",
              "      quickchartButtonEl.classList.add('colab-df-quickchart-complete');\n",
              "    }\n",
              "    (() => {\n",
              "      let quickchartButtonEl =\n",
              "        document.querySelector('#df-95da2d3c-d16b-407c-b65b-ec270d332437 button');\n",
              "      quickchartButtonEl.style.display =\n",
              "        google.colab.kernel.accessAllowed ? 'block' : 'none';\n",
              "    })();\n",
              "  </script>\n",
              "</div>\n",
              "    </div>\n",
              "  </div>\n"
            ]
          },
          "metadata": {},
          "execution_count": 59
        }
      ]
    },
    {
      "cell_type": "code",
      "source": [
        "df = pd.DataFrame(data=data, columns=['Age','Income','Hours_Spent_on_Technology_Per_Day','Exercise_Hours_per_Week','Healthy_Eating_Score'])\n",
        "\n",
        "nd = pd.melt(df, value_vars =df )\n",
        "n1 = sns.FacetGrid (nd, col='variable', col_wrap=4, sharex=False, sharey = False)\n",
        "n1 = n1.map(sns.histplot, 'value')\n",
        "n1"
      ],
      "metadata": {
        "colab": {
          "base_uri": "https://localhost:8080/",
          "height": 624
        },
        "id": "410tYaKl9SvR",
        "outputId": "735c3099-ec26-439a-fec6-690758c457be"
      },
      "execution_count": 60,
      "outputs": [
        {
          "output_type": "execute_result",
          "data": {
            "text/plain": [
              "<seaborn.axisgrid.FacetGrid at 0x7c6497206e60>"
            ]
          },
          "metadata": {},
          "execution_count": 60
        },
        {
          "output_type": "display_data",
          "data": {
            "text/plain": [
              "<Figure size 1200x600 with 5 Axes>"
            ],
            "image/png": "[encoded data removed]"
          },
          "metadata": {}
        }
      ]
    },
    {
      "cell_type": "code",
      "source": [
        "df = data[['Age','Income','Hours_Spent_on_Technology_Per_Day','Exercise_Hours_per_Week','Healthy_Eating_Score']]\n",
        "\n",
        "fig = px.box(df.melt(), y=\"value\", facet_col=\"variable\",facet_col_wrap=2, boxmode=\"overlay\", color=\"variable\",height=1000, width=900)\n",
        "fig.update_yaxes(matches=None)\n",
        "\n",
        "for i in range(len(fig[\"data\"])):\n",
        "    yaxis_name = 'yaxis' if i == 0 else f'yaxis{i + 1}'\n",
        "    fig.layout[yaxis_name].showticklabels = True\n",
        "\n",
        "fig.update_layout(showlegend=False)\n",
        "fig.update_xaxes(showline=True, linewidth=2, linecolor='grey')\n",
        "fig.update_yaxes(showline=True, linewidth=2, linecolor='grey')\n",
        "\n",
        "fig.show()"
      ],
      "metadata": {
        "colab": {
          "base_uri": "https://localhost:8080/",
          "height": 1000
        },
        "id": "zv-z5BfZ9Ssg",
        "outputId": "6d562c31-af95-4fa5-8d6f-5f105b23fc49"
      },
      "execution_count": 61,
      "outputs": [
        {
          "output_type": "display_data",
          "data": {
            "text/html": [
              "<html>\n",
              "<head><meta charset=\"utf-8\" /></head>\n",
              "<body>\n",
              "    <div>            <script src=\"https://cdnjs.cloudflare.com/ajax/libs/mathjax/2.7.5/MathJax.js?config=TeX-AMS-MML_SVG\"></script><script type=\"text/javascript\">if (window.MathJax && window.MathJax.Hub && window.MathJax.Hub.Config) {window.MathJax.Hub.Config({SVG: {font: \"STIX-Web\"}});}</script>                <script type=\"text/javascript\">window.PlotlyConfig = {MathJaxConfig: 'local'};</script>\n",
              "        <script charset=\"utf-8\" src=\"https://cdn.plot.ly/plotly-2.24.1.min.js\"></script>                <div id=\"217e9ff3-1b30-4e60-88dc-3cc4bc285f3c\" class=\"plotly-graph-div\" style=\"height:1000px; width:900px;\"></div>            <script type=\"text/javascript\">                                    window.PLOTLYENV=window.PLOTLYENV || {};                                    if (document.getElementById(\"217e9ff3-1b30-4e60-88dc-3cc4bc285f3c\")) {                    Plotly.newPlot(                        \"217e9ff3-1b30-4e60-88dc-3cc4bc285f3c\",                        [{\"alignmentgroup\":\"True\",\"hovertemplate\":\"variable=Age\\u003cbr\\u003evalue=%{y}\\u003cextra\\u003e\\u003c\\u002fextra\\u003e\",\"legendgroup\":\"Age\",\"marker\":{\"color\":\"#636efa\"},\"name\":\"Age\",\"notched\":false,\"offsetgroup\":\"Age\",\"orientation\":\"v\",\"showlegend\":true,\"x0\":\" \",\"xaxis\":\"x5\",\"y\":[55.0,61.0,30.0,26.0,27.0,29.0,23.0,33.0,18.0,34.0,19.0,30.0,25.0,63.0,24.0,43.0,68.0,38.0,55.0,36.0,38.0,29.0,60.0,46.0,47.0,32.0,68.0,22.0,41.0,41.0,59.0,67.0,48.0,50.0,40.0,31.0,59.0,27.0,25.0,40.0,19.0,18.0,35.0,26.0,42.0,31.0,69.0,65.0,60.0,26.0,48.0,25.0,21.0,24.0,39.0,67.0,21.0,22.0,42.0,67.0,61.0,30.0,44.0,34.0,63.0,69.0,59.0,36.0,33.0,18.0,22.0,43.0,65.0,52.0,41.0,25.0,44.0,43.0,58.0,40.0,27.0,21.0,57.0,41.0,54.0,45.0,55.0,37.0,56.0,26.0,50.0,52.0,28.0,41.0,33.0,65.0,41.0,43.0,25.0,69.0,46.0,28.0,64.0,50.0,42.0,41.0,19.0,67.0,31.0,21.0,18.0,31.0,24.0,39.0,24.0,20.0,30.0,45.0,39.0,29.0,25.0,31.0,26.0,29.0,30.0,61.0,38.0,48.0,54.0,57.0,25.0,63.0,22.0,66.0,36.0,50.0,31.0,28.0,41.0,35.0,25.0,42.0,28.0,46.0,38.0,50.0,30.0,19.0,48.0,59.0,42.0,36.0,69.0,51.0,20.0,62.0,46.0,57.0,52.0,28.0,50.0,59.0,36.0,40.0,24.0,20.0,25.0,57.0,66.0,33.0,23.0,35.0,60.0,38.0,66.0,40.0,55.0,31.0,67.0,68.0,51.0,38.0,28.0,50.0,43.0,39.0,57.0,50.0,37.0,43.0,67.0,32.0,31.0,38.0,61.0,24.0,31.0,33.0,42.0,27.0,20.0,25.0,23.0,54.0,55.0,39.0,58.0,31.0,45.0,67.0,67.0,65.0,31.0,58.0,32.0,63.0,41.0,34.0,46.0,60.0,63.0,21.0,20.0,32.0,64.0,18.0,47.0,29.0,53.0,47.0,51.0,20.0,38.0,37.0,66.0,50.0,46.0,36.0,49.0,46.0,48.0,28.0,26.0,63.0,53.0,50.0,26.0,38.0,31.0,68.0,33.0,59.0,18.0,62.0,37.0,42.0,67.0,60.0,38.0,62.0,33.0,48.0,45.0,32.0,69.0,37.0,44.0,61.0,40.0,25.0,53.0,65.0,64.0,69.0,52.0,54.0,54.0,50.0,37.0,21.0,42.0,37.0,55.0,48.0,56.0,65.0,57.0,23.0,33.0,67.0,41.0,50.0,60.0,28.0,20.0,42.0,52.0,48.0,35.0,22.0,18.0,32.0,35.0,57.0,53.0,35.0,46.0,40.0,56.0,59.0,28.0,31.0,24.0,43.0,56.0,66.0,66.0,68.0,62.0,59.0,18.0,40.0,34.0,37.0,27.0,66.0,46.0,69.0,65.0,28.0,22.0,41.0,32.0,39.0,64.0,21.0,42.0,34.0,64.0,33.0,25.0,32.0,31.0,33.0,43.0,38.0,39.0,68.0,64.0,47.0,62.0,55.0,40.0,45.0,30.0,30.0,44.0,30.0,25.0,41.0,57.0,61.0,30.0,68.0,56.0,45.0,66.0,23.0,52.0,51.0,61.0,44.0,23.0,27.0,43.0,45.0,61.0,19.0,36.0,48.0,50.0,44.0,38.0,48.0,57.0,18.0,40.0,52.0,21.0,24.0,30.0,57.0,56.0,37.0,65.0,66.0,24.0,31.0,54.0,41.0,40.0,20.0,46.0,60.0,49.0,27.0,59.0,42.0,63.0,47.0,30.0,36.0,60.0,29.0,59.0,54.0,66.0,34.0,48.0,69.0,60.0,38.0,53.0,59.0,35.0,20.0,39.0,47.0,54.0,63.0,64.0,34.0,45.0,26.0,46.0,20.0,53.0,31.0,59.0,54.0,54.0,58.0,36.0,51.0,56.0,69.0,64.0,58.0,43.0,57.0,66.0,55.0,20.0,52.0,46.0,32.0,29.0,60.0,44.0,58.0,39.0,34.0,46.0,55.0,59.0,63.0,58.0,60.0,29.0,40.0,24.0,50.0,32.0,54.0,41.0,29.0,53.0,50.0,64.0,45.0,67.0,56.0,18.0,40.0,51.0,24.0,54.0,36.0,45.0,46.0,55.0,56.0,68.0,48.0,68.0,64.0,25.0,39.0,34.0,57.0],\"y0\":\" \",\"yaxis\":\"y5\",\"type\":\"box\"},{\"alignmentgroup\":\"True\",\"hovertemplate\":\"variable=Income\\u003cbr\\u003evalue=%{y}\\u003cextra\\u003e\\u003c\\u002fextra\\u003e\",\"legendgroup\":\"Income\",\"marker\":{\"color\":\"#EF553B\"},\"name\":\"Income\",\"notched\":false,\"offsetgroup\":\"Income\",\"orientation\":\"v\",\"showlegend\":true,\"x0\":\" \",\"xaxis\":\"x6\",\"y\":[119997.0,44571.0,111130.0,83848.0,31806.0,53712.0,117438.0,33719.0,119036.0,45280.0,22791.0,113324.0,57521.0,114970.0,61377.0,98346.0,34313.0,49643.0,76197.0,36209.0,80037.0,85578.0,111734.0,79193.0,53080.0,109943.0,28186.0,20373.0,119025.0,69034.0,27880.0,58704.0,26645.0,35123.0,25516.0,93881.0,110445.0,96560.0,58148.0,89592.0,94614.0,90299.0,22994.0,62627.0,54490.0,80940.0,98978.0,21888.0,117597.0,78767.0,65412.0,106522.0,36202.0,86718.0,81371.0,28336.0,54655.0,33920.0,111068.0,35787.0,89356.0,96063.0,114819.0,112952.0,35893.0,78259.0,60781.0,101441.0,46628.0,22599.0,51811.0,84674.0,112322.0,106058.0,105838.0,63730.0,101766.0,88646.0,48336.0,42225.0,68638.0,105222.0,26645.0,43944.0,110408.0,57061.0,84005.0,37870.0,104773.0,110985.0,61294.0,27713.0,112699.0,114899.0,100973.0,61899.0,20174.0,37417.0,49507.0,90454.0,21983.0,29443.0,29808.0,88892.0,54240.0,58309.0,74237.0,53170.0,91015.0,104956.0,107092.0,111950.0,110175.0,117915.0,60669.0,37042.0,58392.0,25159.0,96572.0,37974.0,33671.0,67450.0,106972.0,112010.0,52839.0,62587.0,61863.0,88988.0,36851.0,81624.0,44115.0,96704.0,98540.0,113286.0,98003.0,105142.0,112421.0,41979.0,40575.0,80777.0,23478.0,27884.0,96916.0,86925.0,39478.0,107014.0,83890.0,97842.0,20052.0,97946.0,61698.0,37875.0,44953.0,66813.0,79565.0,30987.0,49619.0,67887.0,117479.0,29904.0,44988.0,109811.0,41275.0,46411.0,79539.0,42095.0,94566.0,57208.0,21018.0,103467.0,74501.0,62433.0,116861.0,53039.0,52738.0,62838.0,39903.0,85450.0,64694.0,119437.0,48114.0,81608.0,90316.0,22923.0,103174.0,40352.0,40720.0,23425.0,103026.0,109975.0,29159.0,96276.0,60974.0,114884.0,78272.0,45473.0,37752.0,73026.0,108926.0,59445.0,38628.0,80355.0,105680.0,109206.0,72577.0,77995.0,82900.0,33132.0,41060.0,79565.0,27360.0,98376.0,106791.0,119079.0,65302.0,74561.0,33882.0,61223.0,77506.0,22180.0,35749.0,79325.0,44694.0,100743.0,96978.0,116844.0,63437.0,82816.0,114101.0,20114.0,48029.0,52071.0,61692.0,112911.0,61625.0,105481.0,106263.0,85377.0,57889.0,61229.0,40596.0,112373.0,94139.0,44230.0,80577.0,27937.0,111134.0,103359.0,118549.0,114321.0,76946.0,26172.0,34027.0,109714.0,82495.0,68307.0,24162.0,101731.0,32106.0,70080.0,85505.0,100645.0,51653.0,62350.0,87948.0,48440.0,59056.0,118685.0,100736.0,79616.0,49993.0,46776.0,73525.0,63001.0,46915.0,76638.0,97693.0,37952.0,109133.0,52600.0,39370.0,114265.0,95417.0,72000.0,24456.0,99905.0,117782.0,24742.0,81633.0,101203.0,70719.0,33563.0,32429.0,76447.0,38063.0,63805.0,74850.0,38159.0,85597.0,72947.0,25074.0,115138.0,69950.0,108249.0,30336.0,92625.0,23580.0,49486.0,59721.0,34612.0,20504.0,27208.0,62872.0,44062.0,100888.0,83620.0,84636.0,30624.0,115450.0,54299.0,96874.0,72373.0,47041.0,40343.0,66246.0,73029.0,31819.0,88711.0,21449.0,101989.0,80102.0,99895.0,99574.0,43591.0,60991.0,72517.0,75480.0,35191.0,79292.0,50116.0,34914.0,48426.0,119796.0,100768.0,26942.0,52643.0,72732.0,93678.0,47500.0,69851.0,72789.0,91542.0,42469.0,63825.0,61418.0,33163.0,65742.0,71355.0,94401.0,52584.0,55367.0,98752.0,82447.0,62849.0,59815.0,108609.0,100830.0,101997.0,75211.0,92765.0,108917.0,24644.0,102700.0,82970.0,22485.0,79254.0,37690.0,59762.0,112133.0,47386.0,73119.0,102403.0,89132.0,21769.0,52025.0,115851.0,54359.0,48096.0,66735.0,56316.0,31560.0,103260.0,102098.0,23744.0,59130.0,57140.0,58196.0,110662.0,36833.0,44272.0,77273.0,25940.0,39545.0,31027.0,91646.0,109664.0,82463.0,55882.0,58703.0,61057.0,57926.0,46618.0,113068.0,81296.0,20018.0,87533.0,84461.0,20472.0,63500.0,60410.0,86855.0,75567.0,109381.0,111622.0,118468.0,24450.0,36511.0,32275.0,89870.0,83520.0,26814.0,118277.0,103975.0,55952.0,23122.0,66770.0,44570.0,78528.0,55627.0,51657.0,74273.0,31858.0,47313.0,115569.0,112114.0,63743.0,24861.0,32693.0,81970.0,106702.0,46796.0,102651.0,96937.0,59300.0,58989.0,69663.0,85343.0,95927.0,63103.0,76507.0,34973.0,115296.0,52722.0,23487.0,29857.0,36468.0,25353.0,74340.0,51798.0,91123.0,28603.0,103706.0,73816.0,34940.0,30167.0,71053.0,75217.0,82600.0,44394.0,66424.0,110578.0,78373.0,110991.0,85194.0,31054.0,33845.0,58835.0,76905.0,63917.0,37042.0,45751.0,105549.0,51284.0,76225.0,97753.0,118632.0,118241.0,62262.0,63010.0,59169.0],\"y0\":\" \",\"yaxis\":\"y6\",\"type\":\"box\"},{\"alignmentgroup\":\"True\",\"hovertemplate\":\"variable=Hours_Spent_on_Technology_Per_Day\\u003cbr\\u003evalue=%{y}\\u003cextra\\u003e\\u003c\\u002fextra\\u003e\",\"legendgroup\":\"Hours_Spent_on_Technology_Per_Day\",\"marker\":{\"color\":\"#00cc96\"},\"name\":\"Hours_Spent_on_Technology_Per_Day\",\"notched\":false,\"offsetgroup\":\"Hours_Spent_on_Technology_Per_Day\",\"orientation\":\"v\",\"showlegend\":true,\"x0\":\" \",\"xaxis\":\"x3\",\"y\":[4.7,2.3,7.4,4.1,3.6,4.7,2.1,2.4,3.0,2.0,4.7,5.6,0.6,7.8,6.0,6.4,6.0,0.6,3.9,3.6,5.4,3.6,5.6,5.5,5.6,4.9,1.2,6.1,6.2,7.2,1.9,1.4,3.1,2.6,6.5,4.9,6.1,3.4,0.8,0.9,3.0,1.6,6.6,4.8,5.5,3.9,0.7,1.9,3.7,1.6,0.2,5.8,5.8,2.6,6.7,3.4,6.9,5.3,4.6,1.6,4.2,7.2,2.4,7.0,7.3,2.6,5.5,7.2,0.6,7.0,1.5,6.8,5.3,2.8,1.2,5.1,6.8,6.6,5.0,7.7,4.7,1.6,3.4,2.7,7.9,3.0,7.9,4.2,1.4,0.6,3.0,1.0,5.1,3.3,7.9,7.4,1.2,3.2,3.7,4.5,6.2,3.9,3.4,2.1,7.3,0.2,6.6,1.5,5.5,2.8,7.8,1.0,1.5,7.1,4.7,2.5,0.0,1.8,1.2,1.6,7.2,7.0,5.6,3.8,6.6,4.0,2.9,2.2,7.4,3.1,3.9,2.0,7.1,3.1,2.4,5.7,1.5,0.9,6.7,6.0,4.7,1.9,5.0,5.1,2.6,0.5,7.0,3.7,6.1,2.0,4.7,3.4,3.1,1.0,2.0,0.6,2.4,5.9,4.9,5.4,0.1,5.4,4.0,1.8,1.4,1.5,6.8,7.9,7.3,2.8,6.2,4.4,6.5,3.9,4.7,6.3,0.8,4.3,2.9,4.8,7.7,3.1,3.1,6.3,5.2,3.2,5.5,3.2,1.1,3.6,2.7,1.7,7.4,5.5,4.8,6.0,4.3,5.6,7.4,6.9,1.3,2.1,0.6,7.8,1.9,5.3,0.7,1.7,4.0,0.8,3.1,4.3,2.7,4.4,4.3,3.1,5.6,5.4,5.5,4.5,2.9,4.9,7.5,4.8,7.8,3.5,5.9,0.3,6.1,4.1,0.0,2.2,4.3,6.1,0.4,4.4,6.4,5.2,7.5,0.6,2.2,7.4,6.1,4.8,6.7,7.2,7.8,8.0,1.1,0.6,0.6,0.1,7.8,0.8,6.7,5.5,3.9,2.8,2.8,2.0,7.3,5.8,0.2,3.7,2.3,0.2,7.1,6.2,2.6,6.4,2.6,2.5,7.4,7.8,4.2,7.6,7.1,4.1,3.0,5.7,3.6,4.8,7.9,6.2,2.7,0.7,1.5,4.2,3.3,6.4,7.5,1.4,6.9,7.7,7.7,0.3,0.5,0.0,2.5,0.4,2.4,2.8,7.6,3.8,2.2,4.0,5.1,0.9,6.1,6.8,6.8,7.1,3.1,3.6,0.8,1.8,7.8,2.3,7.3,7.1,7.4,1.2,7.0,5.1,1.7,2.8,1.3,3.6,0.7,1.3,1.6,5.5,4.6,7.0,2.0,5.0,0.3,4.1,6.9,7.9,0.1,2.0,1.8,0.4,0.1,3.9,0.4,2.2,5.1,2.4,2.2,4.7,3.0,5.6,4.0,5.1,2.8,2.3,1.1,7.5,6.4,7.5,1.5,7.5,7.5,2.3,2.2,4.4,1.5,3.5,1.5,7.6,4.0,7.7,5.2,3.9,7.7,1.1,5.1,5.3,3.5,0.5,3.9,3.7,6.5,2.1,3.1,1.9,5.5,7.9,1.4,6.6,1.8,0.5,1.1,7.5,7.1,2.3,7.6,6.8,3.5,3.7,5.0,1.3,0.1,2.1,0.1,5.4,4.4,2.6,6.2,1.2,2.0,2.3,1.6,0.7,7.0,0.7,5.5,1.0,0.1,4.5,7.3,6.9,2.7,0.2,6.4,6.4,6.9,5.4,6.5,7.2,3.6,4.5,4.0,5.5,5.5,4.2,6.6,4.0,6.6,2.3,1.4,7.8,5.9,2.1,4.6,7.6,0.6,0.7,5.0,1.8,6.1,4.5,5.3,0.9,0.7,5.0,3.3,0.7,3.0,5.4,1.5,7.2,7.6,7.7,5.8,3.3,5.9,2.3,2.5,4.8,4.8,7.0,2.0,6.1,7.5,0.0,3.8,5.3,6.7,1.5,6.8,2.9,7.1,0.2,0.7,7.9,4.9,3.3,1.4,5.2,0.3,2.5,2.6,4.9,5.2,6.8,7.4,5.3],\"y0\":\" \",\"yaxis\":\"y3\",\"type\":\"box\"},{\"alignmentgroup\":\"True\",\"hovertemplate\":\"variable=Exercise_Hours_per_Week\\u003cbr\\u003evalue=%{y}\\u003cextra\\u003e\\u003c\\u002fextra\\u003e\",\"legendgroup\":\"Exercise_Hours_per_Week\",\"marker\":{\"color\":\"#ab63fa\"},\"name\":\"Exercise_Hours_per_Week\",\"notched\":false,\"offsetgroup\":\"Exercise_Hours_per_Week\",\"orientation\":\"v\",\"showlegend\":true,\"x0\":\" \",\"xaxis\":\"x4\",\"y\":[5.8,4.0,9.7,1.5,9.0,3.1,5.5,6.8,2.4,1.7,5.1,7.9,6.9,1.2,9.0,4.8,9.5,5.5,0.8,2.0,8.5,7.1,8.9,3.3,5.3,6.5,5.9,2.3,4.3,2.5,8.5,9.9,0.7,7.1,3.3,6.3,2.6,6.5,3.7,2.9,9.1,9.4,6.1,2.1,9.4,7.5,7.5,2.1,8.3,2.4,6.3,7.1,7.4,3.9,7.6,9.0,5.9,0.9,1.3,1.1,1.7,1.3,7.8,0.4,2.4,8.8,9.7,6.1,9.8,0.4,9.5,3.1,8.0,8.1,8.6,4.6,9.3,2.6,9.3,6.2,9.9,0.3,7.3,5.7,4.9,2.6,3.3,2.5,2.2,8.0,5.0,0.8,7.8,5.3,7.4,5.2,4.0,9.9,0.3,9.3,9.3,3.9,2.1,6.2,1.8,8.0,2.5,2.9,9.2,9.0,5.4,8.6,3.5,10.0,4.3,2.9,0.4,9.9,4.6,7.3,6.4,7.2,0.5,9.2,9.3,5.5,9.6,2.8,6.0,4.0,6.3,3.0,8.2,0.7,0.4,0.5,1.5,4.0,9.6,1.1,6.5,5.3,3.5,2.0,2.2,0.4,7.1,6.5,4.4,7.2,1.1,9.4,8.5,6.6,3.8,4.2,4.8,9.4,8.6,4.8,5.5,8.8,9.5,6.4,7.5,3.5,9.2,8.4,5.5,8.7,8.5,8.1,1.3,5.4,9.0,7.7,4.2,9.8,2.5,3.3,9.5,8.1,9.0,0.1,3.8,2.4,3.0,7.4,7.2,4.6,3.7,5.8,5.3,5.5,6.2,4.0,7.7,2.5,6.6,9.6,0.0,7.2,1.1,5.4,6.3,2.4,9.1,6.2,2.3,7.7,1.1,5.6,0.9,5.8,2.5,6.5,7.2,5.2,6.6,8.1,8.1,6.2,4.5,4.1,8.7,7.0,1.8,5.7,9.1,1.5,8.5,8.2,5.0,0.4,1.5,9.2,0.4,3.7,6.2,2.0,9.8,1.6,5.4,6.2,2.3,4.7,4.9,7.7,6.3,4.7,6.7,4.5,5.3,6.6,1.8,7.9,6.0,9.8,2.2,4.7,9.0,6.0,7.3,4.1,6.8,9.5,2.0,8.1,9.7,0.1,2.2,1.2,7.7,0.8,10.0,3.9,9.1,1.9,4.4,8.4,6.0,4.6,5.1,5.7,4.4,1.9,1.1,1.5,0.5,5.6,8.5,3.6,0.8,4.3,6.0,4.3,8.1,9.4,8.7,7.0,4.7,6.8,0.1,9.8,1.7,9.1,8.1,8.0,2.7,2.2,4.3,8.5,4.5,9.4,3.5,6.2,9.8,6.4,0.5,4.6,3.3,5.3,2.8,1.2,6.7,6.8,8.7,1.3,8.0,8.3,6.5,2.0,2.6,4.2,5.4,4.8,4.7,8.4,8.7,8.2,8.8,5.7,9.6,6.1,6.0,3.2,6.8,0.5,1.3,1.3,6.6,1.8,3.4,0.4,2.3,9.6,5.1,1.5,5.2,9.4,8.7,3.9,2.8,7.6,2.4,2.5,0.8,8.6,4.5,5.6,7.4,8.0,4.5,1.8,8.3,0.3,9.5,5.8,8.8,6.1,2.5,3.0,5.3,9.6,1.8,5.1,3.4,7.7,8.0,4.2,2.0,0.7,2.0,2.7,6.0,8.7,1.3,9.6,6.8,7.4,9.8,4.2,5.3,6.8,5.1,3.0,1.1,2.8,7.7,6.4,8.0,5.2,2.3,6.3,3.0,0.3,9.0,4.2,4.3,7.4,9.5,0.7,1.7,3.2,2.5,5.0,8.2,8.5,6.0,2.4,1.9,7.4,2.4,5.4,7.5,2.3,1.7,0.4,1.5,8.5,1.0,2.2,0.3,6.8,2.3,4.1,1.4,3.8,4.2,4.7,4.2,1.0,7.7,1.4,4.2,2.7,3.0,6.7,5.2,1.9,4.7,3.4,7.0,2.3,8.4,5.3,5.0,2.5,1.9,4.7,9.8,1.3,2.8,8.0,6.6,2.8,3.1,4.2,6.0,7.2,8.6,6.8,2.4,9.3,7.8,3.1,3.0,8.8,1.3,6.3,2.8,8.3,3.6,7.3,1.9,4.8,8.0,4.0,1.6,6.5],\"y0\":\" \",\"yaxis\":\"y4\",\"type\":\"box\"},{\"alignmentgroup\":\"True\",\"hovertemplate\":\"variable=Healthy_Eating_Score\\u003cbr\\u003evalue=%{y}\\u003cextra\\u003e\\u003c\\u002fextra\\u003e\",\"legendgroup\":\"Healthy_Eating_Score\",\"marker\":{\"color\":\"#FFA15A\"},\"name\":\"Healthy_Eating_Score\",\"notched\":false,\"offsetgroup\":\"Healthy_Eating_Score\",\"orientation\":\"v\",\"showlegend\":true,\"x0\":\" \",\"xaxis\":\"x\",\"y\":[3.0,2.0,5.0,1.0,4.0,3.0,5.0,4.0,3.0,4.0,4.0,5.0,4.0,4.0,4.0,5.0,2.0,5.0,4.0,1.0,2.0,5.0,2.0,3.0,1.0,1.0,4.0,4.0,4.0,5.0,3.0,3.0,5.0,5.0,4.0,1.0,3.0,3.0,3.0,3.0,3.0,3.0,1.0,2.0,4.0,2.0,1.0,2.0,5.0,5.0,5.0,3.0,2.0,2.0,4.0,1.0,3.0,3.0,5.0,1.0,3.0,3.0,5.0,5.0,1.0,2.0,1.0,3.0,3.0,1.0,2.0,2.0,2.0,3.0,4.0,4.0,3.0,1.0,1.0,2.0,3.0,1.0,4.0,5.0,5.0,4.0,4.0,4.0,1.0,1.0,3.0,2.0,1.0,4.0,3.0,3.0,2.0,5.0,1.0,5.0,2.0,5.0,5.0,3.0,4.0,1.0,3.0,1.0,4.0,3.0,2.0,3.0,5.0,1.0,4.0,1.0,2.0,2.0,3.0,2.0,2.0,3.0,1.0,4.0,5.0,1.0,2.0,5.0,3.0,2.0,1.0,1.0,2.0,1.0,3.0,4.0,1.0,3.0,4.0,5.0,4.0,3.0,4.0,3.0,2.0,2.0,5.0,2.0,3.0,1.0,5.0,3.0,1.0,3.0,1.0,3.0,1.0,2.0,1.0,2.0,1.0,2.0,4.0,5.0,2.0,5.0,1.0,2.0,3.0,4.0,5.0,4.0,4.0,3.0,5.0,3.0,4.0,5.0,3.0,2.0,5.0,4.0,3.0,1.0,1.0,3.0,3.0,5.0,1.0,2.0,3.0,4.0,5.0,2.0,2.0,5.0,5.0,5.0,5.0,4.0,1.0,5.0,3.0,3.0,5.0,1.0,4.0,5.0,2.0,5.0,1.0,1.0,2.0,5.0,2.0,2.0,1.0,4.0,1.0,2.0,3.0,5.0,1.0,2.0,5.0,4.0,4.0,1.0,1.0,1.0,3.0,3.0,2.0,4.0,3.0,4.0,4.0,3.0,5.0,3.0,3.0,5.0,5.0,2.0,5.0,5.0,3.0,5.0,1.0,3.0,4.0,4.0,2.0,1.0,2.0,5.0,2.0,2.0,3.0,3.0,1.0,3.0,5.0,3.0,3.0,3.0,3.0,3.0,5.0,5.0,3.0,4.0,2.0,3.0,2.0,2.0,1.0,1.0,5.0,1.0,4.0,5.0,4.0,4.0,3.0,1.0,3.0,2.0,5.0,5.0,1.0,3.0,3.0,2.0,4.0,1.0,3.0,2.0,2.0,1.0,2.0,5.0,2.0,1.0,3.0,2.0,3.0,1.0,4.0,2.0,2.0,1.0,4.0,3.0,2.0,5.0,5.0,3.0,2.0,1.0,1.0,4.0,2.0,3.0,5.0,5.0,1.0,4.0,3.0,2.0,2.0,1.0,3.0,1.0,4.0,1.0,1.0,3.0,5.0,2.0,1.0,3.0,4.0,2.0,3.0,3.0,3.0,4.0,3.0,3.0,4.0,4.0,5.0,5.0,2.0,1.0,5.0,1.0,2.0,4.0,4.0,5.0,1.0,3.0,3.0,4.0,3.0,3.0,1.0,4.0,4.0,3.0,1.0,4.0,5.0,3.0,1.0,4.0,4.0,1.0,5.0,3.0,4.0,3.0,5.0,5.0,2.0,3.0,3.0,4.0,1.0,4.0,2.0,3.0,1.0,2.0,3.0,3.0,1.0,1.0,1.0,3.0,4.0,4.0,5.0,3.0,1.0,3.0,4.0,4.0,2.0,4.0,5.0,2.0,1.0,5.0,5.0,3.0,4.0,2.0,4.0,2.0,1.0,1.0,3.0,5.0,3.0,3.0,4.0,3.0,4.0,3.0,2.0,4.0,4.0,1.0,5.0,5.0,1.0,5.0,3.0,2.0,4.0,1.0,4.0,4.0,2.0,4.0,3.0,4.0,3.0,3.0,3.0,1.0,2.0,3.0,3.0,2.0,1.0,4.0,1.0,4.0,3.0,1.0,5.0,1.0,4.0,5.0,4.0,3.0,3.0,5.0,1.0,1.0,2.0,5.0,3.0,2.0,2.0,2.0,3.0,2.0,1.0,1.0,4.0,4.0,3.0,3.0,2.0,2.0,1.0,5.0,5.0,1.0,3.0,3.0,1.0,2.0,4.0,2.0],\"y0\":\" \",\"yaxis\":\"y\",\"type\":\"box\"}],                        {\"template\":{\"data\":{\"histogram2dcontour\":[{\"type\":\"histogram2dcontour\",\"colorbar\":{\"outlinewidth\":0,\"ticks\":\"\"},\"colorscale\":[[0.0,\"#0d0887\"],[0.1111111111111111,\"#46039f\"],[0.2222222222222222,\"#7201a8\"],[0.3333333333333333,\"#9c179e\"],[0.4444444444444444,\"#bd3786\"],[0.5555555555555556,\"#d8576b\"],[0.6666666666666666,\"#ed7953\"],[0.7777777777777778,\"#fb9f3a\"],[0.8888888888888888,\"#fdca26\"],[1.0,\"#f0f921\"]]}],\"choropleth\":[{\"type\":\"choropleth\",\"colorbar\":{\"outlinewidth\":0,\"ticks\":\"\"}}],\"histogram2d\":[{\"type\":\"histogram2d\",\"colorbar\":{\"outlinewidth\":0,\"ticks\":\"\"},\"colorscale\":[[0.0,\"#0d0887\"],[0.1111111111111111,\"#46039f\"],[0.2222222222222222,\"#7201a8\"],[0.3333333333333333,\"#9c179e\"],[0.4444444444444444,\"#bd3786\"],[0.5555555555555556,\"#d8576b\"],[0.6666666666666666,\"#ed7953\"],[0.7777777777777778,\"#fb9f3a\"],[0.8888888888888888,\"#fdca26\"],[1.0,\"#f0f921\"]]}],\"heatmap\":[{\"type\":\"heatmap\",\"colorbar\":{\"outlinewidth\":0,\"ticks\":\"\"},\"colorscale\":[[0.0,\"#0d0887\"],[0.1111111111111111,\"#46039f\"],[0.2222222222222222,\"#7201a8\"],[0.3333333333333333,\"#9c179e\"],[0.4444444444444444,\"#bd3786\"],[0.5555555555555556,\"#d8576b\"],[0.6666666666666666,\"#ed7953\"],[0.7777777777777778,\"#fb9f3a\"],[0.8888888888888888,\"#fdca26\"],[1.0,\"#f0f921\"]]}],\"heatmapgl\":[{\"type\":\"heatmapgl\",\"colorbar\":{\"outlinewidth\":0,\"ticks\":\"\"},\"colorscale\":[[0.0,\"#0d0887\"],[0.1111111111111111,\"#46039f\"],[0.2222222222222222,\"#7201a8\"],[0.3333333333333333,\"#9c179e\"],[0.4444444444444444,\"#bd3786\"],[0.5555555555555556,\"#d8576b\"],[0.6666666666666666,\"#ed7953\"],[0.7777777777777778,\"#fb9f3a\"],[0.8888888888888888,\"#fdca26\"],[1.0,\"#f0f921\"]]}],\"contourcarpet\":[{\"type\":\"contourcarpet\",\"colorbar\":{\"outlinewidth\":0,\"ticks\":\"\"}}],\"contour\":[{\"type\":\"contour\",\"colorbar\":{\"outlinewidth\":0,\"ticks\":\"\"},\"colorscale\":[[0.0,\"#0d0887\"],[0.1111111111111111,\"#46039f\"],[0.2222222222222222,\"#7201a8\"],[0.3333333333333333,\"#9c179e\"],[0.4444444444444444,\"#bd3786\"],[0.5555555555555556,\"#d8576b\"],[0.6666666666666666,\"#ed7953\"],[0.7777777777777778,\"#fb9f3a\"],[0.8888888888888888,\"#fdca26\"],[1.0,\"#f0f921\"]]}],\"surface\":[{\"type\":\"surface\",\"colorbar\":{\"outlinewidth\":0,\"ticks\":\"\"},\"colorscale\":[[0.0,\"#0d0887\"],[0.1111111111111111,\"#46039f\"],[0.2222222222222222,\"#7201a8\"],[0.3333333333333333,\"#9c179e\"],[0.4444444444444444,\"#bd3786\"],[0.5555555555555556,\"#d8576b\"],[0.6666666666666666,\"#ed7953\"],[0.7777777777777778,\"#fb9f3a\"],[0.8888888888888888,\"#fdca26\"],[1.0,\"#f0f921\"]]}],\"mesh3d\":[{\"type\":\"mesh3d\",\"colorbar\":{\"outlinewidth\":0,\"ticks\":\"\"}}],\"scatter\":[{\"fillpattern\":{\"fillmode\":\"overlay\",\"size\":10,\"solidity\":0.2},\"type\":\"scatter\"}],\"parcoords\":[{\"type\":\"parcoords\",\"line\":{\"colorbar\":{\"outlinewidth\":0,\"ticks\":\"\"}}}],\"scatterpolargl\":[{\"type\":\"scatterpolargl\",\"marker\":{\"colorbar\":{\"outlinewidth\":0,\"ticks\":\"\"}}}],\"bar\":[{\"error_x\":{\"color\":\"#2a3f5f\"},\"error_y\":{\"color\":\"#2a3f5f\"},\"marker\":{\"line\":{\"color\":\"#E5ECF6\",\"width\":0.5},\"pattern\":{\"fillmode\":\"overlay\",\"size\":10,\"solidity\":0.2}},\"type\":\"bar\"}],\"scattergeo\":[{\"type\":\"scattergeo\",\"marker\":{\"colorbar\":{\"outlinewidth\":0,\"ticks\":\"\"}}}],\"scatterpolar\":[{\"type\":\"scatterpolar\",\"marker\":{\"colorbar\":{\"outlinewidth\":0,\"ticks\":\"\"}}}],\"histogram\":[{\"marker\":{\"pattern\":{\"fillmode\":\"overlay\",\"size\":10,\"solidity\":0.2}},\"type\":\"histogram\"}],\"scattergl\":[{\"type\":\"scattergl\",\"marker\":{\"colorbar\":{\"outlinewidth\":0,\"ticks\":\"\"}}}],\"scatter3d\":[{\"type\":\"scatter3d\",\"line\":{\"colorbar\":{\"outlinewidth\":0,\"ticks\":\"\"}},\"marker\":{\"colorbar\":{\"outlinewidth\":0,\"ticks\":\"\"}}}],\"scattermapbox\":[{\"type\":\"scattermapbox\",\"marker\":{\"colorbar\":{\"outlinewidth\":0,\"ticks\":\"\"}}}],\"scatterternary\":[{\"type\":\"scatterternary\",\"marker\":{\"colorbar\":{\"outlinewidth\":0,\"ticks\":\"\"}}}],\"scattercarpet\":[{\"type\":\"scattercarpet\",\"marker\":{\"colorbar\":{\"outlinewidth\":0,\"ticks\":\"\"}}}],\"carpet\":[{\"aaxis\":{\"endlinecolor\":\"#2a3f5f\",\"gridcolor\":\"white\",\"linecolor\":\"white\",\"minorgridcolor\":\"white\",\"startlinecolor\":\"#2a3f5f\"},\"baxis\":{\"endlinecolor\":\"#2a3f5f\",\"gridcolor\":\"white\",\"linecolor\":\"white\",\"minorgridcolor\":\"white\",\"startlinecolor\":\"#2a3f5f\"},\"type\":\"carpet\"}],\"table\":[{\"cells\":{\"fill\":{\"color\":\"#EBF0F8\"},\"line\":{\"color\":\"white\"}},\"header\":{\"fill\":{\"color\":\"#C8D4E3\"},\"line\":{\"color\":\"white\"}},\"type\":\"table\"}],\"barpolar\":[{\"marker\":{\"line\":{\"color\":\"#E5ECF6\",\"width\":0.5},\"pattern\":{\"fillmode\":\"overlay\",\"size\":10,\"solidity\":0.2}},\"type\":\"barpolar\"}],\"pie\":[{\"automargin\":true,\"type\":\"pie\"}]},\"layout\":{\"autotypenumbers\":\"strict\",\"colorway\":[\"#636efa\",\"#EF553B\",\"#00cc96\",\"#ab63fa\",\"#FFA15A\",\"#19d3f3\",\"#FF6692\",\"#B6E880\",\"#FF97FF\",\"#FECB52\"],\"font\":{\"color\":\"#2a3f5f\"},\"hovermode\":\"closest\",\"hoverlabel\":{\"align\":\"left\"},\"paper_bgcolor\":\"white\",\"plot_bgcolor\":\"#E5ECF6\",\"polar\":{\"bgcolor\":\"#E5ECF6\",\"angularaxis\":{\"gridcolor\":\"white\",\"linecolor\":\"white\",\"ticks\":\"\"},\"radialaxis\":{\"gridcolor\":\"white\",\"linecolor\":\"white\",\"ticks\":\"\"}},\"ternary\":{\"bgcolor\":\"#E5ECF6\",\"aaxis\":{\"gridcolor\":\"white\",\"linecolor\":\"white\",\"ticks\":\"\"},\"baxis\":{\"gridcolor\":\"white\",\"linecolor\":\"white\",\"ticks\":\"\"},\"caxis\":{\"gridcolor\":\"white\",\"linecolor\":\"white\",\"ticks\":\"\"}},\"coloraxis\":{\"colorbar\":{\"outlinewidth\":0,\"ticks\":\"\"}},\"colorscale\":{\"sequential\":[[0.0,\"#0d0887\"],[0.1111111111111111,\"#46039f\"],[0.2222222222222222,\"#7201a8\"],[0.3333333333333333,\"#9c179e\"],[0.4444444444444444,\"#bd3786\"],[0.5555555555555556,\"#d8576b\"],[0.6666666666666666,\"#ed7953\"],[0.7777777777777778,\"#fb9f3a\"],[0.8888888888888888,\"#fdca26\"],[1.0,\"#f0f921\"]],\"sequentialminus\":[[0.0,\"#0d0887\"],[0.1111111111111111,\"#46039f\"],[0.2222222222222222,\"#7201a8\"],[0.3333333333333333,\"#9c179e\"],[0.4444444444444444,\"#bd3786\"],[0.5555555555555556,\"#d8576b\"],[0.6666666666666666,\"#ed7953\"],[0.7777777777777778,\"#fb9f3a\"],[0.8888888888888888,\"#fdca26\"],[1.0,\"#f0f921\"]],\"diverging\":[[0,\"#8e0152\"],[0.1,\"#c51b7d\"],[0.2,\"#de77ae\"],[0.3,\"#f1b6da\"],[0.4,\"#fde0ef\"],[0.5,\"#f7f7f7\"],[0.6,\"#e6f5d0\"],[0.7,\"#b8e186\"],[0.8,\"#7fbc41\"],[0.9,\"#4d9221\"],[1,\"#276419\"]]},\"xaxis\":{\"gridcolor\":\"white\",\"linecolor\":\"white\",\"ticks\":\"\",\"title\":{\"standoff\":15},\"zerolinecolor\":\"white\",\"automargin\":true,\"zerolinewidth\":2},\"yaxis\":{\"gridcolor\":\"white\",\"linecolor\":\"white\",\"ticks\":\"\",\"title\":{\"standoff\":15},\"zerolinecolor\":\"white\",\"automargin\":true,\"zerolinewidth\":2},\"scene\":{\"xaxis\":{\"backgroundcolor\":\"#E5ECF6\",\"gridcolor\":\"white\",\"linecolor\":\"white\",\"showbackground\":true,\"ticks\":\"\",\"zerolinecolor\":\"white\",\"gridwidth\":2},\"yaxis\":{\"backgroundcolor\":\"#E5ECF6\",\"gridcolor\":\"white\",\"linecolor\":\"white\",\"showbackground\":true,\"ticks\":\"\",\"zerolinecolor\":\"white\",\"gridwidth\":2},\"zaxis\":{\"backgroundcolor\":\"#E5ECF6\",\"gridcolor\":\"white\",\"linecolor\":\"white\",\"showbackground\":true,\"ticks\":\"\",\"zerolinecolor\":\"white\",\"gridwidth\":2}},\"shapedefaults\":{\"line\":{\"color\":\"#2a3f5f\"}},\"annotationdefaults\":{\"arrowcolor\":\"#2a3f5f\",\"arrowhead\":0,\"arrowwidth\":1},\"geo\":{\"bgcolor\":\"white\",\"landcolor\":\"#E5ECF6\",\"subunitcolor\":\"white\",\"showland\":true,\"showlakes\":true,\"lakecolor\":\"white\"},\"title\":{\"x\":0.05},\"mapbox\":{\"style\":\"light\"}}},\"xaxis\":{\"anchor\":\"y\",\"domain\":[0.0,0.49],\"showline\":true,\"linewidth\":2,\"linecolor\":\"grey\"},\"yaxis\":{\"anchor\":\"x\",\"domain\":[0.0,0.2866666666666666],\"title\":{\"text\":\"value\"},\"showticklabels\":true,\"showline\":true,\"linewidth\":2,\"linecolor\":\"grey\"},\"xaxis2\":{\"anchor\":\"y2\",\"domain\":[0.51,1.0],\"matches\":\"x\",\"showline\":true,\"linewidth\":2,\"linecolor\":\"grey\"},\"yaxis2\":{\"anchor\":\"x2\",\"domain\":[0.0,0.2866666666666666],\"showticklabels\":true,\"showline\":true,\"linewidth\":2,\"linecolor\":\"grey\"},\"xaxis3\":{\"anchor\":\"y3\",\"domain\":[0.0,0.49],\"matches\":\"x\",\"showticklabels\":false,\"showline\":true,\"linewidth\":2,\"linecolor\":\"grey\"},\"yaxis3\":{\"anchor\":\"x3\",\"domain\":[0.35666666666666663,0.6433333333333333],\"title\":{\"text\":\"value\"},\"showticklabels\":true,\"showline\":true,\"linewidth\":2,\"linecolor\":\"grey\"},\"xaxis4\":{\"anchor\":\"y4\",\"domain\":[0.51,1.0],\"matches\":\"x\",\"showticklabels\":false,\"showline\":true,\"linewidth\":2,\"linecolor\":\"grey\"},\"yaxis4\":{\"anchor\":\"x4\",\"domain\":[0.35666666666666663,0.6433333333333333],\"showticklabels\":true,\"showline\":true,\"linewidth\":2,\"linecolor\":\"grey\"},\"xaxis5\":{\"anchor\":\"y5\",\"domain\":[0.0,0.49],\"matches\":\"x\",\"showticklabels\":false,\"showline\":true,\"linewidth\":2,\"linecolor\":\"grey\"},\"yaxis5\":{\"anchor\":\"x5\",\"domain\":[0.7133333333333333,0.9999999999999999],\"title\":{\"text\":\"value\"},\"showticklabels\":true,\"showline\":true,\"linewidth\":2,\"linecolor\":\"grey\"},\"xaxis6\":{\"anchor\":\"y6\",\"domain\":[0.51,1.0],\"matches\":\"x\",\"showticklabels\":false,\"showline\":true,\"linewidth\":2,\"linecolor\":\"grey\"},\"yaxis6\":{\"anchor\":\"x6\",\"domain\":[0.7133333333333333,0.9999999999999999],\"showticklabels\":false,\"showline\":true,\"linewidth\":2,\"linecolor\":\"grey\"},\"annotations\":[{\"font\":{},\"showarrow\":false,\"text\":\"variable=Healthy_Eating_Score\",\"x\":0.245,\"xanchor\":\"center\",\"xref\":\"paper\",\"y\":0.2866666666666666,\"yanchor\":\"bottom\",\"yref\":\"paper\"},{\"font\":{},\"showarrow\":false,\"text\":\"variable=Hours_Spent_on_Technology_Per_Day\",\"x\":0.245,\"xanchor\":\"center\",\"xref\":\"paper\",\"y\":0.6433333333333333,\"yanchor\":\"bottom\",\"yref\":\"paper\"},{\"font\":{},\"showarrow\":false,\"text\":\"variable=Exercise_Hours_per_Week\",\"x\":0.755,\"xanchor\":\"center\",\"xref\":\"paper\",\"y\":0.6433333333333333,\"yanchor\":\"bottom\",\"yref\":\"paper\"},{\"font\":{},\"showarrow\":false,\"text\":\"variable=Age\",\"x\":0.245,\"xanchor\":\"center\",\"xref\":\"paper\",\"y\":0.9999999999999999,\"yanchor\":\"bottom\",\"yref\":\"paper\"},{\"font\":{},\"showarrow\":false,\"text\":\"variable=Income\",\"x\":0.755,\"xanchor\":\"center\",\"xref\":\"paper\",\"y\":0.9999999999999999,\"yanchor\":\"bottom\",\"yref\":\"paper\"}],\"legend\":{\"title\":{\"text\":\"variable\"},\"tracegroupgap\":0},\"margin\":{\"t\":60},\"boxmode\":\"overlay\",\"height\":1000,\"width\":900,\"showlegend\":false},                        {\"responsive\": true}                    ).then(function(){\n",
              "                            \n",
              "var gd = document.getElementById('217e9ff3-1b30-4e60-88dc-3cc4bc285f3c');\n",
              "var x = new MutationObserver(function (mutations, observer) {{\n",
              "        var display = window.getComputedStyle(gd).display;\n",
              "        if (!display || display === 'none') {{\n",
              "            console.log([gd, 'removed!']);\n",
              "            Plotly.purge(gd);\n",
              "            observer.disconnect();\n",
              "        }}\n",
              "}});\n",
              "\n",
              "// Listen for the removal of the full notebook cells\n",
              "var notebookContainer = gd.closest('#notebook-container');\n",
              "if (notebookContainer) {{\n",
              "    x.observe(notebookContainer, {childList: true});\n",
              "}}\n",
              "\n",
              "// Listen for the clearing of the current output cell\n",
              "var outputEl = gd.closest('.output');\n",
              "if (outputEl) {{\n",
              "    x.observe(outputEl, {childList: true});\n",
              "}}\n",
              "\n",
              "                        })                };                            </script>        </div>\n",
              "</body>\n",
              "</html>"
            ]
          },
          "metadata": {}
        }
      ]
    },
    {
      "cell_type": "code",
      "source": [
        "plt.figure(figsize=(10,5))\n",
        "sns.heatmap(df.corr(),annot=True)"
      ],
      "metadata": {
        "colab": {
          "base_uri": "https://localhost:8080/",
          "height": 714
        },
        "id": "u1oV30Ap9SqD",
        "outputId": "5ac9d9a1-1797-4c43-9934-275d0a0bbabb"
      },
      "execution_count": 62,
      "outputs": [
        {
          "output_type": "execute_result",
          "data": {
            "text/plain": [
              "<Axes: >"
            ]
          },
          "metadata": {},
          "execution_count": 62
        },
        {
          "output_type": "display_data",
          "data": {
            "text/plain": [
              "<Figure size 1000x500 with 2 Axes>"
            ],
            "image/png": "[encoded data removed]"
          },
          "metadata": {}
        }
      ]
    },
    {
      "cell_type": "markdown",
      "source": [
        "Histogram Visualization (Education level distribution by income level)"
      ],
      "metadata": {
        "id": "5XdPgUeP-jyY"
      }
    },
    {
      "cell_type": "code",
      "source": [
        "plot= data[['Income','Education_Level']]\n",
        "category_orders={\"Education_Level\":[\"High School\",\"Bachelor\",\"Master\",\"PhD\"]}\n",
        "fig = px.histogram(plot, x=\"Education_Level\",y=\"Income\",  histfunc='avg',category_orders=category_orders)\n",
        "fig.show()"
      ],
      "metadata": {
        "colab": {
          "base_uri": "https://localhost:8080/",
          "height": 542
        },
        "id": "v7wb5T_l9Sng",
        "outputId": "4f7256a2-6c94-42b8-d64b-56a744a7fae8"
      },
      "execution_count": 63,
      "outputs": [
        {
          "output_type": "display_data",
          "data": {
            "text/html": [
              "<html>\n",
              "<head><meta charset=\"utf-8\" /></head>\n",
              "<body>\n",
              "    <div>            <script src=\"https://cdnjs.cloudflare.com/ajax/libs/mathjax/2.7.5/MathJax.js?config=TeX-AMS-MML_SVG\"></script><script type=\"text/javascript\">if (window.MathJax && window.MathJax.Hub && window.MathJax.Hub.Config) {window.MathJax.Hub.Config({SVG: {font: \"STIX-Web\"}});}</script>                <script type=\"text/javascript\">window.PlotlyConfig = {MathJaxConfig: 'local'};</script>\n",
              "        <script charset=\"utf-8\" src=\"https://cdn.plot.ly/plotly-2.24.1.min.js\"></script>                <div id=\"8ff65d77-291f-4214-92c6-dc99b50423e7\" class=\"plotly-graph-div\" style=\"height:525px; width:100%;\"></div>            <script type=\"text/javascript\">                                    window.PLOTLYENV=window.PLOTLYENV || {};                                    if (document.getElementById(\"8ff65d77-291f-4214-92c6-dc99b50423e7\")) {                    Plotly.newPlot(                        \"8ff65d77-291f-4214-92c6-dc99b50423e7\",                        [{\"alignmentgroup\":\"True\",\"bingroup\":\"x\",\"histfunc\":\"avg\",\"hovertemplate\":\"Education_Level=%{x}\\u003cbr\\u003eavg of Income=%{y}\\u003cextra\\u003e\\u003c\\u002fextra\\u003e\",\"legendgroup\":\"\",\"marker\":{\"color\":\"#636efa\",\"pattern\":{\"shape\":\"\"}},\"name\":\"\",\"offsetgroup\":\"\",\"orientation\":\"v\",\"showlegend\":false,\"x\":[\"High School\",\"PhD\",\"PhD\",\"High School\",\"PhD\",\"Bachelor\",\"Master\",\"High School\",\"High School\",\"Master\",\"PhD\",\"PhD\",\"Bachelor\",\"PhD\",\"Bachelor\",\"PhD\",\"Master\",\"Master\",\"Bachelor\",\"Bachelor\",\"PhD\",\"PhD\",\"Master\",\"Master\",\"PhD\",\"Bachelor\",\"Master\",\"PhD\",\"PhD\",\"PhD\",\"PhD\",\"Master\",\"Bachelor\",\"Bachelor\",\"PhD\",\"High School\",\"High School\",\"Bachelor\",\"High School\",\"Master\",\"High School\",\"Master\",\"High School\",\"Bachelor\",\"Bachelor\",\"PhD\",\"High School\",\"PhD\",\"PhD\",\"Master\",\"PhD\",\"PhD\",\"Master\",\"High School\",\"Master\",\"PhD\",\"Master\",\"High School\",\"High School\",\"Bachelor\",\"PhD\",\"Bachelor\",\"Master\",\"High School\",\"PhD\",\"Bachelor\",\"High School\",\"Bachelor\",\"Master\",\"Bachelor\",\"High School\",\"PhD\",\"PhD\",\"Bachelor\",\"Bachelor\",\"Bachelor\",\"PhD\",\"Master\",\"Master\",\"Bachelor\",\"Bachelor\",\"Bachelor\",\"Master\",\"PhD\",\"Bachelor\",\"Master\",\"Master\",\"Bachelor\",\"High School\",\"PhD\",\"Bachelor\",\"PhD\",\"High School\",\"High School\",\"PhD\",\"PhD\",\"Master\",\"PhD\",\"High School\",\"Bachelor\",\"Master\",\"High School\",\"PhD\",\"High School\",\"Bachelor\",\"Master\",\"Master\",\"PhD\",\"Bachelor\",\"Bachelor\",\"Bachelor\",\"Master\",\"High School\",\"PhD\",\"PhD\",\"Bachelor\",\"High School\",\"Bachelor\",\"High School\",\"Master\",\"High School\",\"PhD\",\"Master\",\"PhD\",\"PhD\",\"Bachelor\",\"Bachelor\",\"PhD\",\"Master\",\"Master\",\"PhD\",\"High School\",\"High School\",\"PhD\",\"High School\",\"High School\",\"Master\",\"Master\",\"Master\",\"Master\",\"High School\",\"PhD\",\"PhD\",\"Master\",\"Master\",\"PhD\",\"PhD\",\"High School\",\"Bachelor\",\"PhD\",\"Master\",\"Master\",\"PhD\",\"Master\",\"High School\",\"Bachelor\",\"Master\",\"PhD\",\"Bachelor\",\"Bachelor\",\"Bachelor\",\"Master\",\"Master\",\"Bachelor\",\"High School\",\"Master\",\"PhD\",\"PhD\",\"High School\",\"Bachelor\",\"PhD\",\"Master\",\"Master\",\"Bachelor\",\"PhD\",\"Bachelor\",\"Master\",\"High School\",\"PhD\",\"High School\",\"Bachelor\",\"Bachelor\",\"Master\",\"Master\",\"High School\",\"PhD\",\"High School\",\"Master\",\"Bachelor\",\"Master\",\"PhD\",\"PhD\",\"High School\",\"Master\",\"Bachelor\",\"Master\",\"High School\",\"Master\",\"Master\",\"High School\",\"Master\",\"High School\",\"Master\",\"High School\",\"Bachelor\",\"Master\",\"Master\",\"High School\",\"PhD\",\"High School\",\"High School\",\"PhD\",\"High School\",\"High School\",\"Bachelor\",\"Bachelor\",\"High School\",\"PhD\",\"Bachelor\",\"PhD\",\"PhD\",\"Master\",\"Bachelor\",\"Master\",\"PhD\",\"High School\",\"PhD\",\"Bachelor\",\"High School\",\"High School\",\"Bachelor\",\"High School\",\"PhD\",\"Bachelor\",\"Bachelor\",\"High School\",\"Master\",\"High School\",\"Bachelor\",\"Master\",\"Bachelor\",\"PhD\",\"Master\",\"PhD\",\"High School\",\"PhD\",\"PhD\",\"PhD\",\"High School\",\"Bachelor\",\"High School\",\"High School\",\"Master\",\"PhD\",\"High School\",\"PhD\",\"PhD\",\"PhD\",\"High School\",\"High School\",\"High School\",\"Master\",\"Master\",\"PhD\",\"High School\",\"PhD\",\"High School\",\"Master\",\"Master\",\"Master\",\"High School\",\"Bachelor\",\"Master\",\"PhD\",\"High School\",\"Master\",\"Master\",\"PhD\",\"Bachelor\",\"Master\",\"PhD\",\"Bachelor\",\"High School\",\"Master\",\"Bachelor\",\"Master\",\"High School\",\"Master\",\"High School\",\"Master\",\"Bachelor\",\"High School\",\"Bachelor\",\"High School\",\"PhD\",\"High School\",\"Master\",\"Master\",\"Master\",\"High School\",\"Master\",\"Master\",\"Bachelor\",\"Bachelor\",\"Bachelor\",\"High School\",\"Master\",\"High School\",\"Bachelor\",\"Master\",\"Master\",\"PhD\",\"Bachelor\",\"Bachelor\",\"Master\",\"Master\",\"PhD\",\"Master\",\"PhD\",\"High School\",\"Bachelor\",\"Bachelor\",\"PhD\",\"Master\",\"PhD\",\"PhD\",\"High School\",\"Bachelor\",\"Bachelor\",\"Bachelor\",\"Master\",\"High School\",\"PhD\",\"Master\",\"Bachelor\",\"High School\",\"High School\",\"High School\",\"High School\",\"Master\",\"High School\",\"Master\",\"Master\",\"High School\",\"Bachelor\",\"PhD\",\"PhD\",\"Bachelor\",\"PhD\",\"Master\",\"Bachelor\",\"PhD\",\"Master\",\"Master\",\"Bachelor\",\"Master\",\"PhD\",\"Master\",\"Master\",\"High School\",\"High School\",\"PhD\",\"Bachelor\",\"High School\",\"PhD\",\"PhD\",\"Bachelor\",\"Bachelor\",\"Master\",\"Master\",\"PhD\",\"Bachelor\",\"Master\",\"High School\",\"High School\",\"PhD\",\"Bachelor\",\"Master\",\"Master\",\"Bachelor\",\"Master\",\"Master\",\"Bachelor\",\"Master\",\"PhD\",\"High School\",\"High School\",\"PhD\",\"PhD\",\"PhD\",\"PhD\",\"Master\",\"Bachelor\",\"High School\",\"Master\",\"Master\",\"Bachelor\",\"Bachelor\",\"High School\",\"PhD\",\"Master\",\"Bachelor\",\"PhD\",\"Bachelor\",\"PhD\",\"Bachelor\",\"High School\",\"PhD\",\"PhD\",\"Bachelor\",\"PhD\",\"Master\",\"PhD\",\"Bachelor\",\"PhD\",\"Bachelor\",\"PhD\",\"Bachelor\",\"PhD\",\"PhD\",\"High School\",\"Master\",\"PhD\",\"High School\",\"Bachelor\",\"Master\",\"Bachelor\",\"PhD\",\"High School\",\"Master\",\"Bachelor\",\"Master\",\"Bachelor\",\"Master\",\"High School\",\"PhD\",\"PhD\",\"Bachelor\",\"PhD\",\"Bachelor\",\"High School\",\"Master\",\"Master\",\"Bachelor\",\"Master\",\"PhD\",\"Master\",\"PhD\",\"Master\",\"PhD\",\"PhD\",\"Bachelor\",\"PhD\",\"Master\",\"High School\",\"PhD\",\"Master\",\"Master\",\"High School\",\"PhD\",\"High School\",\"Master\",\"PhD\",\"PhD\",\"High School\",\"Bachelor\",\"PhD\",\"Master\",\"Master\",\"Master\",\"PhD\",\"PhD\",\"PhD\",\"High School\",\"Master\",\"High School\",\"High School\",\"PhD\",\"High School\",\"Master\",\"Master\",\"Master\",\"Bachelor\",\"Master\",\"High School\",\"Master\",\"Bachelor\",\"PhD\",\"PhD\",\"High School\",\"PhD\",\"High School\",\"High School\",\"PhD\",\"PhD\",\"Master\",\"Master\",\"PhD\",\"Bachelor\",\"High School\"],\"xaxis\":\"x\",\"y\":[119997,44571,111130,83848,31806,53712,117438,33719,119036,45280,22791,113324,57521,114970,61377,98346,34313,49643,76197,36209,80037,85578,111734,79193,53080,109943,28186,20373,119025,69034,27880,58704,26645,35123,25516,93881,110445,96560,58148,89592,94614,90299,22994,62627,54490,80940,98978,21888,117597,78767,65412,106522,36202,86718,81371,28336,54655,33920,111068,35787,89356,96063,114819,112952,35893,78259,60781,101441,46628,22599,51811,84674,112322,106058,105838,63730,101766,88646,48336,42225,68638,105222,26645,43944,110408,57061,84005,37870,104773,110985,61294,27713,112699,114899,100973,61899,20174,37417,49507,90454,21983,29443,29808,88892,54240,58309,74237,53170,91015,104956,107092,111950,110175,117915,60669,37042,58392,25159,96572,37974,33671,67450,106972,112010,52839,62587,61863,88988,36851,81624,44115,96704,98540,113286,98003,105142,112421,41979,40575,80777,23478,27884,96916,86925,39478,107014,83890,97842,20052,97946,61698,37875,44953,66813,79565,30987,49619,67887,117479,29904,44988,109811,41275,46411,79539,42095,94566,57208,21018,103467,74501,62433,116861,53039,52738,62838,39903,85450,64694,119437,48114,81608,90316,22923,103174,40352,40720,23425,103026,109975,29159,96276,60974,114884,78272,45473,37752,73026,108926,59445,38628,80355,105680,109206,72577,77995,82900,33132,41060,79565,27360,98376,106791,119079,65302,74561,33882,61223,77506,22180,35749,79325,44694,100743,96978,116844,63437,82816,114101,20114,48029,52071,61692,112911,61625,105481,106263,85377,57889,61229,40596,112373,94139,44230,80577,27937,111134,103359,118549,114321,76946,26172,34027,109714,82495,68307,24162,101731,32106,70080,85505,100645,51653,62350,87948,48440,59056,118685,100736,79616,49993,46776,73525,63001,46915,76638,97693,37952,109133,52600,39370,114265,95417,72000,24456,99905,117782,24742,81633,101203,70719,33563,32429,76447,38063,63805,74850,38159,85597,72947,25074,115138,69950,108249,30336,92625,23580,49486,59721,34612,20504,27208,62872,44062,100888,83620,84636,30624,115450,54299,96874,72373,47041,40343,66246,73029,31819,88711,21449,101989,80102,99895,99574,43591,60991,72517,75480,35191,79292,50116,34914,48426,119796,100768,26942,52643,72732,93678,47500,69851,72789,91542,42469,63825,61418,33163,65742,71355,94401,52584,55367,98752,82447,62849,59815,108609,100830,101997,75211,92765,108917,24644,102700,82970,22485,79254,37690,59762,112133,47386,73119,102403,89132,21769,52025,115851,54359,48096,66735,56316,31560,103260,102098,23744,59130,57140,58196,110662,36833,44272,77273,25940,39545,31027,91646,109664,82463,55882,58703,61057,57926,46618,113068,81296,20018,87533,84461,20472,63500,60410,86855,75567,109381,111622,118468,24450,36511,32275,89870,83520,26814,118277,103975,55952,23122,66770,44570,78528,55627,51657,74273,31858,47313,115569,112114,63743,24861,32693,81970,106702,46796,102651,96937,59300,58989,69663,85343,95927,63103,76507,34973,115296,52722,23487,29857,36468,25353,74340,51798,91123,28603,103706,73816,34940,30167,71053,75217,82600,44394,66424,110578,78373,110991,85194,31054,33845,58835,76905,63917,37042,45751,105549,51284,76225,97753,118632,118241,62262,63010,59169],\"yaxis\":\"y\",\"type\":\"histogram\"}],                        {\"template\":{\"data\":{\"histogram2dcontour\":[{\"type\":\"histogram2dcontour\",\"colorbar\":{\"outlinewidth\":0,\"ticks\":\"\"},\"colorscale\":[[0.0,\"#0d0887\"],[0.1111111111111111,\"#46039f\"],[0.2222222222222222,\"#7201a8\"],[0.3333333333333333,\"#9c179e\"],[0.4444444444444444,\"#bd3786\"],[0.5555555555555556,\"#d8576b\"],[0.6666666666666666,\"#ed7953\"],[0.7777777777777778,\"#fb9f3a\"],[0.8888888888888888,\"#fdca26\"],[1.0,\"#f0f921\"]]}],\"choropleth\":[{\"type\":\"choropleth\",\"colorbar\":{\"outlinewidth\":0,\"ticks\":\"\"}}],\"histogram2d\":[{\"type\":\"histogram2d\",\"colorbar\":{\"outlinewidth\":0,\"ticks\":\"\"},\"colorscale\":[[0.0,\"#0d0887\"],[0.1111111111111111,\"#46039f\"],[0.2222222222222222,\"#7201a8\"],[0.3333333333333333,\"#9c179e\"],[0.4444444444444444,\"#bd3786\"],[0.5555555555555556,\"#d8576b\"],[0.6666666666666666,\"#ed7953\"],[0.7777777777777778,\"#fb9f3a\"],[0.8888888888888888,\"#fdca26\"],[1.0,\"#f0f921\"]]}],\"heatmap\":[{\"type\":\"heatmap\",\"colorbar\":{\"outlinewidth\":0,\"ticks\":\"\"},\"colorscale\":[[0.0,\"#0d0887\"],[0.1111111111111111,\"#46039f\"],[0.2222222222222222,\"#7201a8\"],[0.3333333333333333,\"#9c179e\"],[0.4444444444444444,\"#bd3786\"],[0.5555555555555556,\"#d8576b\"],[0.6666666666666666,\"#ed7953\"],[0.7777777777777778,\"#fb9f3a\"],[0.8888888888888888,\"#fdca26\"],[1.0,\"#f0f921\"]]}],\"heatmapgl\":[{\"type\":\"heatmapgl\",\"colorbar\":{\"outlinewidth\":0,\"ticks\":\"\"},\"colorscale\":[[0.0,\"#0d0887\"],[0.1111111111111111,\"#46039f\"],[0.2222222222222222,\"#7201a8\"],[0.3333333333333333,\"#9c179e\"],[0.4444444444444444,\"#bd3786\"],[0.5555555555555556,\"#d8576b\"],[0.6666666666666666,\"#ed7953\"],[0.7777777777777778,\"#fb9f3a\"],[0.8888888888888888,\"#fdca26\"],[1.0,\"#f0f921\"]]}],\"contourcarpet\":[{\"type\":\"contourcarpet\",\"colorbar\":{\"outlinewidth\":0,\"ticks\":\"\"}}],\"contour\":[{\"type\":\"contour\",\"colorbar\":{\"outlinewidth\":0,\"ticks\":\"\"},\"colorscale\":[[0.0,\"#0d0887\"],[0.1111111111111111,\"#46039f\"],[0.2222222222222222,\"#7201a8\"],[0.3333333333333333,\"#9c179e\"],[0.4444444444444444,\"#bd3786\"],[0.5555555555555556,\"#d8576b\"],[0.6666666666666666,\"#ed7953\"],[0.7777777777777778,\"#fb9f3a\"],[0.8888888888888888,\"#fdca26\"],[1.0,\"#f0f921\"]]}],\"surface\":[{\"type\":\"surface\",\"colorbar\":{\"outlinewidth\":0,\"ticks\":\"\"},\"colorscale\":[[0.0,\"#0d0887\"],[0.1111111111111111,\"#46039f\"],[0.2222222222222222,\"#7201a8\"],[0.3333333333333333,\"#9c179e\"],[0.4444444444444444,\"#bd3786\"],[0.5555555555555556,\"#d8576b\"],[0.6666666666666666,\"#ed7953\"],[0.7777777777777778,\"#fb9f3a\"],[0.8888888888888888,\"#fdca26\"],[1.0,\"#f0f921\"]]}],\"mesh3d\":[{\"type\":\"mesh3d\",\"colorbar\":{\"outlinewidth\":0,\"ticks\":\"\"}}],\"scatter\":[{\"fillpattern\":{\"fillmode\":\"overlay\",\"size\":10,\"solidity\":0.2},\"type\":\"scatter\"}],\"parcoords\":[{\"type\":\"parcoords\",\"line\":{\"colorbar\":{\"outlinewidth\":0,\"ticks\":\"\"}}}],\"scatterpolargl\":[{\"type\":\"scatterpolargl\",\"marker\":{\"colorbar\":{\"outlinewidth\":0,\"ticks\":\"\"}}}],\"bar\":[{\"error_x\":{\"color\":\"#2a3f5f\"},\"error_y\":{\"color\":\"#2a3f5f\"},\"marker\":{\"line\":{\"color\":\"#E5ECF6\",\"width\":0.5},\"pattern\":{\"fillmode\":\"overlay\",\"size\":10,\"solidity\":0.2}},\"type\":\"bar\"}],\"scattergeo\":[{\"type\":\"scattergeo\",\"marker\":{\"colorbar\":{\"outlinewidth\":0,\"ticks\":\"\"}}}],\"scatterpolar\":[{\"type\":\"scatterpolar\",\"marker\":{\"colorbar\":{\"outlinewidth\":0,\"ticks\":\"\"}}}],\"histogram\":[{\"marker\":{\"pattern\":{\"fillmode\":\"overlay\",\"size\":10,\"solidity\":0.2}},\"type\":\"histogram\"}],\"scattergl\":[{\"type\":\"scattergl\",\"marker\":{\"colorbar\":{\"outlinewidth\":0,\"ticks\":\"\"}}}],\"scatter3d\":[{\"type\":\"scatter3d\",\"line\":{\"colorbar\":{\"outlinewidth\":0,\"ticks\":\"\"}},\"marker\":{\"colorbar\":{\"outlinewidth\":0,\"ticks\":\"\"}}}],\"scattermapbox\":[{\"type\":\"scattermapbox\",\"marker\":{\"colorbar\":{\"outlinewidth\":0,\"ticks\":\"\"}}}],\"scatterternary\":[{\"type\":\"scatterternary\",\"marker\":{\"colorbar\":{\"outlinewidth\":0,\"ticks\":\"\"}}}],\"scattercarpet\":[{\"type\":\"scattercarpet\",\"marker\":{\"colorbar\":{\"outlinewidth\":0,\"ticks\":\"\"}}}],\"carpet\":[{\"aaxis\":{\"endlinecolor\":\"#2a3f5f\",\"gridcolor\":\"white\",\"linecolor\":\"white\",\"minorgridcolor\":\"white\",\"startlinecolor\":\"#2a3f5f\"},\"baxis\":{\"endlinecolor\":\"#2a3f5f\",\"gridcolor\":\"white\",\"linecolor\":\"white\",\"minorgridcolor\":\"white\",\"startlinecolor\":\"#2a3f5f\"},\"type\":\"carpet\"}],\"table\":[{\"cells\":{\"fill\":{\"color\":\"#EBF0F8\"},\"line\":{\"color\":\"white\"}},\"header\":{\"fill\":{\"color\":\"#C8D4E3\"},\"line\":{\"color\":\"white\"}},\"type\":\"table\"}],\"barpolar\":[{\"marker\":{\"line\":{\"color\":\"#E5ECF6\",\"width\":0.5},\"pattern\":{\"fillmode\":\"overlay\",\"size\":10,\"solidity\":0.2}},\"type\":\"barpolar\"}],\"pie\":[{\"automargin\":true,\"type\":\"pie\"}]},\"layout\":{\"autotypenumbers\":\"strict\",\"colorway\":[\"#636efa\",\"#EF553B\",\"#00cc96\",\"#ab63fa\",\"#FFA15A\",\"#19d3f3\",\"#FF6692\",\"#B6E880\",\"#FF97FF\",\"#FECB52\"],\"font\":{\"color\":\"#2a3f5f\"},\"hovermode\":\"closest\",\"hoverlabel\":{\"align\":\"left\"},\"paper_bgcolor\":\"white\",\"plot_bgcolor\":\"#E5ECF6\",\"polar\":{\"bgcolor\":\"#E5ECF6\",\"angularaxis\":{\"gridcolor\":\"white\",\"linecolor\":\"white\",\"ticks\":\"\"},\"radialaxis\":{\"gridcolor\":\"white\",\"linecolor\":\"white\",\"ticks\":\"\"}},\"ternary\":{\"bgcolor\":\"#E5ECF6\",\"aaxis\":{\"gridcolor\":\"white\",\"linecolor\":\"white\",\"ticks\":\"\"},\"baxis\":{\"gridcolor\":\"white\",\"linecolor\":\"white\",\"ticks\":\"\"},\"caxis\":{\"gridcolor\":\"white\",\"linecolor\":\"white\",\"ticks\":\"\"}},\"coloraxis\":{\"colorbar\":{\"outlinewidth\":0,\"ticks\":\"\"}},\"colorscale\":{\"sequential\":[[0.0,\"#0d0887\"],[0.1111111111111111,\"#46039f\"],[0.2222222222222222,\"#7201a8\"],[0.3333333333333333,\"#9c179e\"],[0.4444444444444444,\"#bd3786\"],[0.5555555555555556,\"#d8576b\"],[0.6666666666666666,\"#ed7953\"],[0.7777777777777778,\"#fb9f3a\"],[0.8888888888888888,\"#fdca26\"],[1.0,\"#f0f921\"]],\"sequentialminus\":[[0.0,\"#0d0887\"],[0.1111111111111111,\"#46039f\"],[0.2222222222222222,\"#7201a8\"],[0.3333333333333333,\"#9c179e\"],[0.4444444444444444,\"#bd3786\"],[0.5555555555555556,\"#d8576b\"],[0.6666666666666666,\"#ed7953\"],[0.7777777777777778,\"#fb9f3a\"],[0.8888888888888888,\"#fdca26\"],[1.0,\"#f0f921\"]],\"diverging\":[[0,\"#8e0152\"],[0.1,\"#c51b7d\"],[0.2,\"#de77ae\"],[0.3,\"#f1b6da\"],[0.4,\"#fde0ef\"],[0.5,\"#f7f7f7\"],[0.6,\"#e6f5d0\"],[0.7,\"#b8e186\"],[0.8,\"#7fbc41\"],[0.9,\"#4d9221\"],[1,\"#276419\"]]},\"xaxis\":{\"gridcolor\":\"white\",\"linecolor\":\"white\",\"ticks\":\"\",\"title\":{\"standoff\":15},\"zerolinecolor\":\"white\",\"automargin\":true,\"zerolinewidth\":2},\"yaxis\":{\"gridcolor\":\"white\",\"linecolor\":\"white\",\"ticks\":\"\",\"title\":{\"standoff\":15},\"zerolinecolor\":\"white\",\"automargin\":true,\"zerolinewidth\":2},\"scene\":{\"xaxis\":{\"backgroundcolor\":\"#E5ECF6\",\"gridcolor\":\"white\",\"linecolor\":\"white\",\"showbackground\":true,\"ticks\":\"\",\"zerolinecolor\":\"white\",\"gridwidth\":2},\"yaxis\":{\"backgroundcolor\":\"#E5ECF6\",\"gridcolor\":\"white\",\"linecolor\":\"white\",\"showbackground\":true,\"ticks\":\"\",\"zerolinecolor\":\"white\",\"gridwidth\":2},\"zaxis\":{\"backgroundcolor\":\"#E5ECF6\",\"gridcolor\":\"white\",\"linecolor\":\"white\",\"showbackground\":true,\"ticks\":\"\",\"zerolinecolor\":\"white\",\"gridwidth\":2}},\"shapedefaults\":{\"line\":{\"color\":\"#2a3f5f\"}},\"annotationdefaults\":{\"arrowcolor\":\"#2a3f5f\",\"arrowhead\":0,\"arrowwidth\":1},\"geo\":{\"bgcolor\":\"white\",\"landcolor\":\"#E5ECF6\",\"subunitcolor\":\"white\",\"showland\":true,\"showlakes\":true,\"lakecolor\":\"white\"},\"title\":{\"x\":0.05},\"mapbox\":{\"style\":\"light\"}}},\"xaxis\":{\"anchor\":\"y\",\"domain\":[0.0,1.0],\"title\":{\"text\":\"Education_Level\"},\"categoryorder\":\"array\",\"categoryarray\":[\"High School\",\"Bachelor\",\"Master\",\"PhD\"]},\"yaxis\":{\"anchor\":\"x\",\"domain\":[0.0,1.0],\"title\":{\"text\":\"avg of Income\"}},\"legend\":{\"tracegroupgap\":0},\"margin\":{\"t\":60},\"barmode\":\"relative\"},                        {\"responsive\": true}                    ).then(function(){\n",
              "                            \n",
              "var gd = document.getElementById('8ff65d77-291f-4214-92c6-dc99b50423e7');\n",
              "var x = new MutationObserver(function (mutations, observer) {{\n",
              "        var display = window.getComputedStyle(gd).display;\n",
              "        if (!display || display === 'none') {{\n",
              "            console.log([gd, 'removed!']);\n",
              "            Plotly.purge(gd);\n",
              "            observer.disconnect();\n",
              "        }}\n",
              "}});\n",
              "\n",
              "// Listen for the removal of the full notebook cells\n",
              "var notebookContainer = gd.closest('#notebook-container');\n",
              "if (notebookContainer) {{\n",
              "    x.observe(notebookContainer, {childList: true});\n",
              "}}\n",
              "\n",
              "// Listen for the clearing of the current output cell\n",
              "var outputEl = gd.closest('.output');\n",
              "if (outputEl) {{\n",
              "    x.observe(outputEl, {childList: true});\n",
              "}}\n",
              "\n",
              "                        })                };                            </script>        </div>\n",
              "</body>\n",
              "</html>"
            ]
          },
          "metadata": {}
        }
      ]
    },
    {
      "cell_type": "markdown",
      "source": [
        "Linear Regression Visualization (Income distribution by age)"
      ],
      "metadata": {
        "id": "TrdU-mMWGJww"
      }
    },
    {
      "cell_type": "code",
      "source": [
        "reg = LinearRegression()\n",
        "fig = go.Figure(data=go.Scatter(name='observations',y=data['Income'], x=data['Age'],mode='markers'))\n",
        "\n",
        "fig.update_traces(hovertemplate='Income: %{y} <br>Age: %{x}')\n",
        "fig.show()"
      ],
      "metadata": {
        "colab": {
          "base_uri": "https://localhost:8080/",
          "height": 542
        },
        "id": "M2FloNk_9Sk4",
        "outputId": "c3b4c7f7-0a51-4d21-c5d9-8204a0fe5476"
      },
      "execution_count": 64,
      "outputs": [
        {
          "output_type": "display_data",
          "data": {
            "text/html": [
              "<html>\n",
              "<head><meta charset=\"utf-8\" /></head>\n",
              "<body>\n",
              "    <div>            <script src=\"https://cdnjs.cloudflare.com/ajax/libs/mathjax/2.7.5/MathJax.js?config=TeX-AMS-MML_SVG\"></script><script type=\"text/javascript\">if (window.MathJax && window.MathJax.Hub && window.MathJax.Hub.Config) {window.MathJax.Hub.Config({SVG: {font: \"STIX-Web\"}});}</script>                <script type=\"text/javascript\">window.PlotlyConfig = {MathJaxConfig: 'local'};</script>\n",
              "        <script charset=\"utf-8\" src=\"https://cdn.plot.ly/plotly-2.24.1.min.js\"></script>                <div id=\"fb61e461-be59-44f5-adb9-b121cca956e2\" class=\"plotly-graph-div\" style=\"height:525px; width:100%;\"></div>            <script type=\"text/javascript\">                                    window.PLOTLYENV=window.PLOTLYENV || {};                                    if (document.getElementById(\"fb61e461-be59-44f5-adb9-b121cca956e2\")) {                    Plotly.newPlot(                        \"fb61e461-be59-44f5-adb9-b121cca956e2\",                        [{\"mode\":\"markers\",\"name\":\"observations\",\"x\":[55,61,30,26,27,29,23,33,18,34,19,30,25,63,24,43,68,38,55,36,38,29,60,46,47,32,68,22,41,41,59,67,48,50,40,31,59,27,25,40,19,18,35,26,42,31,69,65,60,26,48,25,21,24,39,67,21,22,42,67,61,30,44,34,63,69,59,36,33,18,22,43,65,52,41,25,44,43,58,40,27,21,57,41,54,45,55,37,56,26,50,52,28,41,33,65,41,43,25,69,46,28,64,50,42,41,19,67,31,21,18,31,24,39,24,20,30,45,39,29,25,31,26,29,30,61,38,48,54,57,25,63,22,66,36,50,31,28,41,35,25,42,28,46,38,50,30,19,48,59,42,36,69,51,20,62,46,57,52,28,50,59,36,40,24,20,25,57,66,33,23,35,60,38,66,40,55,31,67,68,51,38,28,50,43,39,57,50,37,43,67,32,31,38,61,24,31,33,42,27,20,25,23,54,55,39,58,31,45,67,67,65,31,58,32,63,41,34,46,60,63,21,20,32,64,18,47,29,53,47,51,20,38,37,66,50,46,36,49,46,48,28,26,63,53,50,26,38,31,68,33,59,18,62,37,42,67,60,38,62,33,48,45,32,69,37,44,61,40,25,53,65,64,69,52,54,54,50,37,21,42,37,55,48,56,65,57,23,33,67,41,50,60,28,20,42,52,48,35,22,18,32,35,57,53,35,46,40,56,59,28,31,24,43,56,66,66,68,62,59,18,40,34,37,27,66,46,69,65,28,22,41,32,39,64,21,42,34,64,33,25,32,31,33,43,38,39,68,64,47,62,55,40,45,30,30,44,30,25,41,57,61,30,68,56,45,66,23,52,51,61,44,23,27,43,45,61,19,36,48,50,44,38,48,57,18,40,52,21,24,30,57,56,37,65,66,24,31,54,41,40,20,46,60,49,27,59,42,63,47,30,36,60,29,59,54,66,34,48,69,60,38,53,59,35,20,39,47,54,63,64,34,45,26,46,20,53,31,59,54,54,58,36,51,56,69,64,58,43,57,66,55,20,52,46,32,29,60,44,58,39,34,46,55,59,63,58,60,29,40,24,50,32,54,41,29,53,50,64,45,67,56,18,40,51,24,54,36,45,46,55,56,68,48,68,64,25,39,34,57],\"y\":[119997,44571,111130,83848,31806,53712,117438,33719,119036,45280,22791,113324,57521,114970,61377,98346,34313,49643,76197,36209,80037,85578,111734,79193,53080,109943,28186,20373,119025,69034,27880,58704,26645,35123,25516,93881,110445,96560,58148,89592,94614,90299,22994,62627,54490,80940,98978,21888,117597,78767,65412,106522,36202,86718,81371,28336,54655,33920,111068,35787,89356,96063,114819,112952,35893,78259,60781,101441,46628,22599,51811,84674,112322,106058,105838,63730,101766,88646,48336,42225,68638,105222,26645,43944,110408,57061,84005,37870,104773,110985,61294,27713,112699,114899,100973,61899,20174,37417,49507,90454,21983,29443,29808,88892,54240,58309,74237,53170,91015,104956,107092,111950,110175,117915,60669,37042,58392,25159,96572,37974,33671,67450,106972,112010,52839,62587,61863,88988,36851,81624,44115,96704,98540,113286,98003,105142,112421,41979,40575,80777,23478,27884,96916,86925,39478,107014,83890,97842,20052,97946,61698,37875,44953,66813,79565,30987,49619,67887,117479,29904,44988,109811,41275,46411,79539,42095,94566,57208,21018,103467,74501,62433,116861,53039,52738,62838,39903,85450,64694,119437,48114,81608,90316,22923,103174,40352,40720,23425,103026,109975,29159,96276,60974,114884,78272,45473,37752,73026,108926,59445,38628,80355,105680,109206,72577,77995,82900,33132,41060,79565,27360,98376,106791,119079,65302,74561,33882,61223,77506,22180,35749,79325,44694,100743,96978,116844,63437,82816,114101,20114,48029,52071,61692,112911,61625,105481,106263,85377,57889,61229,40596,112373,94139,44230,80577,27937,111134,103359,118549,114321,76946,26172,34027,109714,82495,68307,24162,101731,32106,70080,85505,100645,51653,62350,87948,48440,59056,118685,100736,79616,49993,46776,73525,63001,46915,76638,97693,37952,109133,52600,39370,114265,95417,72000,24456,99905,117782,24742,81633,101203,70719,33563,32429,76447,38063,63805,74850,38159,85597,72947,25074,115138,69950,108249,30336,92625,23580,49486,59721,34612,20504,27208,62872,44062,100888,83620,84636,30624,115450,54299,96874,72373,47041,40343,66246,73029,31819,88711,21449,101989,80102,99895,99574,43591,60991,72517,75480,35191,79292,50116,34914,48426,119796,100768,26942,52643,72732,93678,47500,69851,72789,91542,42469,63825,61418,33163,65742,71355,94401,52584,55367,98752,82447,62849,59815,108609,100830,101997,75211,92765,108917,24644,102700,82970,22485,79254,37690,59762,112133,47386,73119,102403,89132,21769,52025,115851,54359,48096,66735,56316,31560,103260,102098,23744,59130,57140,58196,110662,36833,44272,77273,25940,39545,31027,91646,109664,82463,55882,58703,61057,57926,46618,113068,81296,20018,87533,84461,20472,63500,60410,86855,75567,109381,111622,118468,24450,36511,32275,89870,83520,26814,118277,103975,55952,23122,66770,44570,78528,55627,51657,74273,31858,47313,115569,112114,63743,24861,32693,81970,106702,46796,102651,96937,59300,58989,69663,85343,95927,63103,76507,34973,115296,52722,23487,29857,36468,25353,74340,51798,91123,28603,103706,73816,34940,30167,71053,75217,82600,44394,66424,110578,78373,110991,85194,31054,33845,58835,76905,63917,37042,45751,105549,51284,76225,97753,118632,118241,62262,63010,59169],\"type\":\"scatter\",\"hovertemplate\":\"Income: %{y} \\u003cbr\\u003eAge: %{x}\"}],                        {\"template\":{\"data\":{\"histogram2dcontour\":[{\"type\":\"histogram2dcontour\",\"colorbar\":{\"outlinewidth\":0,\"ticks\":\"\"},\"colorscale\":[[0.0,\"#0d0887\"],[0.1111111111111111,\"#46039f\"],[0.2222222222222222,\"#7201a8\"],[0.3333333333333333,\"#9c179e\"],[0.4444444444444444,\"#bd3786\"],[0.5555555555555556,\"#d8576b\"],[0.6666666666666666,\"#ed7953\"],[0.7777777777777778,\"#fb9f3a\"],[0.8888888888888888,\"#fdca26\"],[1.0,\"#f0f921\"]]}],\"choropleth\":[{\"type\":\"choropleth\",\"colorbar\":{\"outlinewidth\":0,\"ticks\":\"\"}}],\"histogram2d\":[{\"type\":\"histogram2d\",\"colorbar\":{\"outlinewidth\":0,\"ticks\":\"\"},\"colorscale\":[[0.0,\"#0d0887\"],[0.1111111111111111,\"#46039f\"],[0.2222222222222222,\"#7201a8\"],[0.3333333333333333,\"#9c179e\"],[0.4444444444444444,\"#bd3786\"],[0.5555555555555556,\"#d8576b\"],[0.6666666666666666,\"#ed7953\"],[0.7777777777777778,\"#fb9f3a\"],[0.8888888888888888,\"#fdca26\"],[1.0,\"#f0f921\"]]}],\"heatmap\":[{\"type\":\"heatmap\",\"colorbar\":{\"outlinewidth\":0,\"ticks\":\"\"},\"colorscale\":[[0.0,\"#0d0887\"],[0.1111111111111111,\"#46039f\"],[0.2222222222222222,\"#7201a8\"],[0.3333333333333333,\"#9c179e\"],[0.4444444444444444,\"#bd3786\"],[0.5555555555555556,\"#d8576b\"],[0.6666666666666666,\"#ed7953\"],[0.7777777777777778,\"#fb9f3a\"],[0.8888888888888888,\"#fdca26\"],[1.0,\"#f0f921\"]]}],\"heatmapgl\":[{\"type\":\"heatmapgl\",\"colorbar\":{\"outlinewidth\":0,\"ticks\":\"\"},\"colorscale\":[[0.0,\"#0d0887\"],[0.1111111111111111,\"#46039f\"],[0.2222222222222222,\"#7201a8\"],[0.3333333333333333,\"#9c179e\"],[0.4444444444444444,\"#bd3786\"],[0.5555555555555556,\"#d8576b\"],[0.6666666666666666,\"#ed7953\"],[0.7777777777777778,\"#fb9f3a\"],[0.8888888888888888,\"#fdca26\"],[1.0,\"#f0f921\"]]}],\"contourcarpet\":[{\"type\":\"contourcarpet\",\"colorbar\":{\"outlinewidth\":0,\"ticks\":\"\"}}],\"contour\":[{\"type\":\"contour\",\"colorbar\":{\"outlinewidth\":0,\"ticks\":\"\"},\"colorscale\":[[0.0,\"#0d0887\"],[0.1111111111111111,\"#46039f\"],[0.2222222222222222,\"#7201a8\"],[0.3333333333333333,\"#9c179e\"],[0.4444444444444444,\"#bd3786\"],[0.5555555555555556,\"#d8576b\"],[0.6666666666666666,\"#ed7953\"],[0.7777777777777778,\"#fb9f3a\"],[0.8888888888888888,\"#fdca26\"],[1.0,\"#f0f921\"]]}],\"surface\":[{\"type\":\"surface\",\"colorbar\":{\"outlinewidth\":0,\"ticks\":\"\"},\"colorscale\":[[0.0,\"#0d0887\"],[0.1111111111111111,\"#46039f\"],[0.2222222222222222,\"#7201a8\"],[0.3333333333333333,\"#9c179e\"],[0.4444444444444444,\"#bd3786\"],[0.5555555555555556,\"#d8576b\"],[0.6666666666666666,\"#ed7953\"],[0.7777777777777778,\"#fb9f3a\"],[0.8888888888888888,\"#fdca26\"],[1.0,\"#f0f921\"]]}],\"mesh3d\":[{\"type\":\"mesh3d\",\"colorbar\":{\"outlinewidth\":0,\"ticks\":\"\"}}],\"scatter\":[{\"fillpattern\":{\"fillmode\":\"overlay\",\"size\":10,\"solidity\":0.2},\"type\":\"scatter\"}],\"parcoords\":[{\"type\":\"parcoords\",\"line\":{\"colorbar\":{\"outlinewidth\":0,\"ticks\":\"\"}}}],\"scatterpolargl\":[{\"type\":\"scatterpolargl\",\"marker\":{\"colorbar\":{\"outlinewidth\":0,\"ticks\":\"\"}}}],\"bar\":[{\"error_x\":{\"color\":\"#2a3f5f\"},\"error_y\":{\"color\":\"#2a3f5f\"},\"marker\":{\"line\":{\"color\":\"#E5ECF6\",\"width\":0.5},\"pattern\":{\"fillmode\":\"overlay\",\"size\":10,\"solidity\":0.2}},\"type\":\"bar\"}],\"scattergeo\":[{\"type\":\"scattergeo\",\"marker\":{\"colorbar\":{\"outlinewidth\":0,\"ticks\":\"\"}}}],\"scatterpolar\":[{\"type\":\"scatterpolar\",\"marker\":{\"colorbar\":{\"outlinewidth\":0,\"ticks\":\"\"}}}],\"histogram\":[{\"marker\":{\"pattern\":{\"fillmode\":\"overlay\",\"size\":10,\"solidity\":0.2}},\"type\":\"histogram\"}],\"scattergl\":[{\"type\":\"scattergl\",\"marker\":{\"colorbar\":{\"outlinewidth\":0,\"ticks\":\"\"}}}],\"scatter3d\":[{\"type\":\"scatter3d\",\"line\":{\"colorbar\":{\"outlinewidth\":0,\"ticks\":\"\"}},\"marker\":{\"colorbar\":{\"outlinewidth\":0,\"ticks\":\"\"}}}],\"scattermapbox\":[{\"type\":\"scattermapbox\",\"marker\":{\"colorbar\":{\"outlinewidth\":0,\"ticks\":\"\"}}}],\"scatterternary\":[{\"type\":\"scatterternary\",\"marker\":{\"colorbar\":{\"outlinewidth\":0,\"ticks\":\"\"}}}],\"scattercarpet\":[{\"type\":\"scattercarpet\",\"marker\":{\"colorbar\":{\"outlinewidth\":0,\"ticks\":\"\"}}}],\"carpet\":[{\"aaxis\":{\"endlinecolor\":\"#2a3f5f\",\"gridcolor\":\"white\",\"linecolor\":\"white\",\"minorgridcolor\":\"white\",\"startlinecolor\":\"#2a3f5f\"},\"baxis\":{\"endlinecolor\":\"#2a3f5f\",\"gridcolor\":\"white\",\"linecolor\":\"white\",\"minorgridcolor\":\"white\",\"startlinecolor\":\"#2a3f5f\"},\"type\":\"carpet\"}],\"table\":[{\"cells\":{\"fill\":{\"color\":\"#EBF0F8\"},\"line\":{\"color\":\"white\"}},\"header\":{\"fill\":{\"color\":\"#C8D4E3\"},\"line\":{\"color\":\"white\"}},\"type\":\"table\"}],\"barpolar\":[{\"marker\":{\"line\":{\"color\":\"#E5ECF6\",\"width\":0.5},\"pattern\":{\"fillmode\":\"overlay\",\"size\":10,\"solidity\":0.2}},\"type\":\"barpolar\"}],\"pie\":[{\"automargin\":true,\"type\":\"pie\"}]},\"layout\":{\"autotypenumbers\":\"strict\",\"colorway\":[\"#636efa\",\"#EF553B\",\"#00cc96\",\"#ab63fa\",\"#FFA15A\",\"#19d3f3\",\"#FF6692\",\"#B6E880\",\"#FF97FF\",\"#FECB52\"],\"font\":{\"color\":\"#2a3f5f\"},\"hovermode\":\"closest\",\"hoverlabel\":{\"align\":\"left\"},\"paper_bgcolor\":\"white\",\"plot_bgcolor\":\"#E5ECF6\",\"polar\":{\"bgcolor\":\"#E5ECF6\",\"angularaxis\":{\"gridcolor\":\"white\",\"linecolor\":\"white\",\"ticks\":\"\"},\"radialaxis\":{\"gridcolor\":\"white\",\"linecolor\":\"white\",\"ticks\":\"\"}},\"ternary\":{\"bgcolor\":\"#E5ECF6\",\"aaxis\":{\"gridcolor\":\"white\",\"linecolor\":\"white\",\"ticks\":\"\"},\"baxis\":{\"gridcolor\":\"white\",\"linecolor\":\"white\",\"ticks\":\"\"},\"caxis\":{\"gridcolor\":\"white\",\"linecolor\":\"white\",\"ticks\":\"\"}},\"coloraxis\":{\"colorbar\":{\"outlinewidth\":0,\"ticks\":\"\"}},\"colorscale\":{\"sequential\":[[0.0,\"#0d0887\"],[0.1111111111111111,\"#46039f\"],[0.2222222222222222,\"#7201a8\"],[0.3333333333333333,\"#9c179e\"],[0.4444444444444444,\"#bd3786\"],[0.5555555555555556,\"#d8576b\"],[0.6666666666666666,\"#ed7953\"],[0.7777777777777778,\"#fb9f3a\"],[0.8888888888888888,\"#fdca26\"],[1.0,\"#f0f921\"]],\"sequentialminus\":[[0.0,\"#0d0887\"],[0.1111111111111111,\"#46039f\"],[0.2222222222222222,\"#7201a8\"],[0.3333333333333333,\"#9c179e\"],[0.4444444444444444,\"#bd3786\"],[0.5555555555555556,\"#d8576b\"],[0.6666666666666666,\"#ed7953\"],[0.7777777777777778,\"#fb9f3a\"],[0.8888888888888888,\"#fdca26\"],[1.0,\"#f0f921\"]],\"diverging\":[[0,\"#8e0152\"],[0.1,\"#c51b7d\"],[0.2,\"#de77ae\"],[0.3,\"#f1b6da\"],[0.4,\"#fde0ef\"],[0.5,\"#f7f7f7\"],[0.6,\"#e6f5d0\"],[0.7,\"#b8e186\"],[0.8,\"#7fbc41\"],[0.9,\"#4d9221\"],[1,\"#276419\"]]},\"xaxis\":{\"gridcolor\":\"white\",\"linecolor\":\"white\",\"ticks\":\"\",\"title\":{\"standoff\":15},\"zerolinecolor\":\"white\",\"automargin\":true,\"zerolinewidth\":2},\"yaxis\":{\"gridcolor\":\"white\",\"linecolor\":\"white\",\"ticks\":\"\",\"title\":{\"standoff\":15},\"zerolinecolor\":\"white\",\"automargin\":true,\"zerolinewidth\":2},\"scene\":{\"xaxis\":{\"backgroundcolor\":\"#E5ECF6\",\"gridcolor\":\"white\",\"linecolor\":\"white\",\"showbackground\":true,\"ticks\":\"\",\"zerolinecolor\":\"white\",\"gridwidth\":2},\"yaxis\":{\"backgroundcolor\":\"#E5ECF6\",\"gridcolor\":\"white\",\"linecolor\":\"white\",\"showbackground\":true,\"ticks\":\"\",\"zerolinecolor\":\"white\",\"gridwidth\":2},\"zaxis\":{\"backgroundcolor\":\"#E5ECF6\",\"gridcolor\":\"white\",\"linecolor\":\"white\",\"showbackground\":true,\"ticks\":\"\",\"zerolinecolor\":\"white\",\"gridwidth\":2}},\"shapedefaults\":{\"line\":{\"color\":\"#2a3f5f\"}},\"annotationdefaults\":{\"arrowcolor\":\"#2a3f5f\",\"arrowhead\":0,\"arrowwidth\":1},\"geo\":{\"bgcolor\":\"white\",\"landcolor\":\"#E5ECF6\",\"subunitcolor\":\"white\",\"showland\":true,\"showlakes\":true,\"lakecolor\":\"white\"},\"title\":{\"x\":0.05},\"mapbox\":{\"style\":\"light\"}}}},                        {\"responsive\": true}                    ).then(function(){\n",
              "                            \n",
              "var gd = document.getElementById('fb61e461-be59-44f5-adb9-b121cca956e2');\n",
              "var x = new MutationObserver(function (mutations, observer) {{\n",
              "        var display = window.getComputedStyle(gd).display;\n",
              "        if (!display || display === 'none') {{\n",
              "            console.log([gd, 'removed!']);\n",
              "            Plotly.purge(gd);\n",
              "            observer.disconnect();\n",
              "        }}\n",
              "}});\n",
              "\n",
              "// Listen for the removal of the full notebook cells\n",
              "var notebookContainer = gd.closest('#notebook-container');\n",
              "if (notebookContainer) {{\n",
              "    x.observe(notebookContainer, {childList: true});\n",
              "}}\n",
              "\n",
              "// Listen for the clearing of the current output cell\n",
              "var outputEl = gd.closest('.output');\n",
              "if (outputEl) {{\n",
              "    x.observe(outputEl, {childList: true});\n",
              "}}\n",
              "\n",
              "                        })                };                            </script>        </div>\n",
              "</body>\n",
              "</html>"
            ]
          },
          "metadata": {}
        }
      ]
    },
    {
      "cell_type": "markdown",
      "source": [
        "Pie Chart Visualization (Correlation between Education level and Life Satisfaction)"
      ],
      "metadata": {
        "id": "s2ahK4QYLpHR"
      }
    },
    {
      "cell_type": "code",
      "source": [
        "df = data[['Education_Level','Life_Satisfaction']]\n",
        "\n",
        "fig = px.sunburst(df, path=['Life_Satisfaction','Education_Level'],color_discrete_sequence=px.colors.sequential.Rainbow)\n",
        "fig.show()"
      ],
      "metadata": {
        "colab": {
          "base_uri": "https://localhost:8080/",
          "height": 542
        },
        "id": "y39D95nZ9Sfp",
        "outputId": "f41cca31-6aae-42db-cf06-759ad5bab997"
      },
      "execution_count": 65,
      "outputs": [
        {
          "output_type": "display_data",
          "data": {
            "text/html": [
              "<html>\n",
              "<head><meta charset=\"utf-8\" /></head>\n",
              "<body>\n",
              "    <div>            <script src=\"https://cdnjs.cloudflare.com/ajax/libs/mathjax/2.7.5/MathJax.js?config=TeX-AMS-MML_SVG\"></script><script type=\"text/javascript\">if (window.MathJax && window.MathJax.Hub && window.MathJax.Hub.Config) {window.MathJax.Hub.Config({SVG: {font: \"STIX-Web\"}});}</script>                <script type=\"text/javascript\">window.PlotlyConfig = {MathJaxConfig: 'local'};</script>\n",
              "        <script charset=\"utf-8\" src=\"https://cdn.plot.ly/plotly-2.24.1.min.js\"></script>                <div id=\"d4aaef80-5134-43be-87e3-76c999604d2e\" class=\"plotly-graph-div\" style=\"height:525px; width:100%;\"></div>            <script type=\"text/javascript\">                                    window.PLOTLYENV=window.PLOTLYENV || {};                                    if (document.getElementById(\"d4aaef80-5134-43be-87e3-76c999604d2e\")) {                    Plotly.newPlot(                        \"d4aaef80-5134-43be-87e3-76c999604d2e\",                        [{\"branchvalues\":\"total\",\"domain\":{\"x\":[0.0,1.0],\"y\":[0.0,1.0]},\"hovertemplate\":\"labels=%{label}\\u003cbr\\u003ecount=%{value}\\u003cbr\\u003eparent=%{parent}\\u003cbr\\u003eid=%{id}\\u003cextra\\u003e\\u003c\\u002fextra\\u003e\",\"ids\":[\"Neutral\\u002fBachelor\",\"Not Satisfied\\u002fBachelor\",\"Satisfied\\u002fBachelor\",\"Neutral\\u002fHigh School\",\"Not Satisfied\\u002fHigh School\",\"Satisfied\\u002fHigh School\",\"Neutral\\u002fMaster\",\"Not Satisfied\\u002fMaster\",\"Satisfied\\u002fMaster\",\"Neutral\\u002fPhD\",\"Not Satisfied\\u002fPhD\",\"Satisfied\\u002fPhD\",\"Neutral\",\"Not Satisfied\",\"Satisfied\"],\"labels\":[\"Bachelor\",\"Bachelor\",\"Bachelor\",\"High School\",\"High School\",\"High School\",\"Master\",\"Master\",\"Master\",\"PhD\",\"PhD\",\"PhD\",\"Neutral\",\"Not Satisfied\",\"Satisfied\"],\"name\":\"\",\"parents\":[\"Neutral\",\"Not Satisfied\",\"Satisfied\",\"Neutral\",\"Not Satisfied\",\"Satisfied\",\"Neutral\",\"Not Satisfied\",\"Satisfied\",\"Neutral\",\"Not Satisfied\",\"Satisfied\",\"\",\"\",\"\"],\"values\":[44,36,30,39,36,39,57,32,49,58,42,38,198,146,156],\"type\":\"sunburst\"}],                        {\"template\":{\"data\":{\"histogram2dcontour\":[{\"type\":\"histogram2dcontour\",\"colorbar\":{\"outlinewidth\":0,\"ticks\":\"\"},\"colorscale\":[[0.0,\"#0d0887\"],[0.1111111111111111,\"#46039f\"],[0.2222222222222222,\"#7201a8\"],[0.3333333333333333,\"#9c179e\"],[0.4444444444444444,\"#bd3786\"],[0.5555555555555556,\"#d8576b\"],[0.6666666666666666,\"#ed7953\"],[0.7777777777777778,\"#fb9f3a\"],[0.8888888888888888,\"#fdca26\"],[1.0,\"#f0f921\"]]}],\"choropleth\":[{\"type\":\"choropleth\",\"colorbar\":{\"outlinewidth\":0,\"ticks\":\"\"}}],\"histogram2d\":[{\"type\":\"histogram2d\",\"colorbar\":{\"outlinewidth\":0,\"ticks\":\"\"},\"colorscale\":[[0.0,\"#0d0887\"],[0.1111111111111111,\"#46039f\"],[0.2222222222222222,\"#7201a8\"],[0.3333333333333333,\"#9c179e\"],[0.4444444444444444,\"#bd3786\"],[0.5555555555555556,\"#d8576b\"],[0.6666666666666666,\"#ed7953\"],[0.7777777777777778,\"#fb9f3a\"],[0.8888888888888888,\"#fdca26\"],[1.0,\"#f0f921\"]]}],\"heatmap\":[{\"type\":\"heatmap\",\"colorbar\":{\"outlinewidth\":0,\"ticks\":\"\"},\"colorscale\":[[0.0,\"#0d0887\"],[0.1111111111111111,\"#46039f\"],[0.2222222222222222,\"#7201a8\"],[0.3333333333333333,\"#9c179e\"],[0.4444444444444444,\"#bd3786\"],[0.5555555555555556,\"#d8576b\"],[0.6666666666666666,\"#ed7953\"],[0.7777777777777778,\"#fb9f3a\"],[0.8888888888888888,\"#fdca26\"],[1.0,\"#f0f921\"]]}],\"heatmapgl\":[{\"type\":\"heatmapgl\",\"colorbar\":{\"outlinewidth\":0,\"ticks\":\"\"},\"colorscale\":[[0.0,\"#0d0887\"],[0.1111111111111111,\"#46039f\"],[0.2222222222222222,\"#7201a8\"],[0.3333333333333333,\"#9c179e\"],[0.4444444444444444,\"#bd3786\"],[0.5555555555555556,\"#d8576b\"],[0.6666666666666666,\"#ed7953\"],[0.7777777777777778,\"#fb9f3a\"],[0.8888888888888888,\"#fdca26\"],[1.0,\"#f0f921\"]]}],\"contourcarpet\":[{\"type\":\"contourcarpet\",\"colorbar\":{\"outlinewidth\":0,\"ticks\":\"\"}}],\"contour\":[{\"type\":\"contour\",\"colorbar\":{\"outlinewidth\":0,\"ticks\":\"\"},\"colorscale\":[[0.0,\"#0d0887\"],[0.1111111111111111,\"#46039f\"],[0.2222222222222222,\"#7201a8\"],[0.3333333333333333,\"#9c179e\"],[0.4444444444444444,\"#bd3786\"],[0.5555555555555556,\"#d8576b\"],[0.6666666666666666,\"#ed7953\"],[0.7777777777777778,\"#fb9f3a\"],[0.8888888888888888,\"#fdca26\"],[1.0,\"#f0f921\"]]}],\"surface\":[{\"type\":\"surface\",\"colorbar\":{\"outlinewidth\":0,\"ticks\":\"\"},\"colorscale\":[[0.0,\"#0d0887\"],[0.1111111111111111,\"#46039f\"],[0.2222222222222222,\"#7201a8\"],[0.3333333333333333,\"#9c179e\"],[0.4444444444444444,\"#bd3786\"],[0.5555555555555556,\"#d8576b\"],[0.6666666666666666,\"#ed7953\"],[0.7777777777777778,\"#fb9f3a\"],[0.8888888888888888,\"#fdca26\"],[1.0,\"#f0f921\"]]}],\"mesh3d\":[{\"type\":\"mesh3d\",\"colorbar\":{\"outlinewidth\":0,\"ticks\":\"\"}}],\"scatter\":[{\"fillpattern\":{\"fillmode\":\"overlay\",\"size\":10,\"solidity\":0.2},\"type\":\"scatter\"}],\"parcoords\":[{\"type\":\"parcoords\",\"line\":{\"colorbar\":{\"outlinewidth\":0,\"ticks\":\"\"}}}],\"scatterpolargl\":[{\"type\":\"scatterpolargl\",\"marker\":{\"colorbar\":{\"outlinewidth\":0,\"ticks\":\"\"}}}],\"bar\":[{\"error_x\":{\"color\":\"#2a3f5f\"},\"error_y\":{\"color\":\"#2a3f5f\"},\"marker\":{\"line\":{\"color\":\"#E5ECF6\",\"width\":0.5},\"pattern\":{\"fillmode\":\"overlay\",\"size\":10,\"solidity\":0.2}},\"type\":\"bar\"}],\"scattergeo\":[{\"type\":\"scattergeo\",\"marker\":{\"colorbar\":{\"outlinewidth\":0,\"ticks\":\"\"}}}],\"scatterpolar\":[{\"type\":\"scatterpolar\",\"marker\":{\"colorbar\":{\"outlinewidth\":0,\"ticks\":\"\"}}}],\"histogram\":[{\"marker\":{\"pattern\":{\"fillmode\":\"overlay\",\"size\":10,\"solidity\":0.2}},\"type\":\"histogram\"}],\"scattergl\":[{\"type\":\"scattergl\",\"marker\":{\"colorbar\":{\"outlinewidth\":0,\"ticks\":\"\"}}}],\"scatter3d\":[{\"type\":\"scatter3d\",\"line\":{\"colorbar\":{\"outlinewidth\":0,\"ticks\":\"\"}},\"marker\":{\"colorbar\":{\"outlinewidth\":0,\"ticks\":\"\"}}}],\"scattermapbox\":[{\"type\":\"scattermapbox\",\"marker\":{\"colorbar\":{\"outlinewidth\":0,\"ticks\":\"\"}}}],\"scatterternary\":[{\"type\":\"scatterternary\",\"marker\":{\"colorbar\":{\"outlinewidth\":0,\"ticks\":\"\"}}}],\"scattercarpet\":[{\"type\":\"scattercarpet\",\"marker\":{\"colorbar\":{\"outlinewidth\":0,\"ticks\":\"\"}}}],\"carpet\":[{\"aaxis\":{\"endlinecolor\":\"#2a3f5f\",\"gridcolor\":\"white\",\"linecolor\":\"white\",\"minorgridcolor\":\"white\",\"startlinecolor\":\"#2a3f5f\"},\"baxis\":{\"endlinecolor\":\"#2a3f5f\",\"gridcolor\":\"white\",\"linecolor\":\"white\",\"minorgridcolor\":\"white\",\"startlinecolor\":\"#2a3f5f\"},\"type\":\"carpet\"}],\"table\":[{\"cells\":{\"fill\":{\"color\":\"#EBF0F8\"},\"line\":{\"color\":\"white\"}},\"header\":{\"fill\":{\"color\":\"#C8D4E3\"},\"line\":{\"color\":\"white\"}},\"type\":\"table\"}],\"barpolar\":[{\"marker\":{\"line\":{\"color\":\"#E5ECF6\",\"width\":0.5},\"pattern\":{\"fillmode\":\"overlay\",\"size\":10,\"solidity\":0.2}},\"type\":\"barpolar\"}],\"pie\":[{\"automargin\":true,\"type\":\"pie\"}]},\"layout\":{\"autotypenumbers\":\"strict\",\"colorway\":[\"#636efa\",\"#EF553B\",\"#00cc96\",\"#ab63fa\",\"#FFA15A\",\"#19d3f3\",\"#FF6692\",\"#B6E880\",\"#FF97FF\",\"#FECB52\"],\"font\":{\"color\":\"#2a3f5f\"},\"hovermode\":\"closest\",\"hoverlabel\":{\"align\":\"left\"},\"paper_bgcolor\":\"white\",\"plot_bgcolor\":\"#E5ECF6\",\"polar\":{\"bgcolor\":\"#E5ECF6\",\"angularaxis\":{\"gridcolor\":\"white\",\"linecolor\":\"white\",\"ticks\":\"\"},\"radialaxis\":{\"gridcolor\":\"white\",\"linecolor\":\"white\",\"ticks\":\"\"}},\"ternary\":{\"bgcolor\":\"#E5ECF6\",\"aaxis\":{\"gridcolor\":\"white\",\"linecolor\":\"white\",\"ticks\":\"\"},\"baxis\":{\"gridcolor\":\"white\",\"linecolor\":\"white\",\"ticks\":\"\"},\"caxis\":{\"gridcolor\":\"white\",\"linecolor\":\"white\",\"ticks\":\"\"}},\"coloraxis\":{\"colorbar\":{\"outlinewidth\":0,\"ticks\":\"\"}},\"colorscale\":{\"sequential\":[[0.0,\"#0d0887\"],[0.1111111111111111,\"#46039f\"],[0.2222222222222222,\"#7201a8\"],[0.3333333333333333,\"#9c179e\"],[0.4444444444444444,\"#bd3786\"],[0.5555555555555556,\"#d8576b\"],[0.6666666666666666,\"#ed7953\"],[0.7777777777777778,\"#fb9f3a\"],[0.8888888888888888,\"#fdca26\"],[1.0,\"#f0f921\"]],\"sequentialminus\":[[0.0,\"#0d0887\"],[0.1111111111111111,\"#46039f\"],[0.2222222222222222,\"#7201a8\"],[0.3333333333333333,\"#9c179e\"],[0.4444444444444444,\"#bd3786\"],[0.5555555555555556,\"#d8576b\"],[0.6666666666666666,\"#ed7953\"],[0.7777777777777778,\"#fb9f3a\"],[0.8888888888888888,\"#fdca26\"],[1.0,\"#f0f921\"]],\"diverging\":[[0,\"#8e0152\"],[0.1,\"#c51b7d\"],[0.2,\"#de77ae\"],[0.3,\"#f1b6da\"],[0.4,\"#fde0ef\"],[0.5,\"#f7f7f7\"],[0.6,\"#e6f5d0\"],[0.7,\"#b8e186\"],[0.8,\"#7fbc41\"],[0.9,\"#4d9221\"],[1,\"#276419\"]]},\"xaxis\":{\"gridcolor\":\"white\",\"linecolor\":\"white\",\"ticks\":\"\",\"title\":{\"standoff\":15},\"zerolinecolor\":\"white\",\"automargin\":true,\"zerolinewidth\":2},\"yaxis\":{\"gridcolor\":\"white\",\"linecolor\":\"white\",\"ticks\":\"\",\"title\":{\"standoff\":15},\"zerolinecolor\":\"white\",\"automargin\":true,\"zerolinewidth\":2},\"scene\":{\"xaxis\":{\"backgroundcolor\":\"#E5ECF6\",\"gridcolor\":\"white\",\"linecolor\":\"white\",\"showbackground\":true,\"ticks\":\"\",\"zerolinecolor\":\"white\",\"gridwidth\":2},\"yaxis\":{\"backgroundcolor\":\"#E5ECF6\",\"gridcolor\":\"white\",\"linecolor\":\"white\",\"showbackground\":true,\"ticks\":\"\",\"zerolinecolor\":\"white\",\"gridwidth\":2},\"zaxis\":{\"backgroundcolor\":\"#E5ECF6\",\"gridcolor\":\"white\",\"linecolor\":\"white\",\"showbackground\":true,\"ticks\":\"\",\"zerolinecolor\":\"white\",\"gridwidth\":2}},\"shapedefaults\":{\"line\":{\"color\":\"#2a3f5f\"}},\"annotationdefaults\":{\"arrowcolor\":\"#2a3f5f\",\"arrowhead\":0,\"arrowwidth\":1},\"geo\":{\"bgcolor\":\"white\",\"landcolor\":\"#E5ECF6\",\"subunitcolor\":\"white\",\"showland\":true,\"showlakes\":true,\"lakecolor\":\"white\"},\"title\":{\"x\":0.05},\"mapbox\":{\"style\":\"light\"}}},\"legend\":{\"tracegroupgap\":0},\"margin\":{\"t\":60},\"sunburstcolorway\":[\"rgb(150,0,90)\",\"rgb(0,0,200)\",\"rgb(0,25,255)\",\"rgb(0,152,255)\",\"rgb(44,255,150)\",\"rgb(151,255,0)\",\"rgb(255,234,0)\",\"rgb(255,111,0)\",\"rgb(255,0,0)\"]},                        {\"responsive\": true}                    ).then(function(){\n",
              "                            \n",
              "var gd = document.getElementById('d4aaef80-5134-43be-87e3-76c999604d2e');\n",
              "var x = new MutationObserver(function (mutations, observer) {{\n",
              "        var display = window.getComputedStyle(gd).display;\n",
              "        if (!display || display === 'none') {{\n",
              "            console.log([gd, 'removed!']);\n",
              "            Plotly.purge(gd);\n",
              "            observer.disconnect();\n",
              "        }}\n",
              "}});\n",
              "\n",
              "// Listen for the removal of the full notebook cells\n",
              "var notebookContainer = gd.closest('#notebook-container');\n",
              "if (notebookContainer) {{\n",
              "    x.observe(notebookContainer, {childList: true});\n",
              "}}\n",
              "\n",
              "// Listen for the clearing of the current output cell\n",
              "var outputEl = gd.closest('.output');\n",
              "if (outputEl) {{\n",
              "    x.observe(outputEl, {childList: true});\n",
              "}}\n",
              "\n",
              "                        })                };                            </script>        </div>\n",
              "</body>\n",
              "</html>"
            ]
          },
          "metadata": {}
        }
      ]
    },
    {
      "cell_type": "markdown",
      "source": [
        "Histogram Quantitative and Qualitative Data (Income and Satisfaction Level)"
      ],
      "metadata": {
        "id": "-cBgPtz4L5Dn"
      }
    },
    {
      "cell_type": "code",
      "source": [
        "fig = px.histogram(data,\n",
        "                   x='Income',\n",
        "                   marginal='box',\n",
        "                   color='Life_Satisfaction',\n",
        "                   color_discrete_sequence=['blue', 'green', 'red'],\n",
        "                   title='Correlation between income and life satisfaction')\n",
        "fig.update_layout(bargap=0.1)\n",
        "fig.show()"
      ],
      "metadata": {
        "colab": {
          "base_uri": "https://localhost:8080/",
          "height": 542
        },
        "id": "9etzlioVLoNF",
        "outputId": "2056bbe7-114a-4620-d6b6-b560a394e803"
      },
      "execution_count": 66,
      "outputs": [
        {
          "output_type": "display_data",
          "data": {
            "text/html": [
              "<html>\n",
              "<head><meta charset=\"utf-8\" /></head>\n",
              "<body>\n",
              "    <div>            <script src=\"https://cdnjs.cloudflare.com/ajax/libs/mathjax/2.7.5/MathJax.js?config=TeX-AMS-MML_SVG\"></script><script type=\"text/javascript\">if (window.MathJax && window.MathJax.Hub && window.MathJax.Hub.Config) {window.MathJax.Hub.Config({SVG: {font: \"STIX-Web\"}});}</script>                <script type=\"text/javascript\">window.PlotlyConfig = {MathJaxConfig: 'local'};</script>\n",
              "        <script charset=\"utf-8\" src=\"https://cdn.plot.ly/plotly-2.24.1.min.js\"></script>                <div id=\"ae417840-8258-44c6-9f21-8fc229cb4041\" class=\"plotly-graph-div\" style=\"height:525px; width:100%;\"></div>            <script type=\"text/javascript\">                                    window.PLOTLYENV=window.PLOTLYENV || {};                                    if (document.getElementById(\"ae417840-8258-44c6-9f21-8fc229cb4041\")) {                    Plotly.newPlot(                        \"ae417840-8258-44c6-9f21-8fc229cb4041\",                        [{\"alignmentgroup\":\"True\",\"bingroup\":\"x\",\"hovertemplate\":\"Life_Satisfaction=Satisfied\\u003cbr\\u003eIncome=%{x}\\u003cbr\\u003ecount=%{y}\\u003cextra\\u003e\\u003c\\u002fextra\\u003e\",\"legendgroup\":\"Satisfied\",\"marker\":{\"color\":\"blue\",\"pattern\":{\"shape\":\"\"}},\"name\":\"Satisfied\",\"offsetgroup\":\"Satisfied\",\"orientation\":\"v\",\"showlegend\":true,\"x\":[119997,44571,83848,117438,113324,49643,80037,79193,109943,119025,69034,35123,110445,96560,58148,94614,90299,98978,81371,28336,112952,35893,78259,46628,51811,105838,101766,42225,68638,105222,57061,37870,27713,114899,58309,111950,117915,62587,88988,44115,96704,105142,40575,23478,96916,86925,83890,44953,49619,41275,79539,52738,39903,48114,81608,103174,78272,37752,73026,108926,109206,77995,82900,41060,79565,27360,77506,22180,96978,82816,48029,105481,106263,80577,103359,76946,34027,101731,32106,70080,85505,87948,118685,79616,97693,109133,52600,72000,24456,101203,70719,76447,74850,85597,115138,59721,30624,47041,73029,101989,60991,100768,47500,42469,33163,94401,59815,92765,24644,79254,112133,115851,31560,103260,57140,110662,36833,31027,82463,46618,81296,60410,86855,75567,109381,36511,89870,103975,23122,44570,78528,55627,74273,47313,112114,63743,24861,32693,46796,96937,95927,63103,52722,23487,29857,25353,51798,30167,71053,66424,110991,85194,37042,51284,118632,118241],\"xaxis\":\"x\",\"yaxis\":\"y\",\"type\":\"histogram\"},{\"alignmentgroup\":\"True\",\"hovertemplate\":\"Life_Satisfaction=Satisfied\\u003cbr\\u003eIncome=%{x}\\u003cextra\\u003e\\u003c\\u002fextra\\u003e\",\"legendgroup\":\"Satisfied\",\"marker\":{\"color\":\"blue\"},\"name\":\"Satisfied\",\"notched\":true,\"offsetgroup\":\"Satisfied\",\"showlegend\":false,\"x\":[119997,44571,83848,117438,113324,49643,80037,79193,109943,119025,69034,35123,110445,96560,58148,94614,90299,98978,81371,28336,112952,35893,78259,46628,51811,105838,101766,42225,68638,105222,57061,37870,27713,114899,58309,111950,117915,62587,88988,44115,96704,105142,40575,23478,96916,86925,83890,44953,49619,41275,79539,52738,39903,48114,81608,103174,78272,37752,73026,108926,109206,77995,82900,41060,79565,27360,77506,22180,96978,82816,48029,105481,106263,80577,103359,76946,34027,101731,32106,70080,85505,87948,118685,79616,97693,109133,52600,72000,24456,101203,70719,76447,74850,85597,115138,59721,30624,47041,73029,101989,60991,100768,47500,42469,33163,94401,59815,92765,24644,79254,112133,115851,31560,103260,57140,110662,36833,31027,82463,46618,81296,60410,86855,75567,109381,36511,89870,103975,23122,44570,78528,55627,74273,47313,112114,63743,24861,32693,46796,96937,95927,63103,52722,23487,29857,25353,51798,30167,71053,66424,110991,85194,37042,51284,118632,118241],\"xaxis\":\"x2\",\"yaxis\":\"y2\",\"type\":\"box\"},{\"alignmentgroup\":\"True\",\"bingroup\":\"x\",\"hovertemplate\":\"Life_Satisfaction=Not Satisfied\\u003cbr\\u003eIncome=%{x}\\u003cbr\\u003ecount=%{y}\\u003cextra\\u003e\\u003c\\u002fextra\\u003e\",\"legendgroup\":\"Not Satisfied\",\"marker\":{\"color\":\"green\",\"pattern\":{\"shape\":\"\"}},\"name\":\"Not Satisfied\",\"offsetgroup\":\"Not Satisfied\",\"orientation\":\"v\",\"showlegend\":true,\"x\":[111130,53712,22791,57521,61377,76197,20373,27880,58704,26645,25516,93881,62627,54490,117597,65412,86718,96063,22599,106058,63730,43944,84005,104773,112699,61899,20174,49507,90454,29443,88892,74237,96572,37974,67450,112010,36851,98540,113286,41979,27884,37875,30987,67887,44988,46411,116861,85450,22923,40720,23425,29159,60974,114884,45473,38628,80355,105680,72577,33132,65302,79325,44694,63437,52071,112911,61625,57889,61229,40596,94139,27937,111134,118549,114321,26172,109714,82495,24162,48440,46776,73525,63001,76638,39370,114265,95417,99905,33563,32429,63805,72947,69950,23580,34612,27208,62872,54299,96874,31819,21449,99895,35191,79292,34914,48426,72732,91542,63825,65742,55367,108609,75211,22485,47386,48096,23744,58196,44272,77273,25940,39545,91646,55882,58703,57926,20018,84461,111622,83520,55952,66770,115569,102651,59300,115296,28603,34940,44394,78373,31054,58835,76905,63917,105549,76225],\"xaxis\":\"x\",\"yaxis\":\"y\",\"type\":\"histogram\"},{\"alignmentgroup\":\"True\",\"hovertemplate\":\"Life_Satisfaction=Not Satisfied\\u003cbr\\u003eIncome=%{x}\\u003cextra\\u003e\\u003c\\u002fextra\\u003e\",\"legendgroup\":\"Not Satisfied\",\"marker\":{\"color\":\"green\"},\"name\":\"Not Satisfied\",\"notched\":true,\"offsetgroup\":\"Not Satisfied\",\"showlegend\":false,\"x\":[111130,53712,22791,57521,61377,76197,20373,27880,58704,26645,25516,93881,62627,54490,117597,65412,86718,96063,22599,106058,63730,43944,84005,104773,112699,61899,20174,49507,90454,29443,88892,74237,96572,37974,67450,112010,36851,98540,113286,41979,27884,37875,30987,67887,44988,46411,116861,85450,22923,40720,23425,29159,60974,114884,45473,38628,80355,105680,72577,33132,65302,79325,44694,63437,52071,112911,61625,57889,61229,40596,94139,27937,111134,118549,114321,26172,109714,82495,24162,48440,46776,73525,63001,76638,39370,114265,95417,99905,33563,32429,63805,72947,69950,23580,34612,27208,62872,54299,96874,31819,21449,99895,35191,79292,34914,48426,72732,91542,63825,65742,55367,108609,75211,22485,47386,48096,23744,58196,44272,77273,25940,39545,91646,55882,58703,57926,20018,84461,111622,83520,55952,66770,115569,102651,59300,115296,28603,34940,44394,78373,31054,58835,76905,63917,105549,76225],\"xaxis\":\"x2\",\"yaxis\":\"y2\",\"type\":\"box\"},{\"alignmentgroup\":\"True\",\"bingroup\":\"x\",\"hovertemplate\":\"Life_Satisfaction=Neutral\\u003cbr\\u003eIncome=%{x}\\u003cbr\\u003ecount=%{y}\\u003cextra\\u003e\\u003c\\u002fextra\\u003e\",\"legendgroup\":\"Neutral\",\"marker\":{\"color\":\"red\",\"pattern\":{\"shape\":\"\"}},\"name\":\"Neutral\",\"offsetgroup\":\"Neutral\",\"orientation\":\"v\",\"showlegend\":true,\"x\":[31806,33719,119036,45280,114970,98346,34313,36209,85578,111734,53080,28186,89592,22994,80940,21888,78767,106522,36202,54655,33920,111068,35787,89356,114819,60781,101441,84674,112322,88646,48336,26645,110408,110985,61294,100973,37417,21983,29808,54240,53170,91015,104956,107092,110175,60669,37042,58392,25159,33671,106972,52839,61863,81624,98003,112421,80777,39478,107014,97842,20052,97946,61698,66813,79565,117479,29904,109811,42095,94566,57208,21018,103467,74501,62433,53039,62838,64694,119437,90316,40352,103026,109975,96276,59445,98376,106791,119079,74561,33882,61223,35749,100743,116844,114101,20114,61692,85377,112373,44230,68307,100645,51653,62350,59056,100736,49993,46915,37952,117782,24742,81633,38063,38159,25074,108249,30336,92625,49486,20504,44062,100888,83620,84636,115450,72373,40343,66246,88711,80102,99574,43591,72517,75480,50116,119796,26942,52643,93678,69851,72789,61418,71355,52584,98752,82447,62849,100830,101997,108917,102700,82970,37690,59762,73119,102403,89132,21769,52025,54359,66735,56316,102098,59130,109664,61057,113068,87533,20472,63500,118468,24450,32275,26814,118277,51657,31858,81970,106702,58989,69663,85343,76507,34973,36468,74340,91123,103706,73816,75217,82600,110578,33845,45751,97753,62262,63010,59169],\"xaxis\":\"x\",\"yaxis\":\"y\",\"type\":\"histogram\"},{\"alignmentgroup\":\"True\",\"hovertemplate\":\"Life_Satisfaction=Neutral\\u003cbr\\u003eIncome=%{x}\\u003cextra\\u003e\\u003c\\u002fextra\\u003e\",\"legendgroup\":\"Neutral\",\"marker\":{\"color\":\"red\"},\"name\":\"Neutral\",\"notched\":true,\"offsetgroup\":\"Neutral\",\"showlegend\":false,\"x\":[31806,33719,119036,45280,114970,98346,34313,36209,85578,111734,53080,28186,89592,22994,80940,21888,78767,106522,36202,54655,33920,111068,35787,89356,114819,60781,101441,84674,112322,88646,48336,26645,110408,110985,61294,100973,37417,21983,29808,54240,53170,91015,104956,107092,110175,60669,37042,58392,25159,33671,106972,52839,61863,81624,98003,112421,80777,39478,107014,97842,20052,97946,61698,66813,79565,117479,29904,109811,42095,94566,57208,21018,103467,74501,62433,53039,62838,64694,119437,90316,40352,103026,109975,96276,59445,98376,106791,119079,74561,33882,61223,35749,100743,116844,114101,20114,61692,85377,112373,44230,68307,100645,51653,62350,59056,100736,49993,46915,37952,117782,24742,81633,38063,38159,25074,108249,30336,92625,49486,20504,44062,100888,83620,84636,115450,72373,40343,66246,88711,80102,99574,43591,72517,75480,50116,119796,26942,52643,93678,69851,72789,61418,71355,52584,98752,82447,62849,100830,101997,108917,102700,82970,37690,59762,73119,102403,89132,21769,52025,54359,66735,56316,102098,59130,109664,61057,113068,87533,20472,63500,118468,24450,32275,26814,118277,51657,31858,81970,106702,58989,69663,85343,76507,34973,36468,74340,91123,103706,73816,75217,82600,110578,33845,45751,97753,62262,63010,59169],\"xaxis\":\"x2\",\"yaxis\":\"y2\",\"type\":\"box\"}],                        {\"template\":{\"data\":{\"histogram2dcontour\":[{\"type\":\"histogram2dcontour\",\"colorbar\":{\"outlinewidth\":0,\"ticks\":\"\"},\"colorscale\":[[0.0,\"#0d0887\"],[0.1111111111111111,\"#46039f\"],[0.2222222222222222,\"#7201a8\"],[0.3333333333333333,\"#9c179e\"],[0.4444444444444444,\"#bd3786\"],[0.5555555555555556,\"#d8576b\"],[0.6666666666666666,\"#ed7953\"],[0.7777777777777778,\"#fb9f3a\"],[0.8888888888888888,\"#fdca26\"],[1.0,\"#f0f921\"]]}],\"choropleth\":[{\"type\":\"choropleth\",\"colorbar\":{\"outlinewidth\":0,\"ticks\":\"\"}}],\"histogram2d\":[{\"type\":\"histogram2d\",\"colorbar\":{\"outlinewidth\":0,\"ticks\":\"\"},\"colorscale\":[[0.0,\"#0d0887\"],[0.1111111111111111,\"#46039f\"],[0.2222222222222222,\"#7201a8\"],[0.3333333333333333,\"#9c179e\"],[0.4444444444444444,\"#bd3786\"],[0.5555555555555556,\"#d8576b\"],[0.6666666666666666,\"#ed7953\"],[0.7777777777777778,\"#fb9f3a\"],[0.8888888888888888,\"#fdca26\"],[1.0,\"#f0f921\"]]}],\"heatmap\":[{\"type\":\"heatmap\",\"colorbar\":{\"outlinewidth\":0,\"ticks\":\"\"},\"colorscale\":[[0.0,\"#0d0887\"],[0.1111111111111111,\"#46039f\"],[0.2222222222222222,\"#7201a8\"],[0.3333333333333333,\"#9c179e\"],[0.4444444444444444,\"#bd3786\"],[0.5555555555555556,\"#d8576b\"],[0.6666666666666666,\"#ed7953\"],[0.7777777777777778,\"#fb9f3a\"],[0.8888888888888888,\"#fdca26\"],[1.0,\"#f0f921\"]]}],\"heatmapgl\":[{\"type\":\"heatmapgl\",\"colorbar\":{\"outlinewidth\":0,\"ticks\":\"\"},\"colorscale\":[[0.0,\"#0d0887\"],[0.1111111111111111,\"#46039f\"],[0.2222222222222222,\"#7201a8\"],[0.3333333333333333,\"#9c179e\"],[0.4444444444444444,\"#bd3786\"],[0.5555555555555556,\"#d8576b\"],[0.6666666666666666,\"#ed7953\"],[0.7777777777777778,\"#fb9f3a\"],[0.8888888888888888,\"#fdca26\"],[1.0,\"#f0f921\"]]}],\"contourcarpet\":[{\"type\":\"contourcarpet\",\"colorbar\":{\"outlinewidth\":0,\"ticks\":\"\"}}],\"contour\":[{\"type\":\"contour\",\"colorbar\":{\"outlinewidth\":0,\"ticks\":\"\"},\"colorscale\":[[0.0,\"#0d0887\"],[0.1111111111111111,\"#46039f\"],[0.2222222222222222,\"#7201a8\"],[0.3333333333333333,\"#9c179e\"],[0.4444444444444444,\"#bd3786\"],[0.5555555555555556,\"#d8576b\"],[0.6666666666666666,\"#ed7953\"],[0.7777777777777778,\"#fb9f3a\"],[0.8888888888888888,\"#fdca26\"],[1.0,\"#f0f921\"]]}],\"surface\":[{\"type\":\"surface\",\"colorbar\":{\"outlinewidth\":0,\"ticks\":\"\"},\"colorscale\":[[0.0,\"#0d0887\"],[0.1111111111111111,\"#46039f\"],[0.2222222222222222,\"#7201a8\"],[0.3333333333333333,\"#9c179e\"],[0.4444444444444444,\"#bd3786\"],[0.5555555555555556,\"#d8576b\"],[0.6666666666666666,\"#ed7953\"],[0.7777777777777778,\"#fb9f3a\"],[0.8888888888888888,\"#fdca26\"],[1.0,\"#f0f921\"]]}],\"mesh3d\":[{\"type\":\"mesh3d\",\"colorbar\":{\"outlinewidth\":0,\"ticks\":\"\"}}],\"scatter\":[{\"fillpattern\":{\"fillmode\":\"overlay\",\"size\":10,\"solidity\":0.2},\"type\":\"scatter\"}],\"parcoords\":[{\"type\":\"parcoords\",\"line\":{\"colorbar\":{\"outlinewidth\":0,\"ticks\":\"\"}}}],\"scatterpolargl\":[{\"type\":\"scatterpolargl\",\"marker\":{\"colorbar\":{\"outlinewidth\":0,\"ticks\":\"\"}}}],\"bar\":[{\"error_x\":{\"color\":\"#2a3f5f\"},\"error_y\":{\"color\":\"#2a3f5f\"},\"marker\":{\"line\":{\"color\":\"#E5ECF6\",\"width\":0.5},\"pattern\":{\"fillmode\":\"overlay\",\"size\":10,\"solidity\":0.2}},\"type\":\"bar\"}],\"scattergeo\":[{\"type\":\"scattergeo\",\"marker\":{\"colorbar\":{\"outlinewidth\":0,\"ticks\":\"\"}}}],\"scatterpolar\":[{\"type\":\"scatterpolar\",\"marker\":{\"colorbar\":{\"outlinewidth\":0,\"ticks\":\"\"}}}],\"histogram\":[{\"marker\":{\"pattern\":{\"fillmode\":\"overlay\",\"size\":10,\"solidity\":0.2}},\"type\":\"histogram\"}],\"scattergl\":[{\"type\":\"scattergl\",\"marker\":{\"colorbar\":{\"outlinewidth\":0,\"ticks\":\"\"}}}],\"scatter3d\":[{\"type\":\"scatter3d\",\"line\":{\"colorbar\":{\"outlinewidth\":0,\"ticks\":\"\"}},\"marker\":{\"colorbar\":{\"outlinewidth\":0,\"ticks\":\"\"}}}],\"scattermapbox\":[{\"type\":\"scattermapbox\",\"marker\":{\"colorbar\":{\"outlinewidth\":0,\"ticks\":\"\"}}}],\"scatterternary\":[{\"type\":\"scatterternary\",\"marker\":{\"colorbar\":{\"outlinewidth\":0,\"ticks\":\"\"}}}],\"scattercarpet\":[{\"type\":\"scattercarpet\",\"marker\":{\"colorbar\":{\"outlinewidth\":0,\"ticks\":\"\"}}}],\"carpet\":[{\"aaxis\":{\"endlinecolor\":\"#2a3f5f\",\"gridcolor\":\"white\",\"linecolor\":\"white\",\"minorgridcolor\":\"white\",\"startlinecolor\":\"#2a3f5f\"},\"baxis\":{\"endlinecolor\":\"#2a3f5f\",\"gridcolor\":\"white\",\"linecolor\":\"white\",\"minorgridcolor\":\"white\",\"startlinecolor\":\"#2a3f5f\"},\"type\":\"carpet\"}],\"table\":[{\"cells\":{\"fill\":{\"color\":\"#EBF0F8\"},\"line\":{\"color\":\"white\"}},\"header\":{\"fill\":{\"color\":\"#C8D4E3\"},\"line\":{\"color\":\"white\"}},\"type\":\"table\"}],\"barpolar\":[{\"marker\":{\"line\":{\"color\":\"#E5ECF6\",\"width\":0.5},\"pattern\":{\"fillmode\":\"overlay\",\"size\":10,\"solidity\":0.2}},\"type\":\"barpolar\"}],\"pie\":[{\"automargin\":true,\"type\":\"pie\"}]},\"layout\":{\"autotypenumbers\":\"strict\",\"colorway\":[\"#636efa\",\"#EF553B\",\"#00cc96\",\"#ab63fa\",\"#FFA15A\",\"#19d3f3\",\"#FF6692\",\"#B6E880\",\"#FF97FF\",\"#FECB52\"],\"font\":{\"color\":\"#2a3f5f\"},\"hovermode\":\"closest\",\"hoverlabel\":{\"align\":\"left\"},\"paper_bgcolor\":\"white\",\"plot_bgcolor\":\"#E5ECF6\",\"polar\":{\"bgcolor\":\"#E5ECF6\",\"angularaxis\":{\"gridcolor\":\"white\",\"linecolor\":\"white\",\"ticks\":\"\"},\"radialaxis\":{\"gridcolor\":\"white\",\"linecolor\":\"white\",\"ticks\":\"\"}},\"ternary\":{\"bgcolor\":\"#E5ECF6\",\"aaxis\":{\"gridcolor\":\"white\",\"linecolor\":\"white\",\"ticks\":\"\"},\"baxis\":{\"gridcolor\":\"white\",\"linecolor\":\"white\",\"ticks\":\"\"},\"caxis\":{\"gridcolor\":\"white\",\"linecolor\":\"white\",\"ticks\":\"\"}},\"coloraxis\":{\"colorbar\":{\"outlinewidth\":0,\"ticks\":\"\"}},\"colorscale\":{\"sequential\":[[0.0,\"#0d0887\"],[0.1111111111111111,\"#46039f\"],[0.2222222222222222,\"#7201a8\"],[0.3333333333333333,\"#9c179e\"],[0.4444444444444444,\"#bd3786\"],[0.5555555555555556,\"#d8576b\"],[0.6666666666666666,\"#ed7953\"],[0.7777777777777778,\"#fb9f3a\"],[0.8888888888888888,\"#fdca26\"],[1.0,\"#f0f921\"]],\"sequentialminus\":[[0.0,\"#0d0887\"],[0.1111111111111111,\"#46039f\"],[0.2222222222222222,\"#7201a8\"],[0.3333333333333333,\"#9c179e\"],[0.4444444444444444,\"#bd3786\"],[0.5555555555555556,\"#d8576b\"],[0.6666666666666666,\"#ed7953\"],[0.7777777777777778,\"#fb9f3a\"],[0.8888888888888888,\"#fdca26\"],[1.0,\"#f0f921\"]],\"diverging\":[[0,\"#8e0152\"],[0.1,\"#c51b7d\"],[0.2,\"#de77ae\"],[0.3,\"#f1b6da\"],[0.4,\"#fde0ef\"],[0.5,\"#f7f7f7\"],[0.6,\"#e6f5d0\"],[0.7,\"#b8e186\"],[0.8,\"#7fbc41\"],[0.9,\"#4d9221\"],[1,\"#276419\"]]},\"xaxis\":{\"gridcolor\":\"white\",\"linecolor\":\"white\",\"ticks\":\"\",\"title\":{\"standoff\":15},\"zerolinecolor\":\"white\",\"automargin\":true,\"zerolinewidth\":2},\"yaxis\":{\"gridcolor\":\"white\",\"linecolor\":\"white\",\"ticks\":\"\",\"title\":{\"standoff\":15},\"zerolinecolor\":\"white\",\"automargin\":true,\"zerolinewidth\":2},\"scene\":{\"xaxis\":{\"backgroundcolor\":\"#E5ECF6\",\"gridcolor\":\"white\",\"linecolor\":\"white\",\"showbackground\":true,\"ticks\":\"\",\"zerolinecolor\":\"white\",\"gridwidth\":2},\"yaxis\":{\"backgroundcolor\":\"#E5ECF6\",\"gridcolor\":\"white\",\"linecolor\":\"white\",\"showbackground\":true,\"ticks\":\"\",\"zerolinecolor\":\"white\",\"gridwidth\":2},\"zaxis\":{\"backgroundcolor\":\"#E5ECF6\",\"gridcolor\":\"white\",\"linecolor\":\"white\",\"showbackground\":true,\"ticks\":\"\",\"zerolinecolor\":\"white\",\"gridwidth\":2}},\"shapedefaults\":{\"line\":{\"color\":\"#2a3f5f\"}},\"annotationdefaults\":{\"arrowcolor\":\"#2a3f5f\",\"arrowhead\":0,\"arrowwidth\":1},\"geo\":{\"bgcolor\":\"white\",\"landcolor\":\"#E5ECF6\",\"subunitcolor\":\"white\",\"showland\":true,\"showlakes\":true,\"lakecolor\":\"white\"},\"title\":{\"x\":0.05},\"mapbox\":{\"style\":\"light\"}}},\"xaxis\":{\"anchor\":\"y\",\"domain\":[0.0,1.0],\"title\":{\"text\":\"Income\"}},\"yaxis\":{\"anchor\":\"x\",\"domain\":[0.0,0.7326],\"title\":{\"text\":\"count\"}},\"xaxis2\":{\"anchor\":\"y2\",\"domain\":[0.0,1.0],\"matches\":\"x\",\"showticklabels\":false,\"showgrid\":true},\"yaxis2\":{\"anchor\":\"x2\",\"domain\":[0.7426,1.0],\"matches\":\"y2\",\"showticklabels\":false,\"showline\":false,\"ticks\":\"\",\"showgrid\":false},\"legend\":{\"title\":{\"text\":\"Life_Satisfaction\"},\"tracegroupgap\":0},\"title\":{\"text\":\"Correlation between income and life satisfaction\"},\"barmode\":\"relative\",\"bargap\":0.1},                        {\"responsive\": true}                    ).then(function(){\n",
              "                            \n",
              "var gd = document.getElementById('ae417840-8258-44c6-9f21-8fc229cb4041');\n",
              "var x = new MutationObserver(function (mutations, observer) {{\n",
              "        var display = window.getComputedStyle(gd).display;\n",
              "        if (!display || display === 'none') {{\n",
              "            console.log([gd, 'removed!']);\n",
              "            Plotly.purge(gd);\n",
              "            observer.disconnect();\n",
              "        }}\n",
              "}});\n",
              "\n",
              "// Listen for the removal of the full notebook cells\n",
              "var notebookContainer = gd.closest('#notebook-container');\n",
              "if (notebookContainer) {{\n",
              "    x.observe(notebookContainer, {childList: true});\n",
              "}}\n",
              "\n",
              "// Listen for the clearing of the current output cell\n",
              "var outputEl = gd.closest('.output');\n",
              "if (outputEl) {{\n",
              "    x.observe(outputEl, {childList: true});\n",
              "}}\n",
              "\n",
              "                        })                };                            </script>        </div>\n",
              "</body>\n",
              "</html>"
            ]
          },
          "metadata": {}
        }
      ]
    },
    {
      "cell_type": "code",
      "source": [
        "data['Education_Level']=data['Education_Level'].replace({'High School':12,'Bachelor':16,'Master':18,'PhD':21})"
      ],
      "metadata": {
        "id": "piV-thP0WXof"
      },
      "execution_count": 67,
      "outputs": []
    },
    {
      "cell_type": "code",
      "source": [
        "data.describe()"
      ],
      "metadata": {
        "colab": {
          "base_uri": "https://localhost:8080/",
          "height": 300
        },
        "id": "ZK4ZQjqBeQWD",
        "outputId": "1fccbf1f-ae6a-47ae-e4e1-e5e25740b39b"
      },
      "execution_count": 68,
      "outputs": [
        {
          "output_type": "execute_result",
          "data": {
            "text/plain": [
              "               ID        Age         Income  Education_Level  \\\n",
              "count  500.000000  500.00000     500.000000       500.000000   \n",
              "mean   250.500000   43.49200   69428.794000        17.020000   \n",
              "std    144.481833   14.68923   29537.107166         3.260808   \n",
              "min      1.000000   18.00000   20018.000000        12.000000   \n",
              "25%    125.750000   31.00000   44261.500000        16.000000   \n",
              "50%    250.500000   43.00000   67668.500000        18.000000   \n",
              "75%    375.250000   56.00000   96746.500000        21.000000   \n",
              "max    500.000000   69.00000  119997.000000        21.000000   \n",
              "\n",
              "       Hours_Spent_on_Technology_Per_Day  Exercise_Hours_per_Week  \\\n",
              "count                         500.000000               500.000000   \n",
              "mean                            4.075000                 5.196400   \n",
              "std                             2.345583                 2.855629   \n",
              "min                             0.000000                 0.000000   \n",
              "25%                             2.075000                 2.500000   \n",
              "50%                             4.000000                 5.300000   \n",
              "75%                             6.100000                 7.700000   \n",
              "max                             8.000000                10.000000   \n",
              "\n",
              "       Healthy_Eating_Score  \n",
              "count            500.000000  \n",
              "mean               2.954000  \n",
              "std                1.372462  \n",
              "min                1.000000  \n",
              "25%                2.000000  \n",
              "50%                3.000000  \n",
              "75%                4.000000  \n",
              "max                5.000000  "
            ],
            "text/html": [
              "\n",
              "  <div id=\"df-ae8d5c4f-7ba3-4f22-b023-acf337d22ff4\" class=\"colab-df-container\">\n",
              "    <div>\n",
              "<style scoped>\n",
              "    .dataframe tbody tr th:only-of-type {\n",
              "        vertical-align: middle;\n",
              "    }\n",
              "\n",
              "    .dataframe tbody tr th {\n",
              "        vertical-align: top;\n",
              "    }\n",
              "\n",
              "    .dataframe thead th {\n",
              "        text-align: right;\n",
              "    }\n",
              "</style>\n",
              "<table border=\"1\" class=\"dataframe\">\n",
              "  <thead>\n",
              "    <tr style=\"text-align: right;\">\n",
              "      <th></th>\n",
              "      <th>ID</th>\n",
              "      <th>Age</th>\n",
              "      <th>Income</th>\n",
              "      <th>Education_Level</th>\n",
              "      <th>Hours_Spent_on_Technology_Per_Day</th>\n",
              "      <th>Exercise_Hours_per_Week</th>\n",
              "      <th>Healthy_Eating_Score</th>\n",
              "    </tr>\n",
              "  </thead>\n",
              "  <tbody>\n",
              "    <tr>\n",
              "      <th>count</th>\n",
              "      <td>500.000000</td>\n",
              "      <td>500.00000</td>\n",
              "      <td>500.000000</td>\n",
              "      <td>500.000000</td>\n",
              "      <td>500.000000</td>\n",
              "      <td>500.000000</td>\n",
              "      <td>500.000000</td>\n",
              "    </tr>\n",
              "    <tr>\n",
              "      <th>mean</th>\n",
              "      <td>250.500000</td>\n",
              "      <td>43.49200</td>\n",
              "      <td>69428.794000</td>\n",
              "      <td>17.020000</td>\n",
              "      <td>4.075000</td>\n",
              "      <td>5.196400</td>\n",
              "      <td>2.954000</td>\n",
              "    </tr>\n",
              "    <tr>\n",
              "      <th>std</th>\n",
              "      <td>144.481833</td>\n",
              "      <td>14.68923</td>\n",
              "      <td>29537.107166</td>\n",
              "      <td>3.260808</td>\n",
              "      <td>2.345583</td>\n",
              "      <td>2.855629</td>\n",
              "      <td>1.372462</td>\n",
              "    </tr>\n",
              "    <tr>\n",
              "      <th>min</th>\n",
              "      <td>1.000000</td>\n",
              "      <td>18.00000</td>\n",
              "      <td>20018.000000</td>\n",
              "      <td>12.000000</td>\n",
              "      <td>0.000000</td>\n",
              "      <td>0.000000</td>\n",
              "      <td>1.000000</td>\n",
              "    </tr>\n",
              "    <tr>\n",
              "      <th>25%</th>\n",
              "      <td>125.750000</td>\n",
              "      <td>31.00000</td>\n",
              "      <td>44261.500000</td>\n",
              "      <td>16.000000</td>\n",
              "      <td>2.075000</td>\n",
              "      <td>2.500000</td>\n",
              "      <td>2.000000</td>\n",
              "    </tr>\n",
              "    <tr>\n",
              "      <th>50%</th>\n",
              "      <td>250.500000</td>\n",
              "      <td>43.00000</td>\n",
              "      <td>67668.500000</td>\n",
              "      <td>18.000000</td>\n",
              "      <td>4.000000</td>\n",
              "      <td>5.300000</td>\n",
              "      <td>3.000000</td>\n",
              "    </tr>\n",
              "    <tr>\n",
              "      <th>75%</th>\n",
              "      <td>375.250000</td>\n",
              "      <td>56.00000</td>\n",
              "      <td>96746.500000</td>\n",
              "      <td>21.000000</td>\n",
              "      <td>6.100000</td>\n",
              "      <td>7.700000</td>\n",
              "      <td>4.000000</td>\n",
              "    </tr>\n",
              "    <tr>\n",
              "      <th>max</th>\n",
              "      <td>500.000000</td>\n",
              "      <td>69.00000</td>\n",
              "      <td>119997.000000</td>\n",
              "      <td>21.000000</td>\n",
              "      <td>8.000000</td>\n",
              "      <td>10.000000</td>\n",
              "      <td>5.000000</td>\n",
              "    </tr>\n",
              "  </tbody>\n",
              "</table>\n",
              "</div>\n",
              "    <div class=\"colab-df-buttons\">\n",
              "\n",
              "  <div class=\"colab-df-container\">\n",
              "    <button class=\"colab-df-convert\" onclick=\"convertToInteractive('df-ae8d5c4f-7ba3-4f22-b023-acf337d22ff4')\"\n",
              "            title=\"Convert this dataframe to an interactive table.\"\n",
              "            style=\"display:none;\">\n",
              "\n",
              "  <svg xmlns=\"http://www.w3.org/2000/svg\" height=\"24px\" viewBox=\"0 -960 960 960\">\n",
              "    <path d=\"M120-120v-720h720v720H120Zm60-500h600v-160H180v160Zm220 220h160v-160H400v160Zm0 220h160v-160H400v160ZM180-400h160v-160H180v160Zm440 0h160v-160H620v160ZM180-180h160v-160H180v160Zm440 0h160v-160H620v160Z\"/>\n",
              "  </svg>\n",
              "    </button>\n",
              "\n",
              "  <style>\n",
              "    .colab-df-container {\n",
              "      display:flex;\n",
              "      gap: 12px;\n",
              "    }\n",
              "\n",
              "    .colab-df-convert {\n",
              "      background-color: #E8F0FE;\n",
              "      border: none;\n",
              "      border-radius: 50%;\n",
              "      cursor: pointer;\n",
              "      display: none;\n",
              "      fill: #1967D2;\n",
              "      height: 32px;\n",
              "      padding: 0 0 0 0;\n",
              "      width: 32px;\n",
              "    }\n",
              "\n",
              "    .colab-df-convert:hover {\n",
              "      background-color: #E2EBFA;\n",
              "      box-shadow: 0px 1px 2px rgba(60, 64, 67, 0.3), 0px 1px 3px 1px rgba(60, 64, 67, 0.15);\n",
              "      fill: #174EA6;\n",
              "    }\n",
              "\n",
              "    .colab-df-buttons div {\n",
              "      margin-bottom: 4px;\n",
              "    }\n",
              "\n",
              "    [theme=dark] .colab-df-convert {\n",
              "      background-color: #3B4455;\n",
              "      fill: #D2E3FC;\n",
              "    }\n",
              "\n",
              "    [theme=dark] .colab-df-convert:hover {\n",
              "      background-color: #434B5C;\n",
              "      box-shadow: 0px 1px 3px 1px rgba(0, 0, 0, 0.15);\n",
              "      filter: drop-shadow(0px 1px 2px rgba(0, 0, 0, 0.3));\n",
              "      fill: #FFFFFF;\n",
              "    }\n",
              "  </style>\n",
              "\n",
              "    <script>\n",
              "      const buttonEl =\n",
              "        document.querySelector('#df-ae8d5c4f-7ba3-4f22-b023-acf337d22ff4 button.colab-df-convert');\n",
              "      buttonEl.style.display =\n",
              "        google.colab.kernel.accessAllowed ? 'block' : 'none';\n",
              "\n",
              "      async function convertToInteractive(key) {\n",
              "        const element = document.querySelector('#df-ae8d5c4f-7ba3-4f22-b023-acf337d22ff4');\n",
              "        const dataTable =\n",
              "          await google.colab.kernel.invokeFunction('convertToInteractive',\n",
              "                                                    [key], {});\n",
              "        if (!dataTable) return;\n",
              "\n",
              "        const docLinkHtml = 'Like what you see? Visit the ' +\n",
              "          '<a target=\"_blank\" href=https://colab.research.google.com/notebooks/data_table.ipynb>data table notebook</a>'\n",
              "          + ' to learn more about interactive tables.';\n",
              "        element.innerHTML = '';\n",
              "        dataTable['output_type'] = 'display_data';\n",
              "        await google.colab.output.renderOutput(dataTable, element);\n",
              "        const docLink = document.createElement('div');\n",
              "        docLink.innerHTML = docLinkHtml;\n",
              "        element.appendChild(docLink);\n",
              "      }\n",
              "    </script>\n",
              "  </div>\n",
              "\n",
              "\n",
              "<div id=\"df-f28b4961-1de8-4ea1-9f56-551ba4169fa0\">\n",
              "  <button class=\"colab-df-quickchart\" onclick=\"quickchart('df-f28b4961-1de8-4ea1-9f56-551ba4169fa0')\"\n",
              "            title=\"Suggest charts\"\n",
              "            style=\"display:none;\">\n",
              "\n",
              "<svg xmlns=\"http://www.w3.org/2000/svg\" height=\"24px\"viewBox=\"0 0 24 24\"\n",
              "     width=\"24px\">\n",
              "    <g>\n",
              "        <path d=\"M19 3H5c-1.1 0-2 .9-2 2v14c0 1.1.9 2 2 2h14c1.1 0 2-.9 2-2V5c0-1.1-.9-2-2-2zM9 17H7v-7h2v7zm4 0h-2V7h2v10zm4 0h-2v-4h2v4z\"/>\n",
              "    </g>\n",
              "</svg>\n",
              "  </button>\n",
              "\n",
              "<style>\n",
              "  .colab-df-quickchart {\n",
              "      --bg-color: #E8F0FE;\n",
              "      --fill-color: #1967D2;\n",
              "      --hover-bg-color: #E2EBFA;\n",
              "      --hover-fill-color: #174EA6;\n",
              "      --disabled-fill-color: #AAA;\n",
              "      --disabled-bg-color: #DDD;\n",
              "  }\n",
              "\n",
              "  [theme=dark] .colab-df-quickchart {\n",
              "      --bg-color: #3B4455;\n",
              "      --fill-color: #D2E3FC;\n",
              "      --hover-bg-color: #434B5C;\n",
              "      --hover-fill-color: #FFFFFF;\n",
              "      --disabled-bg-color: #3B4455;\n",
              "      --disabled-fill-color: #666;\n",
              "  }\n",
              "\n",
              "  .colab-df-quickchart {\n",
              "    background-color: var(--bg-color);\n",
              "    border: none;\n",
              "    border-radius: 50%;\n",
              "    cursor: pointer;\n",
              "    display: none;\n",
              "    fill: var(--fill-color);\n",
              "    height: 32px;\n",
              "    padding: 0;\n",
              "    width: 32px;\n",
              "  }\n",
              "\n",
              "  .colab-df-quickchart:hover {\n",
              "    background-color: var(--hover-bg-color);\n",
              "    box-shadow: 0 1px 2px rgba(60, 64, 67, 0.3), 0 1px 3px 1px rgba(60, 64, 67, 0.15);\n",
              "    fill: var(--button-hover-fill-color);\n",
              "  }\n",
              "\n",
              "  .colab-df-quickchart-complete:disabled,\n",
              "  .colab-df-quickchart-complete:disabled:hover {\n",
              "    background-color: var(--disabled-bg-color);\n",
              "    fill: var(--disabled-fill-color);\n",
              "    box-shadow: none;\n",
              "  }\n",
              "\n",
              "  .colab-df-spinner {\n",
              "    border: 2px solid var(--fill-color);\n",
              "    border-color: transparent;\n",
              "    border-bottom-color: var(--fill-color);\n",
              "    animation:\n",
              "      spin 1s steps(1) infinite;\n",
              "  }\n",
              "\n",
              "  @keyframes spin {\n",
              "    0% {\n",
              "      border-color: transparent;\n",
              "      border-bottom-color: var(--fill-color);\n",
              "      border-left-color: var(--fill-color);\n",
              "    }\n",
              "    20% {\n",
              "      border-color: transparent;\n",
              "      border-left-color: var(--fill-color);\n",
              "      border-top-color: var(--fill-color);\n",
              "    }\n",
              "    30% {\n",
              "      border-color: transparent;\n",
              "      border-left-color: var(--fill-color);\n",
              "      border-top-color: var(--fill-color);\n",
              "      border-right-color: var(--fill-color);\n",
              "    }\n",
              "    40% {\n",
              "      border-color: transparent;\n",
              "      border-right-color: var(--fill-color);\n",
              "      border-top-color: var(--fill-color);\n",
              "    }\n",
              "    60% {\n",
              "      border-color: transparent;\n",
              "      border-right-color: var(--fill-color);\n",
              "    }\n",
              "    80% {\n",
              "      border-color: transparent;\n",
              "      border-right-color: var(--fill-color);\n",
              "      border-bottom-color: var(--fill-color);\n",
              "    }\n",
              "    90% {\n",
              "      border-color: transparent;\n",
              "      border-bottom-color: var(--fill-color);\n",
              "    }\n",
              "  }\n",
              "</style>\n",
              "\n",
              "  <script>\n",
              "    async function quickchart(key) {\n",
              "      const quickchartButtonEl =\n",
              "        document.querySelector('#' + key + ' button');\n",
              "      quickchartButtonEl.disabled = true;  // To prevent multiple clicks.\n",
              "      quickchartButtonEl.classList.add('colab-df-spinner');\n",
              "      try {\n",
              "        const charts = await google.colab.kernel.invokeFunction(\n",
              "            'suggestCharts', [key], {});\n",
              "      } catch (error) {\n",
              "        console.error('Error during call to suggestCharts:', error);\n",
              "      }\n",
              "      quickchartButtonEl.classList.remove('colab-df-spinner');\n",
              "      quickchartButtonEl.classList.add('colab-df-quickchart-complete');\n",
              "    }\n",
              "    (() => {\n",
              "      let quickchartButtonEl =\n",
              "        document.querySelector('#df-f28b4961-1de8-4ea1-9f56-551ba4169fa0 button');\n",
              "      quickchartButtonEl.style.display =\n",
              "        google.colab.kernel.accessAllowed ? 'block' : 'none';\n",
              "    })();\n",
              "  </script>\n",
              "</div>\n",
              "    </div>\n",
              "  </div>\n"
            ]
          },
          "metadata": {},
          "execution_count": 68
        }
      ]
    },
    {
      "cell_type": "markdown",
      "source": [
        "**Statistical Hypothesis Testing**\n",
        "\n",
        "1. Is the average salary of PhD respondents statistically different from High School respondents ?\n",
        "2. Is there any correlation between income and Life Satisfaction significant ?\n",
        "3. Is there correlation between Degree Owned and life satisfaction ?"
      ],
      "metadata": {
        "id": "Mkw2_yrqQDw-"
      }
    },
    {
      "cell_type": "markdown",
      "source": [
        "To know which one to use, normality tests must be done on our data. If our data have a known and specific distribution, such as the Gaussian distribution; parametric statistical methods must be used. On the contrary, if data are not Gaussian, nonparametric statistical methods should be used.\n",
        "\n",
        "There are two main ways to know if our data are Gaussian :\n",
        "\n",
        "Graphical methods\n",
        "\n",
        "Histogram plot\n",
        "QQ plot\n",
        "Statistical methods\n",
        "\n",
        "Shapiro test\n",
        "D'Agostino and Pearson test\n",
        "Anderson-Darling test\n",
        "Kolmogorov-Smirnov test\n",
        "Graphical methods are mainly used for qualifying deviations from normality\n",
        "\n",
        "Statistical methods are mainly used for quantifying deviations from normality"
      ],
      "metadata": {
        "id": "cE_RV6zObYCm"
      }
    },
    {
      "cell_type": "code",
      "source": [
        "df = pd.DataFrame(data=data, columns=['Age','Income','Education_Level','Hours_Spent_on_Technology_Per_Day','Exercise_Hours_per_Week','Healthy_Eating_Score'])\n",
        "nd = pd.melt(df, value_vars =df )\n",
        "n1 = sns.FacetGrid (nd, col='variable', col_wrap=4, sharex=False, sharey = False)\n",
        "n1 = n1.map(sns.histplot, 'value')\n",
        "n1"
      ],
      "metadata": {
        "colab": {
          "base_uri": "https://localhost:8080/",
          "height": 624
        },
        "id": "d2nVm5hwLoJv",
        "outputId": "3c8a8c41-22f6-4d09-ca38-b515bb7aef0d"
      },
      "execution_count": 69,
      "outputs": [
        {
          "output_type": "execute_result",
          "data": {
            "text/plain": [
              "<seaborn.axisgrid.FacetGrid at 0x7c6495bd67a0>"
            ]
          },
          "metadata": {},
          "execution_count": 69
        },
        {
          "output_type": "display_data",
          "data": {
            "text/plain": [
              "<Figure size 1200x600 with 6 Axes>"
            ],
            "image/png": "[encoded data removed]"
          },
          "metadata": {}
        }
      ]
    },
    {
      "cell_type": "markdown",
      "source": [
        "From the graph, we can immediately see which variables seem to be Gaussian or Gaussian-like :\n",
        "\n",
        "Age, Income, Hours_Spent_on_Technology_Per_Day, and Exercise_Hours_per_Week have Gaussian-like distributions\n",
        "\n",
        "Educationnal_Level and Healthy_Eating Score has a Multinomial distribution\n",
        "\n",
        "We can verify with a statistical method that none of our variables is Gaussian"
      ],
      "metadata": {
        "id": "Kpv-1_XQfk10"
      }
    },
    {
      "cell_type": "markdown",
      "source": [
        "**Shapiro Test**"
      ],
      "metadata": {
        "id": "WFMxRTxXgCRI"
      }
    },
    {
      "cell_type": "code",
      "source": [
        "X=['Age','Income','Education_Level','Hours_Spent_on_Technology_Per_Day','Exercise_Hours_per_Week','Healthy_Eating_Score']\n",
        "\n",
        "column_dict= {elem : pd.DataFrame() for elem in X}\n",
        "\n",
        "def shapiro_test(data):\n",
        "    stat, p = shapiro(data)\n",
        "    print('%s : Statistics=%.3f, p=%.3f' % (column,stat, p))\n",
        "    alpha = 0.05\n",
        "    if p > alpha:\n",
        "        print('Sample looks Gaussian (We fail to reject H0)')\n",
        "    else:\n",
        "        print('Sample does not look Gaussian (We reject H0)')\n",
        "\n",
        "for column in X:\n",
        "    column_dict[column] = data[column]\n",
        "    shapiro_test(column_dict[column])"
      ],
      "metadata": {
        "colab": {
          "base_uri": "https://localhost:8080/"
        },
        "id": "yOzvQkqgLoH4",
        "outputId": "b3a6b5f6-d0eb-42e8-c834-1cbf57f133f5"
      },
      "execution_count": 70,
      "outputs": [
        {
          "output_type": "stream",
          "name": "stdout",
          "text": [
            "Age : Statistics=0.958, p=0.000\n",
            "Sample does not look Gaussian (We reject H0)\n",
            "Income : Statistics=0.950, p=0.000\n",
            "Sample does not look Gaussian (We reject H0)\n",
            "Education_Level : Statistics=0.849, p=0.000\n",
            "Sample does not look Gaussian (We reject H0)\n",
            "Hours_Spent_on_Technology_Per_Day : Statistics=0.950, p=0.000\n",
            "Sample does not look Gaussian (We reject H0)\n",
            "Exercise_Hours_per_Week : Statistics=0.953, p=0.000\n",
            "Sample does not look Gaussian (We reject H0)\n",
            "Healthy_Eating_Score : Statistics=0.896, p=0.000\n",
            "Sample does not look Gaussian (We reject H0)\n"
          ]
        }
      ]
    },
    {
      "cell_type": "markdown",
      "source": [
        "All the p-values are inferior to 0.05 :\n",
        "\n",
        "We reject the null-hypothesis. Our variables are not Gaussian at a 5% significance level\n",
        "\n",
        "We will use nonparametric statistical methods to test our hypotheses"
      ],
      "metadata": {
        "id": "lcgp7yDXo23x"
      }
    },
    {
      "cell_type": "markdown",
      "source": [
        "Rank Significance Tests\n",
        "Numerical variables : Mann-Whitney's test\n",
        "Our first question was to find if the average salary of PhD respondents statistically different from High School respondents\n",
        "\n",
        "Hypothesis statement\n",
        "H_0 : The mean ranks of the two groups are equal\n",
        "\n",
        "H_a : The mean ranks of the two groups are not equal\n",
        "\n",
        "Analysis plan formulation\n",
        "Significance level : We will test our hypothesis at a 5% significance level\n",
        "\n",
        "Test method : We use the Mann-Whitney's test to determine whether one group has higher or lower income than the other group. Mann-Whitney U test is a nonparametric statistical significance test for determining whether two independent samples were drawn from a population with the same distribution. The default assumption or null hypothesis is that there is no difference between the distributions of the data samples. Rejection of this hypothesis suggests that there is likely some difference between the samples. More specifically, the test determines whether it is equally likely that any randomly selected observation from one sample will be greater or less than a sample in the other distribution. If violated, it suggests differing distributions. Therefore, if our assumption is correct, the result of the test should enable us to reject the null hypothesis."
      ],
      "metadata": {
        "id": "SgHzk0wYtUZz"
      }
    },
    {
      "cell_type": "code",
      "source": [
        "life=data[['Life_Satisfaction','Income']]\n",
        "\n",
        "Not_Satisfied=life[life['Life_Satisfaction']=='Not Satisfied']\n",
        "Neutral=life[life['Life_Satisfaction']=='Neutral']\n",
        "Satisfied=life[life['Life_Satisfaction']=='Satisfied']"
      ],
      "metadata": {
        "id": "DCs-bmwzLoFF"
      },
      "execution_count": 71,
      "outputs": []
    },
    {
      "cell_type": "code",
      "source": [
        "# normality tests of our two samples\n",
        "stat, p = shapiro(Not_Satisfied.Income)\n",
        "print('Statistics=%.3f, p=%.3f' % (stat, p))\n",
        "# interpret\n",
        "alpha = 0.05\n",
        "if p > alpha:\n",
        "\tprint('Sample looks Gaussian (fail to reject H0)')\n",
        "else:\n",
        "\tprint('Sample does not look Gaussian (reject H0)')"
      ],
      "metadata": {
        "colab": {
          "base_uri": "https://localhost:8080/"
        },
        "id": "Cg7jR9JzLoCV",
        "outputId": "0d3909e9-7d8b-4882-c2a5-a039778e491c"
      },
      "execution_count": 72,
      "outputs": [
        {
          "output_type": "stream",
          "name": "stdout",
          "text": [
            "Statistics=0.945, p=0.000\n",
            "Sample does not look Gaussian (reject H0)\n"
          ]
        }
      ]
    },
    {
      "cell_type": "code",
      "source": [
        "# normality tests of our two samples\n",
        "stat, p = shapiro(Neutral.Income)\n",
        "print('Statistics=%.3f, p=%.3f' % (stat, p))\n",
        "# interpret\n",
        "alpha = 0.05\n",
        "if p > alpha:\n",
        "\tprint('Sample looks Gaussian (fail to reject H0)')\n",
        "else:\n",
        "\tprint('Sample does not look Gaussian (reject H0)')"
      ],
      "metadata": {
        "colab": {
          "base_uri": "https://localhost:8080/"
        },
        "id": "OYioFVz-Ln_n",
        "outputId": "37f4a9d5-2eb8-4b39-e05a-b8bc80ed1822"
      },
      "execution_count": 73,
      "outputs": [
        {
          "output_type": "stream",
          "name": "stdout",
          "text": [
            "Statistics=0.947, p=0.000\n",
            "Sample does not look Gaussian (reject H0)\n"
          ]
        }
      ]
    },
    {
      "cell_type": "code",
      "source": [
        "# normality tests of our two samples\n",
        "stat, p = shapiro(Satisfied.Income)\n",
        "print('Statistics=%.3f, p=%.3f' % (stat, p))\n",
        "# interpret\n",
        "alpha = 0.05\n",
        "if p > alpha:\n",
        "\tprint('Sample looks Gaussian (fail to reject H0)')\n",
        "else:\n",
        "\tprint('Sample does not look Gaussian (reject H0)')"
      ],
      "metadata": {
        "colab": {
          "base_uri": "https://localhost:8080/"
        },
        "id": "TqXSNIMCLn9C",
        "outputId": "b90eb238-4295-49a5-8c6c-7f8c8798edbf"
      },
      "execution_count": 74,
      "outputs": [
        {
          "output_type": "stream",
          "name": "stdout",
          "text": [
            "Statistics=0.946, p=0.000\n",
            "Sample does not look Gaussian (reject H0)\n"
          ]
        }
      ]
    },
    {
      "cell_type": "markdown",
      "source": [
        "Spearman rank correlation is a non-parametric test that is used to measure the degree of association between two variables.\n",
        "\n",
        "Our second question was to find if there is a statistically significant correlation between the income and age.\n",
        "\n",
        "1. Hypothesis statement\n",
        "H_0 : There is no monotonic association between income and age\n",
        "H_a : There is a monotonic association between income and age\n",
        "2. Analysis plan formulation\n",
        "Significance level : We will test our hypothesis at 5% significance level\n",
        "Test method : We use the Spearman rank correlation test to determine if our two variables are correlated. This statistical method quantifies the degree to which ranked variables are associated by a monotonic function, meaning an increasing or decreasing relationship. As a statistical hypothesis test, the method assumes that the samples are uncorrelated (fail to reject H0).\n",
        "Therefore, if our assumption is correct, the result of the test should enable us to reject the null hypothesis."
      ],
      "metadata": {
        "id": "2gkCT_717pee"
      }
    },
    {
      "cell_type": "code",
      "source": [
        "Age=data[['Age','Income']]\n",
        "\n",
        "cor, pval = stats.spearmanr(Age[['Age']], Age[['Income']])\n",
        "print(\"Non-Parametric Spearman correlation test : correlation coefficient : %.4f, pval: %.4f\" % (cor, pval))"
      ],
      "metadata": {
        "colab": {
          "base_uri": "https://localhost:8080/"
        },
        "id": "Rd4z10UHLn3z",
        "outputId": "a3e9dfc2-a910-46b9-c47d-4f53d5ee77aa"
      },
      "execution_count": 75,
      "outputs": [
        {
          "output_type": "stream",
          "name": "stdout",
          "text": [
            "Non-Parametric Spearman correlation test : correlation coefficient : -0.0439, pval: 0.3272\n"
          ]
        }
      ]
    },
    {
      "cell_type": "markdown",
      "source": [
        "The closer Rs is to +1 or -1, the stronger the likely correlation. A perfect positive correlation is +1 and a perfect negative correlation is -1. The Rs value of -0.0439 suggests a fairly weak negative relationship.\n",
        "\n",
        "The weak correlation coefficient induces a Weak negative relationship between the two variables, that's mean fail to reject H0"
      ],
      "metadata": {
        "id": "c2koZQoB7PAu"
      }
    },
    {
      "cell_type": "markdown",
      "source": [
        "Categorical variables : Chi-square test for independance\n",
        "Our third question was to find if there is a statistically significant correlation between the diploma and the life satisfaction.\n",
        "\n",
        "1. Hypothesis statement\n",
        "H_0 : Education level and life satisfaction are independent\n",
        "H_a : Education level and life satisfaction are not independent\n",
        "\n",
        "2. Analysis plan formulation\n",
        "Significance level : We will test our hypothesis at a 5% significance level\n",
        "Test method : We use the Chi-square test for independence to determine whether there is a significant relationship between our two categorical variables."
      ],
      "metadata": {
        "id": "vawBXSfF_OyX"
      }
    },
    {
      "cell_type": "markdown",
      "source": [
        "Categorical variables : Chi-square test for independance\n",
        "Our third question was to find if there is a statistically significant correlation between the diploma and the marital situation.\n",
        "\n",
        "1. Hypothesis statement\n",
        "H_0 : Education and Life_Satisfaction are independent\n",
        "H_a : Education and Life_Satisfaction are not independent\n",
        "\n",
        "2. Analysis plan formulation\n",
        "Significance level : We will test our hypothesis at a 5% significance level\n",
        "Test method : We use the Chi-square test for independence to determine whether there is a significant relationship between our two categorical variables."
      ],
      "metadata": {
        "id": "YvAEqWIpFkOS"
      }
    },
    {
      "cell_type": "code",
      "source": [
        "Life_Satisfaction=data[['Education_Level','Life_Satisfaction']]\n",
        "crosstab = pd.crosstab(Life_Satisfaction[\"Education_Level\"], Life_Satisfaction[\"Life_Satisfaction\"])\n",
        "crosstab"
      ],
      "metadata": {
        "colab": {
          "base_uri": "https://localhost:8080/",
          "height": 206
        },
        "id": "bMcSedAyLn1Q",
        "outputId": "b3707588-4d11-4bd5-c7ff-af5915ac01e0"
      },
      "execution_count": 76,
      "outputs": [
        {
          "output_type": "execute_result",
          "data": {
            "text/plain": [
              "Life_Satisfaction  Neutral  Not Satisfied  Satisfied\n",
              "Education_Level                                     \n",
              "12                      39             36         39\n",
              "16                      44             36         30\n",
              "18                      57             32         49\n",
              "21                      58             42         38"
            ],
            "text/html": [
              "\n",
              "  <div id=\"df-71a256f7-e744-4350-91e3-dc7be4135b6d\" class=\"colab-df-container\">\n",
              "    <div>\n",
              "<style scoped>\n",
              "    .dataframe tbody tr th:only-of-type {\n",
              "        vertical-align: middle;\n",
              "    }\n",
              "\n",
              "    .dataframe tbody tr th {\n",
              "        vertical-align: top;\n",
              "    }\n",
              "\n",
              "    .dataframe thead th {\n",
              "        text-align: right;\n",
              "    }\n",
              "</style>\n",
              "<table border=\"1\" class=\"dataframe\">\n",
              "  <thead>\n",
              "    <tr style=\"text-align: right;\">\n",
              "      <th>Life_Satisfaction</th>\n",
              "      <th>Neutral</th>\n",
              "      <th>Not Satisfied</th>\n",
              "      <th>Satisfied</th>\n",
              "    </tr>\n",
              "    <tr>\n",
              "      <th>Education_Level</th>\n",
              "      <th></th>\n",
              "      <th></th>\n",
              "      <th></th>\n",
              "    </tr>\n",
              "  </thead>\n",
              "  <tbody>\n",
              "    <tr>\n",
              "      <th>12</th>\n",
              "      <td>39</td>\n",
              "      <td>36</td>\n",
              "      <td>39</td>\n",
              "    </tr>\n",
              "    <tr>\n",
              "      <th>16</th>\n",
              "      <td>44</td>\n",
              "      <td>36</td>\n",
              "      <td>30</td>\n",
              "    </tr>\n",
              "    <tr>\n",
              "      <th>18</th>\n",
              "      <td>57</td>\n",
              "      <td>32</td>\n",
              "      <td>49</td>\n",
              "    </tr>\n",
              "    <tr>\n",
              "      <th>21</th>\n",
              "      <td>58</td>\n",
              "      <td>42</td>\n",
              "      <td>38</td>\n",
              "    </tr>\n",
              "  </tbody>\n",
              "</table>\n",
              "</div>\n",
              "    <div class=\"colab-df-buttons\">\n",
              "\n",
              "  <div class=\"colab-df-container\">\n",
              "    <button class=\"colab-df-convert\" onclick=\"convertToInteractive('df-71a256f7-e744-4350-91e3-dc7be4135b6d')\"\n",
              "            title=\"Convert this dataframe to an interactive table.\"\n",
              "            style=\"display:none;\">\n",
              "\n",
              "  <svg xmlns=\"http://www.w3.org/2000/svg\" height=\"24px\" viewBox=\"0 -960 960 960\">\n",
              "    <path d=\"M120-120v-720h720v720H120Zm60-500h600v-160H180v160Zm220 220h160v-160H400v160Zm0 220h160v-160H400v160ZM180-400h160v-160H180v160Zm440 0h160v-160H620v160ZM180-180h160v-160H180v160Zm440 0h160v-160H620v160Z\"/>\n",
              "  </svg>\n",
              "    </button>\n",
              "\n",
              "  <style>\n",
              "    .colab-df-container {\n",
              "      display:flex;\n",
              "      gap: 12px;\n",
              "    }\n",
              "\n",
              "    .colab-df-convert {\n",
              "      background-color: #E8F0FE;\n",
              "      border: none;\n",
              "      border-radius: 50%;\n",
              "      cursor: pointer;\n",
              "      display: none;\n",
              "      fill: #1967D2;\n",
              "      height: 32px;\n",
              "      padding: 0 0 0 0;\n",
              "      width: 32px;\n",
              "    }\n",
              "\n",
              "    .colab-df-convert:hover {\n",
              "      background-color: #E2EBFA;\n",
              "      box-shadow: 0px 1px 2px rgba(60, 64, 67, 0.3), 0px 1px 3px 1px rgba(60, 64, 67, 0.15);\n",
              "      fill: #174EA6;\n",
              "    }\n",
              "\n",
              "    .colab-df-buttons div {\n",
              "      margin-bottom: 4px;\n",
              "    }\n",
              "\n",
              "    [theme=dark] .colab-df-convert {\n",
              "      background-color: #3B4455;\n",
              "      fill: #D2E3FC;\n",
              "    }\n",
              "\n",
              "    [theme=dark] .colab-df-convert:hover {\n",
              "      background-color: #434B5C;\n",
              "      box-shadow: 0px 1px 3px 1px rgba(0, 0, 0, 0.15);\n",
              "      filter: drop-shadow(0px 1px 2px rgba(0, 0, 0, 0.3));\n",
              "      fill: #FFFFFF;\n",
              "    }\n",
              "  </style>\n",
              "\n",
              "    <script>\n",
              "      const buttonEl =\n",
              "        document.querySelector('#df-71a256f7-e744-4350-91e3-dc7be4135b6d button.colab-df-convert');\n",
              "      buttonEl.style.display =\n",
              "        google.colab.kernel.accessAllowed ? 'block' : 'none';\n",
              "\n",
              "      async function convertToInteractive(key) {\n",
              "        const element = document.querySelector('#df-71a256f7-e744-4350-91e3-dc7be4135b6d');\n",
              "        const dataTable =\n",
              "          await google.colab.kernel.invokeFunction('convertToInteractive',\n",
              "                                                    [key], {});\n",
              "        if (!dataTable) return;\n",
              "\n",
              "        const docLinkHtml = 'Like what you see? Visit the ' +\n",
              "          '<a target=\"_blank\" href=https://colab.research.google.com/notebooks/data_table.ipynb>data table notebook</a>'\n",
              "          + ' to learn more about interactive tables.';\n",
              "        element.innerHTML = '';\n",
              "        dataTable['output_type'] = 'display_data';\n",
              "        await google.colab.output.renderOutput(dataTable, element);\n",
              "        const docLink = document.createElement('div');\n",
              "        docLink.innerHTML = docLinkHtml;\n",
              "        element.appendChild(docLink);\n",
              "      }\n",
              "    </script>\n",
              "  </div>\n",
              "\n",
              "\n",
              "<div id=\"df-dc9a81e7-4e5e-499f-bf24-7c0483336275\">\n",
              "  <button class=\"colab-df-quickchart\" onclick=\"quickchart('df-dc9a81e7-4e5e-499f-bf24-7c0483336275')\"\n",
              "            title=\"Suggest charts\"\n",
              "            style=\"display:none;\">\n",
              "\n",
              "<svg xmlns=\"http://www.w3.org/2000/svg\" height=\"24px\"viewBox=\"0 0 24 24\"\n",
              "     width=\"24px\">\n",
              "    <g>\n",
              "        <path d=\"M19 3H5c-1.1 0-2 .9-2 2v14c0 1.1.9 2 2 2h14c1.1 0 2-.9 2-2V5c0-1.1-.9-2-2-2zM9 17H7v-7h2v7zm4 0h-2V7h2v10zm4 0h-2v-4h2v4z\"/>\n",
              "    </g>\n",
              "</svg>\n",
              "  </button>\n",
              "\n",
              "<style>\n",
              "  .colab-df-quickchart {\n",
              "      --bg-color: #E8F0FE;\n",
              "      --fill-color: #1967D2;\n",
              "      --hover-bg-color: #E2EBFA;\n",
              "      --hover-fill-color: #174EA6;\n",
              "      --disabled-fill-color: #AAA;\n",
              "      --disabled-bg-color: #DDD;\n",
              "  }\n",
              "\n",
              "  [theme=dark] .colab-df-quickchart {\n",
              "      --bg-color: #3B4455;\n",
              "      --fill-color: #D2E3FC;\n",
              "      --hover-bg-color: #434B5C;\n",
              "      --hover-fill-color: #FFFFFF;\n",
              "      --disabled-bg-color: #3B4455;\n",
              "      --disabled-fill-color: #666;\n",
              "  }\n",
              "\n",
              "  .colab-df-quickchart {\n",
              "    background-color: var(--bg-color);\n",
              "    border: none;\n",
              "    border-radius: 50%;\n",
              "    cursor: pointer;\n",
              "    display: none;\n",
              "    fill: var(--fill-color);\n",
              "    height: 32px;\n",
              "    padding: 0;\n",
              "    width: 32px;\n",
              "  }\n",
              "\n",
              "  .colab-df-quickchart:hover {\n",
              "    background-color: var(--hover-bg-color);\n",
              "    box-shadow: 0 1px 2px rgba(60, 64, 67, 0.3), 0 1px 3px 1px rgba(60, 64, 67, 0.15);\n",
              "    fill: var(--button-hover-fill-color);\n",
              "  }\n",
              "\n",
              "  .colab-df-quickchart-complete:disabled,\n",
              "  .colab-df-quickchart-complete:disabled:hover {\n",
              "    background-color: var(--disabled-bg-color);\n",
              "    fill: var(--disabled-fill-color);\n",
              "    box-shadow: none;\n",
              "  }\n",
              "\n",
              "  .colab-df-spinner {\n",
              "    border: 2px solid var(--fill-color);\n",
              "    border-color: transparent;\n",
              "    border-bottom-color: var(--fill-color);\n",
              "    animation:\n",
              "      spin 1s steps(1) infinite;\n",
              "  }\n",
              "\n",
              "  @keyframes spin {\n",
              "    0% {\n",
              "      border-color: transparent;\n",
              "      border-bottom-color: var(--fill-color);\n",
              "      border-left-color: var(--fill-color);\n",
              "    }\n",
              "    20% {\n",
              "      border-color: transparent;\n",
              "      border-left-color: var(--fill-color);\n",
              "      border-top-color: var(--fill-color);\n",
              "    }\n",
              "    30% {\n",
              "      border-color: transparent;\n",
              "      border-left-color: var(--fill-color);\n",
              "      border-top-color: var(--fill-color);\n",
              "      border-right-color: var(--fill-color);\n",
              "    }\n",
              "    40% {\n",
              "      border-color: transparent;\n",
              "      border-right-color: var(--fill-color);\n",
              "      border-top-color: var(--fill-color);\n",
              "    }\n",
              "    60% {\n",
              "      border-color: transparent;\n",
              "      border-right-color: var(--fill-color);\n",
              "    }\n",
              "    80% {\n",
              "      border-color: transparent;\n",
              "      border-right-color: var(--fill-color);\n",
              "      border-bottom-color: var(--fill-color);\n",
              "    }\n",
              "    90% {\n",
              "      border-color: transparent;\n",
              "      border-bottom-color: var(--fill-color);\n",
              "    }\n",
              "  }\n",
              "</style>\n",
              "\n",
              "  <script>\n",
              "    async function quickchart(key) {\n",
              "      const quickchartButtonEl =\n",
              "        document.querySelector('#' + key + ' button');\n",
              "      quickchartButtonEl.disabled = true;  // To prevent multiple clicks.\n",
              "      quickchartButtonEl.classList.add('colab-df-spinner');\n",
              "      try {\n",
              "        const charts = await google.colab.kernel.invokeFunction(\n",
              "            'suggestCharts', [key], {});\n",
              "      } catch (error) {\n",
              "        console.error('Error during call to suggestCharts:', error);\n",
              "      }\n",
              "      quickchartButtonEl.classList.remove('colab-df-spinner');\n",
              "      quickchartButtonEl.classList.add('colab-df-quickchart-complete');\n",
              "    }\n",
              "    (() => {\n",
              "      let quickchartButtonEl =\n",
              "        document.querySelector('#df-dc9a81e7-4e5e-499f-bf24-7c0483336275 button');\n",
              "      quickchartButtonEl.style.display =\n",
              "        google.colab.kernel.accessAllowed ? 'block' : 'none';\n",
              "    })();\n",
              "  </script>\n",
              "</div>\n",
              "    </div>\n",
              "  </div>\n"
            ]
          },
          "metadata": {},
          "execution_count": 76
        }
      ]
    },
    {
      "cell_type": "code",
      "source": [
        "stat, p, dof, expected = chi2_contingency(crosstab)\n",
        "print('Degress of freedom = %d' % dof)"
      ],
      "metadata": {
        "colab": {
          "base_uri": "https://localhost:8080/"
        },
        "id": "WLZ5c1JnLnyt",
        "outputId": "461aeefa-908d-4bc8-c64b-b9f790b42e15"
      },
      "execution_count": 77,
      "outputs": [
        {
          "output_type": "stream",
          "name": "stdout",
          "text": [
            "Degress of freedom = 6\n"
          ]
        }
      ]
    },
    {
      "cell_type": "code",
      "source": [
        "print(expected)"
      ],
      "metadata": {
        "colab": {
          "base_uri": "https://localhost:8080/"
        },
        "id": "mhH1L1sXLnwF",
        "outputId": "55c0c7e0-0318-4ee4-c3a9-fe7ec5997ecb"
      },
      "execution_count": 78,
      "outputs": [
        {
          "output_type": "stream",
          "name": "stdout",
          "text": [
            "[[45.144 33.288 35.568]\n",
            " [43.56  32.12  34.32 ]\n",
            " [54.648 40.296 43.056]\n",
            " [54.648 40.296 43.056]]\n"
          ]
        }
      ]
    },
    {
      "cell_type": "code",
      "source": [
        "prob = 0.95\n",
        "critical = chi2.ppf(prob, dof)\n",
        "print('probability=%.3f, critical=%.3f, stat=%.3f' % (prob, critical, stat))"
      ],
      "metadata": {
        "colab": {
          "base_uri": "https://localhost:8080/"
        },
        "id": "KqQUGjFELnta",
        "outputId": "f3cae123-99f3-4306-fe74-e477c28b5b54"
      },
      "execution_count": 79,
      "outputs": [
        {
          "output_type": "stream",
          "name": "stdout",
          "text": [
            "probability=0.950, critical=12.592, stat=5.906\n"
          ]
        }
      ]
    },
    {
      "cell_type": "markdown",
      "source": [
        "P-value :\n",
        "\n",
        "The P-value is the probability of observing a sample statistic as extreme as the test statistic. Since the test statistic is a Chi-square, we should use use the Chi-Square table to assess the probability associated with the test statistic by using the degrees of freedom we found above."
      ],
      "metadata": {
        "id": "wilBAHSvHLOA"
      }
    },
    {
      "cell_type": "code",
      "source": [
        "if abs(stat) >= critical:\n",
        "\tprint('Dependent (We reject H0)')\n",
        "else:\n",
        "\tprint('Independent (We fail to reject H0)')\n",
        "alpha = 1.0 - prob\n",
        "print('significance=%.3f, p=%.3f' % (alpha, p))\n",
        "if p <= alpha:\n",
        "\tprint('Dependent (We reject H0)')\n",
        "else:\n",
        "\tprint('Independent (We fail to reject H0)')"
      ],
      "metadata": {
        "colab": {
          "base_uri": "https://localhost:8080/"
        },
        "id": "zbXVh3DX9Sc6",
        "outputId": "25f9cb90-4ca4-4e47-b8d5-02ca2084ceff"
      },
      "execution_count": 80,
      "outputs": [
        {
          "output_type": "stream",
          "name": "stdout",
          "text": [
            "Independent (We fail to reject H0)\n",
            "significance=0.050, p=0.434\n",
            "Independent (We fail to reject H0)\n"
          ]
        }
      ]
    },
    {
      "cell_type": "markdown",
      "source": [
        "Interpretation of the results\n",
        "\n",
        "We can interpret the results by two ways :\n",
        "\n",
        "The P-value is superior than the significance level of 5%, we fail to reject the null hypothesis.\n",
        "\n",
        "The Test-statistic is inferior than the critical value, we fail to reject the null hypothesis.\n",
        "\n",
        "We can conclude that the life satisfaction is independent from the diploma owned at a 95% confidence level"
      ],
      "metadata": {
        "id": "o_DqYko5HURi"
      }
    }
  ]
}